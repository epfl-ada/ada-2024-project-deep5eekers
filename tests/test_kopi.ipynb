{
 "cells": [
  {
   "cell_type": "markdown",
   "metadata": {},
   "source": [
    "### Imports and Libraries"
   ]
  },
  {
   "cell_type": "code",
   "execution_count": 245,
   "metadata": {},
   "outputs": [
    {
     "name": "stdout",
     "output_type": "stream",
     "text": [
      "The autoreload extension is already loaded. To reload it, use:\n",
      "  %reload_ext autoreload\n"
     ]
    }
   ],
   "source": [
    "import pandas as pd\n",
    "import os\n",
    "import sys\n",
    "import ast\n",
    "\n",
    "# Add the src directory to the system path\n",
    "sys.path.append(os.path.abspath('../src'))\n",
    "\n",
    "from utils import *\n",
    "\n",
    "import matplotlib.pyplot as plt\n",
    "import seaborn as sns\n",
    "\n",
    "%matplotlib inline\n",
    "%load_ext autoreload\n",
    "%autoreload 2"
   ]
  },
  {
   "cell_type": "markdown",
   "metadata": {},
   "source": [
    "### Load CMU dataset into different dataframes"
   ]
  },
  {
   "cell_type": "code",
   "execution_count": 246,
   "metadata": {},
   "outputs": [
    {
     "name": "stdout",
     "output_type": "stream",
     "text": [
      "Dataframes creation starting for CMU datasets...\n",
      "Dataframes creation for CMU datasets done.\n"
     ]
    }
   ],
   "source": [
    "file_path = \"../MovieSummaries\"\n",
    "\n",
    "print(\"Dataframes creation starting for CMU datasets...\")\n",
    "\n",
    "df_plot_summaries = pd.read_csv(file_path + \"/plot_summaries.txt\", delimiter=\"\\t\", header=None, names=[\"ID\", \"Summary\"]) # renaming the columns for better understanding\n",
    "df_movie_metadata = pd.read_csv(file_path + \"/movie.metadata.tsv\", delimiter=\"\\t\", header=None) \n",
    "df_character_metadata = pd.read_csv(file_path + \"/character.metadata.tsv\", delimiter=\"\\t\", header=None) \n",
    "df_tvtropes_clusters = pd.read_csv(file_path + \"/tvtropes.clusters.txt\", delimiter=\"\\t\", header=None) \n",
    "df_name_clusters = pd.read_csv(file_path + \"/name.clusters.txt\", delimiter=\"\\t\", header=None) \n",
    "\n",
    "print(\"Dataframes creation for CMU datasets done.\")"
   ]
  },
  {
   "cell_type": "code",
   "execution_count": 247,
   "metadata": {},
   "outputs": [
    {
     "data": {
      "text/html": [
       "<div>\n",
       "<style scoped>\n",
       "    .dataframe tbody tr th:only-of-type {\n",
       "        vertical-align: middle;\n",
       "    }\n",
       "\n",
       "    .dataframe tbody tr th {\n",
       "        vertical-align: top;\n",
       "    }\n",
       "\n",
       "    .dataframe thead th {\n",
       "        text-align: right;\n",
       "    }\n",
       "</style>\n",
       "<table border=\"1\" class=\"dataframe\">\n",
       "  <thead>\n",
       "    <tr style=\"text-align: right;\">\n",
       "      <th></th>\n",
       "      <th>ID</th>\n",
       "      <th>Summary</th>\n",
       "    </tr>\n",
       "  </thead>\n",
       "  <tbody>\n",
       "    <tr>\n",
       "      <th>0</th>\n",
       "      <td>23890098</td>\n",
       "      <td>Shlykov, a hard-working taxi driver and Lyosha...</td>\n",
       "    </tr>\n",
       "    <tr>\n",
       "      <th>1</th>\n",
       "      <td>31186339</td>\n",
       "      <td>The nation of Panem consists of a wealthy Capi...</td>\n",
       "    </tr>\n",
       "    <tr>\n",
       "      <th>2</th>\n",
       "      <td>20663735</td>\n",
       "      <td>Poovalli Induchoodan  is sentenced for six yea...</td>\n",
       "    </tr>\n",
       "    <tr>\n",
       "      <th>3</th>\n",
       "      <td>2231378</td>\n",
       "      <td>The Lemon Drop Kid , a New York City swindler,...</td>\n",
       "    </tr>\n",
       "    <tr>\n",
       "      <th>4</th>\n",
       "      <td>595909</td>\n",
       "      <td>Seventh-day Adventist Church pastor Michael Ch...</td>\n",
       "    </tr>\n",
       "  </tbody>\n",
       "</table>\n",
       "</div>"
      ],
      "text/plain": [
       "         ID                                            Summary\n",
       "0  23890098  Shlykov, a hard-working taxi driver and Lyosha...\n",
       "1  31186339  The nation of Panem consists of a wealthy Capi...\n",
       "2  20663735  Poovalli Induchoodan  is sentenced for six yea...\n",
       "3   2231378  The Lemon Drop Kid , a New York City swindler,...\n",
       "4    595909  Seventh-day Adventist Church pastor Michael Ch..."
      ]
     },
     "execution_count": 247,
     "metadata": {},
     "output_type": "execute_result"
    }
   ],
   "source": [
    "df_plot_summaries.head()"
   ]
  },
  {
   "cell_type": "code",
   "execution_count": 248,
   "metadata": {},
   "outputs": [],
   "source": [
    "# Fix names of the columns\n",
    "df_movie_metadata.columns = ['wiki_movie_ID', 'freebase_movie_ID', 'title', 'release_date', 'box_office', 'runtime', 'languages', 'countries', 'genres']\n",
    "df_character_metadata.columns = ['wiki_movie_ID', 'freebase_movie_ID', 'release_date', 'char', 'birth_date', 'gender', 'height', 'ethnicity', 'actor', 'age_at_release','freebase_map_ID', 'freebase_char_ID', 'freebase_actor_ID']\n",
    "df_tvtropes_clusters.columns = ['cluster','dictionary']"
   ]
  },
  {
   "cell_type": "markdown",
   "metadata": {},
   "source": [
    "## Format the dataframes to use them easily"
   ]
  },
  {
   "cell_type": "code",
   "execution_count": 249,
   "metadata": {},
   "outputs": [],
   "source": [
    "df_movie_metadata['languages'] = df_movie_metadata['languages'].apply(clean_column)\n",
    "df_movie_metadata['countries'] = df_movie_metadata['countries'].apply(clean_column)\n",
    "df_movie_metadata['genres'] = df_movie_metadata['genres'].apply(clean_column)"
   ]
  },
  {
   "cell_type": "code",
   "execution_count": 250,
   "metadata": {},
   "outputs": [
    {
     "data": {
      "text/html": [
       "<div>\n",
       "<style scoped>\n",
       "    .dataframe tbody tr th:only-of-type {\n",
       "        vertical-align: middle;\n",
       "    }\n",
       "\n",
       "    .dataframe tbody tr th {\n",
       "        vertical-align: top;\n",
       "    }\n",
       "\n",
       "    .dataframe thead th {\n",
       "        text-align: right;\n",
       "    }\n",
       "</style>\n",
       "<table border=\"1\" class=\"dataframe\">\n",
       "  <thead>\n",
       "    <tr style=\"text-align: right;\">\n",
       "      <th></th>\n",
       "      <th>ID</th>\n",
       "      <th>Summary</th>\n",
       "    </tr>\n",
       "  </thead>\n",
       "  <tbody>\n",
       "    <tr>\n",
       "      <th>0</th>\n",
       "      <td>23890098</td>\n",
       "      <td>Shlykov, a hard-working taxi driver and Lyosha...</td>\n",
       "    </tr>\n",
       "    <tr>\n",
       "      <th>1</th>\n",
       "      <td>31186339</td>\n",
       "      <td>The nation of Panem consists of a wealthy Capi...</td>\n",
       "    </tr>\n",
       "    <tr>\n",
       "      <th>2</th>\n",
       "      <td>20663735</td>\n",
       "      <td>Poovalli Induchoodan  is sentenced for six yea...</td>\n",
       "    </tr>\n",
       "    <tr>\n",
       "      <th>3</th>\n",
       "      <td>2231378</td>\n",
       "      <td>The Lemon Drop Kid , a New York City swindler,...</td>\n",
       "    </tr>\n",
       "    <tr>\n",
       "      <th>4</th>\n",
       "      <td>595909</td>\n",
       "      <td>Seventh-day Adventist Church pastor Michael Ch...</td>\n",
       "    </tr>\n",
       "  </tbody>\n",
       "</table>\n",
       "</div>"
      ],
      "text/plain": [
       "         ID                                            Summary\n",
       "0  23890098  Shlykov, a hard-working taxi driver and Lyosha...\n",
       "1  31186339  The nation of Panem consists of a wealthy Capi...\n",
       "2  20663735  Poovalli Induchoodan  is sentenced for six yea...\n",
       "3   2231378  The Lemon Drop Kid , a New York City swindler,...\n",
       "4    595909  Seventh-day Adventist Church pastor Michael Ch..."
      ]
     },
     "execution_count": 250,
     "metadata": {},
     "output_type": "execute_result"
    }
   ],
   "source": [
    "df_plot_summaries.head()"
   ]
  },
  {
   "cell_type": "code",
   "execution_count": 251,
   "metadata": {},
   "outputs": [
    {
     "data": {
      "text/html": [
       "<div>\n",
       "<style scoped>\n",
       "    .dataframe tbody tr th:only-of-type {\n",
       "        vertical-align: middle;\n",
       "    }\n",
       "\n",
       "    .dataframe tbody tr th {\n",
       "        vertical-align: top;\n",
       "    }\n",
       "\n",
       "    .dataframe thead th {\n",
       "        text-align: right;\n",
       "    }\n",
       "</style>\n",
       "<table border=\"1\" class=\"dataframe\">\n",
       "  <thead>\n",
       "    <tr style=\"text-align: right;\">\n",
       "      <th></th>\n",
       "      <th>wiki_movie_ID</th>\n",
       "      <th>freebase_movie_ID</th>\n",
       "      <th>title</th>\n",
       "      <th>release_date</th>\n",
       "      <th>box_office</th>\n",
       "      <th>runtime</th>\n",
       "      <th>languages</th>\n",
       "      <th>countries</th>\n",
       "      <th>genres</th>\n",
       "    </tr>\n",
       "  </thead>\n",
       "  <tbody>\n",
       "    <tr>\n",
       "      <th>0</th>\n",
       "      <td>975900</td>\n",
       "      <td>/m/03vyhn</td>\n",
       "      <td>Ghosts of Mars</td>\n",
       "      <td>2001-08-24</td>\n",
       "      <td>14010832.0</td>\n",
       "      <td>98.0</td>\n",
       "      <td>English Language</td>\n",
       "      <td>United States of America</td>\n",
       "      <td>Thriller, Science Fiction, Horror, Adventure, ...</td>\n",
       "    </tr>\n",
       "    <tr>\n",
       "      <th>1</th>\n",
       "      <td>3196793</td>\n",
       "      <td>/m/08yl5d</td>\n",
       "      <td>Getting Away with Murder: The JonBenét Ramsey ...</td>\n",
       "      <td>2000-02-16</td>\n",
       "      <td>NaN</td>\n",
       "      <td>95.0</td>\n",
       "      <td>English Language</td>\n",
       "      <td>United States of America</td>\n",
       "      <td>Mystery, Biographical film, Drama, Crime Drama</td>\n",
       "    </tr>\n",
       "    <tr>\n",
       "      <th>2</th>\n",
       "      <td>28463795</td>\n",
       "      <td>/m/0crgdbh</td>\n",
       "      <td>Brun bitter</td>\n",
       "      <td>1988</td>\n",
       "      <td>NaN</td>\n",
       "      <td>83.0</td>\n",
       "      <td>Norwegian Language</td>\n",
       "      <td>Norway</td>\n",
       "      <td>Crime Fiction, Drama</td>\n",
       "    </tr>\n",
       "    <tr>\n",
       "      <th>3</th>\n",
       "      <td>9363483</td>\n",
       "      <td>/m/0285_cd</td>\n",
       "      <td>White Of The Eye</td>\n",
       "      <td>1987</td>\n",
       "      <td>NaN</td>\n",
       "      <td>110.0</td>\n",
       "      <td>English Language</td>\n",
       "      <td>United Kingdom</td>\n",
       "      <td>Thriller, Erotic thriller, Psychological thriller</td>\n",
       "    </tr>\n",
       "    <tr>\n",
       "      <th>4</th>\n",
       "      <td>261236</td>\n",
       "      <td>/m/01mrr1</td>\n",
       "      <td>A Woman in Flames</td>\n",
       "      <td>1983</td>\n",
       "      <td>NaN</td>\n",
       "      <td>106.0</td>\n",
       "      <td>German Language</td>\n",
       "      <td>Germany</td>\n",
       "      <td>Drama</td>\n",
       "    </tr>\n",
       "  </tbody>\n",
       "</table>\n",
       "</div>"
      ],
      "text/plain": [
       "   wiki_movie_ID freebase_movie_ID  \\\n",
       "0         975900         /m/03vyhn   \n",
       "1        3196793         /m/08yl5d   \n",
       "2       28463795        /m/0crgdbh   \n",
       "3        9363483        /m/0285_cd   \n",
       "4         261236         /m/01mrr1   \n",
       "\n",
       "                                               title release_date  box_office  \\\n",
       "0                                     Ghosts of Mars   2001-08-24  14010832.0   \n",
       "1  Getting Away with Murder: The JonBenét Ramsey ...   2000-02-16         NaN   \n",
       "2                                        Brun bitter         1988         NaN   \n",
       "3                                   White Of The Eye         1987         NaN   \n",
       "4                                  A Woman in Flames         1983         NaN   \n",
       "\n",
       "   runtime           languages                 countries  \\\n",
       "0     98.0    English Language  United States of America   \n",
       "1     95.0    English Language  United States of America   \n",
       "2     83.0  Norwegian Language                    Norway   \n",
       "3    110.0    English Language            United Kingdom   \n",
       "4    106.0     German Language                   Germany   \n",
       "\n",
       "                                              genres  \n",
       "0  Thriller, Science Fiction, Horror, Adventure, ...  \n",
       "1     Mystery, Biographical film, Drama, Crime Drama  \n",
       "2                               Crime Fiction, Drama  \n",
       "3  Thriller, Erotic thriller, Psychological thriller  \n",
       "4                                              Drama  "
      ]
     },
     "execution_count": 251,
     "metadata": {},
     "output_type": "execute_result"
    }
   ],
   "source": [
    "df_movie_metadata.head()"
   ]
  },
  {
   "cell_type": "code",
   "execution_count": 252,
   "metadata": {},
   "outputs": [
    {
     "data": {
      "text/html": [
       "<div>\n",
       "<style scoped>\n",
       "    .dataframe tbody tr th:only-of-type {\n",
       "        vertical-align: middle;\n",
       "    }\n",
       "\n",
       "    .dataframe tbody tr th {\n",
       "        vertical-align: top;\n",
       "    }\n",
       "\n",
       "    .dataframe thead th {\n",
       "        text-align: right;\n",
       "    }\n",
       "</style>\n",
       "<table border=\"1\" class=\"dataframe\">\n",
       "  <thead>\n",
       "    <tr style=\"text-align: right;\">\n",
       "      <th></th>\n",
       "      <th>wiki_movie_ID</th>\n",
       "      <th>freebase_movie_ID</th>\n",
       "      <th>release_date</th>\n",
       "      <th>char</th>\n",
       "      <th>birth_date</th>\n",
       "      <th>gender</th>\n",
       "      <th>height</th>\n",
       "      <th>ethnicity</th>\n",
       "      <th>actor</th>\n",
       "      <th>age_at_release</th>\n",
       "      <th>freebase_map_ID</th>\n",
       "      <th>freebase_char_ID</th>\n",
       "      <th>freebase_actor_ID</th>\n",
       "    </tr>\n",
       "  </thead>\n",
       "  <tbody>\n",
       "    <tr>\n",
       "      <th>0</th>\n",
       "      <td>975900</td>\n",
       "      <td>/m/03vyhn</td>\n",
       "      <td>2001-08-24</td>\n",
       "      <td>Akooshay</td>\n",
       "      <td>1958-08-26</td>\n",
       "      <td>F</td>\n",
       "      <td>1.620</td>\n",
       "      <td>NaN</td>\n",
       "      <td>Wanda De Jesus</td>\n",
       "      <td>42.0</td>\n",
       "      <td>/m/0bgchxw</td>\n",
       "      <td>/m/0bgcj3x</td>\n",
       "      <td>/m/03wcfv7</td>\n",
       "    </tr>\n",
       "    <tr>\n",
       "      <th>1</th>\n",
       "      <td>975900</td>\n",
       "      <td>/m/03vyhn</td>\n",
       "      <td>2001-08-24</td>\n",
       "      <td>Lieutenant Melanie Ballard</td>\n",
       "      <td>1974-08-15</td>\n",
       "      <td>F</td>\n",
       "      <td>1.780</td>\n",
       "      <td>/m/044038p</td>\n",
       "      <td>Natasha Henstridge</td>\n",
       "      <td>27.0</td>\n",
       "      <td>/m/0jys3m</td>\n",
       "      <td>/m/0bgchn4</td>\n",
       "      <td>/m/0346l4</td>\n",
       "    </tr>\n",
       "    <tr>\n",
       "      <th>2</th>\n",
       "      <td>975900</td>\n",
       "      <td>/m/03vyhn</td>\n",
       "      <td>2001-08-24</td>\n",
       "      <td>Desolation Williams</td>\n",
       "      <td>1969-06-15</td>\n",
       "      <td>M</td>\n",
       "      <td>1.727</td>\n",
       "      <td>/m/0x67</td>\n",
       "      <td>Ice Cube</td>\n",
       "      <td>32.0</td>\n",
       "      <td>/m/0jys3g</td>\n",
       "      <td>/m/0bgchn_</td>\n",
       "      <td>/m/01vw26l</td>\n",
       "    </tr>\n",
       "    <tr>\n",
       "      <th>3</th>\n",
       "      <td>975900</td>\n",
       "      <td>/m/03vyhn</td>\n",
       "      <td>2001-08-24</td>\n",
       "      <td>Sgt Jericho Butler</td>\n",
       "      <td>1967-09-12</td>\n",
       "      <td>M</td>\n",
       "      <td>1.750</td>\n",
       "      <td>NaN</td>\n",
       "      <td>Jason Statham</td>\n",
       "      <td>33.0</td>\n",
       "      <td>/m/02vchl6</td>\n",
       "      <td>/m/0bgchnq</td>\n",
       "      <td>/m/034hyc</td>\n",
       "    </tr>\n",
       "    <tr>\n",
       "      <th>4</th>\n",
       "      <td>975900</td>\n",
       "      <td>/m/03vyhn</td>\n",
       "      <td>2001-08-24</td>\n",
       "      <td>Bashira Kincaid</td>\n",
       "      <td>1977-09-25</td>\n",
       "      <td>F</td>\n",
       "      <td>1.650</td>\n",
       "      <td>NaN</td>\n",
       "      <td>Clea DuVall</td>\n",
       "      <td>23.0</td>\n",
       "      <td>/m/02vbb3r</td>\n",
       "      <td>/m/0bgchp9</td>\n",
       "      <td>/m/01y9xg</td>\n",
       "    </tr>\n",
       "  </tbody>\n",
       "</table>\n",
       "</div>"
      ],
      "text/plain": [
       "   wiki_movie_ID freebase_movie_ID release_date                        char  \\\n",
       "0         975900         /m/03vyhn   2001-08-24                    Akooshay   \n",
       "1         975900         /m/03vyhn   2001-08-24  Lieutenant Melanie Ballard   \n",
       "2         975900         /m/03vyhn   2001-08-24         Desolation Williams   \n",
       "3         975900         /m/03vyhn   2001-08-24          Sgt Jericho Butler   \n",
       "4         975900         /m/03vyhn   2001-08-24             Bashira Kincaid   \n",
       "\n",
       "   birth_date gender  height   ethnicity               actor  age_at_release  \\\n",
       "0  1958-08-26      F   1.620         NaN      Wanda De Jesus            42.0   \n",
       "1  1974-08-15      F   1.780  /m/044038p  Natasha Henstridge            27.0   \n",
       "2  1969-06-15      M   1.727     /m/0x67            Ice Cube            32.0   \n",
       "3  1967-09-12      M   1.750         NaN       Jason Statham            33.0   \n",
       "4  1977-09-25      F   1.650         NaN         Clea DuVall            23.0   \n",
       "\n",
       "  freebase_map_ID freebase_char_ID freebase_actor_ID  \n",
       "0      /m/0bgchxw       /m/0bgcj3x        /m/03wcfv7  \n",
       "1       /m/0jys3m       /m/0bgchn4         /m/0346l4  \n",
       "2       /m/0jys3g       /m/0bgchn_        /m/01vw26l  \n",
       "3      /m/02vchl6       /m/0bgchnq         /m/034hyc  \n",
       "4      /m/02vbb3r       /m/0bgchp9         /m/01y9xg  "
      ]
     },
     "execution_count": 252,
     "metadata": {},
     "output_type": "execute_result"
    }
   ],
   "source": [
    "df_character_metadata.head()"
   ]
  },
  {
   "cell_type": "code",
   "execution_count": 253,
   "metadata": {},
   "outputs": [
    {
     "data": {
      "text/html": [
       "<div>\n",
       "<style scoped>\n",
       "    .dataframe tbody tr th:only-of-type {\n",
       "        vertical-align: middle;\n",
       "    }\n",
       "\n",
       "    .dataframe tbody tr th {\n",
       "        vertical-align: top;\n",
       "    }\n",
       "\n",
       "    .dataframe thead th {\n",
       "        text-align: right;\n",
       "    }\n",
       "</style>\n",
       "<table border=\"1\" class=\"dataframe\">\n",
       "  <thead>\n",
       "    <tr style=\"text-align: right;\">\n",
       "      <th></th>\n",
       "      <th>cluster</th>\n",
       "      <th>dictionary</th>\n",
       "    </tr>\n",
       "  </thead>\n",
       "  <tbody>\n",
       "    <tr>\n",
       "      <th>0</th>\n",
       "      <td>absent_minded_professor</td>\n",
       "      <td>{\"char\": \"Professor Philip Brainard\", \"movie\":...</td>\n",
       "    </tr>\n",
       "    <tr>\n",
       "      <th>1</th>\n",
       "      <td>absent_minded_professor</td>\n",
       "      <td>{\"char\": \"Professor Keenbean\", \"movie\": \"Richi...</td>\n",
       "    </tr>\n",
       "    <tr>\n",
       "      <th>2</th>\n",
       "      <td>absent_minded_professor</td>\n",
       "      <td>{\"char\": \"Dr. Reinhardt Lane\", \"movie\": \"The S...</td>\n",
       "    </tr>\n",
       "    <tr>\n",
       "      <th>3</th>\n",
       "      <td>absent_minded_professor</td>\n",
       "      <td>{\"char\": \"Dr. Harold Medford\", \"movie\": \"Them!...</td>\n",
       "    </tr>\n",
       "    <tr>\n",
       "      <th>4</th>\n",
       "      <td>absent_minded_professor</td>\n",
       "      <td>{\"char\": \"Daniel Jackson\", \"movie\": \"Stargate\"...</td>\n",
       "    </tr>\n",
       "  </tbody>\n",
       "</table>\n",
       "</div>"
      ],
      "text/plain": [
       "                   cluster                                         dictionary\n",
       "0  absent_minded_professor  {\"char\": \"Professor Philip Brainard\", \"movie\":...\n",
       "1  absent_minded_professor  {\"char\": \"Professor Keenbean\", \"movie\": \"Richi...\n",
       "2  absent_minded_professor  {\"char\": \"Dr. Reinhardt Lane\", \"movie\": \"The S...\n",
       "3  absent_minded_professor  {\"char\": \"Dr. Harold Medford\", \"movie\": \"Them!...\n",
       "4  absent_minded_professor  {\"char\": \"Daniel Jackson\", \"movie\": \"Stargate\"..."
      ]
     },
     "execution_count": 253,
     "metadata": {},
     "output_type": "execute_result"
    }
   ],
   "source": [
    "df_tvtropes_clusters.head()"
   ]
  },
  {
   "cell_type": "code",
   "execution_count": 254,
   "metadata": {},
   "outputs": [
    {
     "data": {
      "text/html": [
       "<div>\n",
       "<style scoped>\n",
       "    .dataframe tbody tr th:only-of-type {\n",
       "        vertical-align: middle;\n",
       "    }\n",
       "\n",
       "    .dataframe tbody tr th {\n",
       "        vertical-align: top;\n",
       "    }\n",
       "\n",
       "    .dataframe thead th {\n",
       "        text-align: right;\n",
       "    }\n",
       "</style>\n",
       "<table border=\"1\" class=\"dataframe\">\n",
       "  <thead>\n",
       "    <tr style=\"text-align: right;\">\n",
       "      <th></th>\n",
       "      <th>0</th>\n",
       "      <th>1</th>\n",
       "    </tr>\n",
       "  </thead>\n",
       "  <tbody>\n",
       "    <tr>\n",
       "      <th>0</th>\n",
       "      <td>Stuart Little</td>\n",
       "      <td>/m/0k3w9c</td>\n",
       "    </tr>\n",
       "    <tr>\n",
       "      <th>1</th>\n",
       "      <td>Stuart Little</td>\n",
       "      <td>/m/0k3wcx</td>\n",
       "    </tr>\n",
       "    <tr>\n",
       "      <th>2</th>\n",
       "      <td>Stuart Little</td>\n",
       "      <td>/m/0k3wbn</td>\n",
       "    </tr>\n",
       "    <tr>\n",
       "      <th>3</th>\n",
       "      <td>John Doe</td>\n",
       "      <td>/m/0jyg35</td>\n",
       "    </tr>\n",
       "    <tr>\n",
       "      <th>4</th>\n",
       "      <td>John Doe</td>\n",
       "      <td>/m/0k2_zn</td>\n",
       "    </tr>\n",
       "  </tbody>\n",
       "</table>\n",
       "</div>"
      ],
      "text/plain": [
       "               0          1\n",
       "0  Stuart Little  /m/0k3w9c\n",
       "1  Stuart Little  /m/0k3wcx\n",
       "2  Stuart Little  /m/0k3wbn\n",
       "3       John Doe  /m/0jyg35\n",
       "4       John Doe  /m/0k2_zn"
      ]
     },
     "execution_count": 254,
     "metadata": {},
     "output_type": "execute_result"
    }
   ],
   "source": [
    "df_name_clusters.head()"
   ]
  },
  {
   "cell_type": "markdown",
   "metadata": {},
   "source": [
    "### Initial Exploration through visualization"
   ]
  },
  {
   "cell_type": "code",
   "execution_count": 255,
   "metadata": {},
   "outputs": [
    {
     "data": {
      "image/png": "[encoded data removed]",
      "text/plain": [
       "<Figure size 400x300 with 1 Axes>"
      ]
     },
     "metadata": {},
     "output_type": "display_data"
    }
   ],
   "source": [
    "# Count of Characters by Gender\n",
    "gender_counts = df_character_metadata['gender'].value_counts()\n",
    "\n",
    "# Visualization of Gender Distribution\n",
    "plt.figure(figsize=(4, 3))\n",
    "sns.barplot(x=gender_counts.index, y=gender_counts.values, palette='pastel', hue=gender_counts.index, legend=False)\n",
    "plt.title('Distribution of Characters by Gender')\n",
    "plt.xlabel('Gender')\n",
    "plt.ylabel('Count of Characters')\n",
    "plt.xticks(rotation=45)\n",
    "plt.show()"
   ]
  },
  {
   "cell_type": "code",
   "execution_count": 256,
   "metadata": {},
   "outputs": [
    {
     "name": "stdout",
     "output_type": "stream",
     "text": [
      "Female characters: 33.28%\n",
      "Male characters: 66.72%\n"
     ]
    }
   ],
   "source": [
    "# Percentage Representation of Female Characters\n",
    "total_characters = gender_counts.sum()\n",
    "female_count = gender_counts.get('F', 0)\n",
    "male_count = gender_counts.get('M', 0)\n",
    "\n",
    "female_percentage = (female_count / total_characters) * 100\n",
    "male_percentage = (male_count / total_characters) * 100\n",
    "\n",
    "print(f\"Female characters: {female_percentage:.2f}%\")\n",
    "print(f\"Male characters: {male_percentage:.2f}%\")"
   ]
  },
  {
   "cell_type": "markdown",
   "metadata": {},
   "source": [
    "### Try to visualize women VS men action in different genres"
   ]
  },
  {
   "cell_type": "code",
   "execution_count": 257,
   "metadata": {},
   "outputs": [],
   "source": [
    "def string_to_list(df, column):\n",
    "    \"\"\" Turn the column specified of the df from a string to a list \"\"\"\n",
    "    df[column] = df[column].str.split(', ')\n",
    "    return df"
   ]
  },
  {
   "cell_type": "code",
   "execution_count": 258,
   "metadata": {},
   "outputs": [],
   "source": [
    "df_movie_metadata = string_to_list(df_movie_metadata, 'genres')"
   ]
  },
  {
   "cell_type": "code",
   "execution_count": 271,
   "metadata": {},
   "outputs": [
    {
     "data": {
      "text/plain": [
       "<Figure size 1200x800 with 0 Axes>"
      ]
     },
     "metadata": {},
     "output_type": "display_data"
    },
    {
     "data": {
      "image/png": "[encoded data removed]",
      "text/plain": [
       "<Figure size 640x480 with 1 Axes>"
      ]
     },
     "metadata": {},
     "output_type": "display_data"
    }
   ],
   "source": [
    "merged_df = df_movie_metadata.explode('genres').merge(\n",
    "    df_character_metadata,\n",
    "    on='wiki_movie_ID',\n",
    "    how='inner'\n",
    ")\n",
    "\n",
    "# Count characters by genre and gender\n",
    "gender_genre_counts = merged_df.groupby(['genres', 'gender']).size().unstack(fill_value=0)\n",
    "\n",
    "gender_genre_counts['Total'] = gender_genre_counts.sum(axis=1)\n",
    "top_genres = gender_genre_counts.sort_values(by='Total', ascending=False).head(10)  # Get top 10 genres\n",
    "\n",
    "top_genres = top_genres[::-1]\n",
    "\n",
    "# Plotting the top genres\n",
    "plt.figure(figsize=(12, 8))\n",
    "top_genres[['M', 'F']].plot(kind='barh', stacked=True, color=['#1f77b4', '#ff7f0e'])  # Males and Females colors\n",
    "plt.title('Top 10 Movie Genres by Male and Female Character Counts')\n",
    "plt.xlabel('Count of Characters')\n",
    "plt.ylabel('Genre')\n",
    "plt.legend(title='Gender', labels=['Male (M)', 'Female (F)'])\n",
    "plt.tight_layout()\n",
    "plt.show()"
   ]
  },
  {
   "cell_type": "code",
   "execution_count": 260,
   "metadata": {},
   "outputs": [
    {
     "data": {
      "text/html": [
       "<div>\n",
       "<style scoped>\n",
       "    .dataframe tbody tr th:only-of-type {\n",
       "        vertical-align: middle;\n",
       "    }\n",
       "\n",
       "    .dataframe tbody tr th {\n",
       "        vertical-align: top;\n",
       "    }\n",
       "\n",
       "    .dataframe thead th {\n",
       "        text-align: right;\n",
       "    }\n",
       "</style>\n",
       "<table border=\"1\" class=\"dataframe\">\n",
       "  <thead>\n",
       "    <tr style=\"text-align: right;\">\n",
       "      <th>gender</th>\n",
       "      <th>F</th>\n",
       "      <th>M</th>\n",
       "      <th>Total</th>\n",
       "    </tr>\n",
       "    <tr>\n",
       "      <th>genres</th>\n",
       "      <th></th>\n",
       "      <th></th>\n",
       "      <th></th>\n",
       "    </tr>\n",
       "  </thead>\n",
       "  <tbody>\n",
       "    <tr>\n",
       "      <th></th>\n",
       "      <td>1442</td>\n",
       "      <td>2559</td>\n",
       "      <td>4001</td>\n",
       "    </tr>\n",
       "    <tr>\n",
       "      <th>Absurdism</th>\n",
       "      <td>342</td>\n",
       "      <td>895</td>\n",
       "      <td>1237</td>\n",
       "    </tr>\n",
       "    <tr>\n",
       "      <th>Acid western</th>\n",
       "      <td>12</td>\n",
       "      <td>78</td>\n",
       "      <td>90</td>\n",
       "    </tr>\n",
       "    <tr>\n",
       "      <th>Action</th>\n",
       "      <td>16203</td>\n",
       "      <td>49184</td>\n",
       "      <td>65387</td>\n",
       "    </tr>\n",
       "    <tr>\n",
       "      <th>Action Comedy</th>\n",
       "      <td>399</td>\n",
       "      <td>1224</td>\n",
       "      <td>1623</td>\n",
       "    </tr>\n",
       "  </tbody>\n",
       "</table>\n",
       "</div>"
      ],
      "text/plain": [
       "gender             F      M  Total\n",
       "genres                            \n",
       "                1442   2559   4001\n",
       "Absurdism        342    895   1237\n",
       "Acid western      12     78     90\n",
       "Action         16203  49184  65387\n",
       "Action Comedy    399   1224   1623"
      ]
     },
     "execution_count": 260,
     "metadata": {},
     "output_type": "execute_result"
    }
   ],
   "source": [
    "gender_genre_counts.head()"
   ]
  },
  {
   "cell_type": "markdown",
   "metadata": {},
   "source": [
    "### Find most frequent characterizations for females and males based on tvtropesw clusters"
   ]
  },
  {
   "cell_type": "code",
   "execution_count": 261,
   "metadata": {},
   "outputs": [],
   "source": [
    "df_tvtropes_clusters = string_to_dict(df_tvtropes_clusters, 'dictionary')"
   ]
  },
  {
   "cell_type": "code",
   "execution_count": 262,
   "metadata": {},
   "outputs": [
    {
     "data": {
      "text/html": [
       "<div>\n",
       "<style scoped>\n",
       "    .dataframe tbody tr th:only-of-type {\n",
       "        vertical-align: middle;\n",
       "    }\n",
       "\n",
       "    .dataframe tbody tr th {\n",
       "        vertical-align: top;\n",
       "    }\n",
       "\n",
       "    .dataframe thead th {\n",
       "        text-align: right;\n",
       "    }\n",
       "</style>\n",
       "<table border=\"1\" class=\"dataframe\">\n",
       "  <thead>\n",
       "    <tr style=\"text-align: right;\">\n",
       "      <th></th>\n",
       "      <th>cluster</th>\n",
       "      <th>char</th>\n",
       "      <th>movie</th>\n",
       "      <th>id</th>\n",
       "      <th>actor</th>\n",
       "    </tr>\n",
       "  </thead>\n",
       "  <tbody>\n",
       "    <tr>\n",
       "      <th>0</th>\n",
       "      <td>absent_minded_professor</td>\n",
       "      <td>Professor Philip Brainard</td>\n",
       "      <td>Flubber</td>\n",
       "      <td>/m/0jy9q0</td>\n",
       "      <td>Robin Williams</td>\n",
       "    </tr>\n",
       "    <tr>\n",
       "      <th>1</th>\n",
       "      <td>absent_minded_professor</td>\n",
       "      <td>Professor Keenbean</td>\n",
       "      <td>Richie Rich</td>\n",
       "      <td>/m/02vchl3</td>\n",
       "      <td>Michael McShane</td>\n",
       "    </tr>\n",
       "    <tr>\n",
       "      <th>2</th>\n",
       "      <td>absent_minded_professor</td>\n",
       "      <td>Dr. Reinhardt Lane</td>\n",
       "      <td>The Shadow</td>\n",
       "      <td>/m/0k6fkc</td>\n",
       "      <td>Ian McKellen</td>\n",
       "    </tr>\n",
       "    <tr>\n",
       "      <th>3</th>\n",
       "      <td>absent_minded_professor</td>\n",
       "      <td>Dr. Harold Medford</td>\n",
       "      <td>Them!</td>\n",
       "      <td>/m/0k6_br</td>\n",
       "      <td>Edmund Gwenn</td>\n",
       "    </tr>\n",
       "    <tr>\n",
       "      <th>4</th>\n",
       "      <td>absent_minded_professor</td>\n",
       "      <td>Daniel Jackson</td>\n",
       "      <td>Stargate</td>\n",
       "      <td>/m/0k3rhh</td>\n",
       "      <td>James Spader</td>\n",
       "    </tr>\n",
       "  </tbody>\n",
       "</table>\n",
       "</div>"
      ],
      "text/plain": [
       "                   cluster                       char        movie  \\\n",
       "0  absent_minded_professor  Professor Philip Brainard      Flubber   \n",
       "1  absent_minded_professor         Professor Keenbean  Richie Rich   \n",
       "2  absent_minded_professor         Dr. Reinhardt Lane   The Shadow   \n",
       "3  absent_minded_professor         Dr. Harold Medford        Them!   \n",
       "4  absent_minded_professor             Daniel Jackson     Stargate   \n",
       "\n",
       "           id            actor  \n",
       "0   /m/0jy9q0   Robin Williams  \n",
       "1  /m/02vchl3  Michael McShane  \n",
       "2   /m/0k6fkc     Ian McKellen  \n",
       "3   /m/0k6_br     Edmund Gwenn  \n",
       "4   /m/0k3rhh     James Spader  "
      ]
     },
     "execution_count": 262,
     "metadata": {},
     "output_type": "execute_result"
    }
   ],
   "source": [
    "df_tvtropes_clusters.head()"
   ]
  },
  {
   "cell_type": "code",
   "execution_count": 263,
   "metadata": {},
   "outputs": [
    {
     "data": {
      "text/html": [
       "<div>\n",
       "<style scoped>\n",
       "    .dataframe tbody tr th:only-of-type {\n",
       "        vertical-align: middle;\n",
       "    }\n",
       "\n",
       "    .dataframe tbody tr th {\n",
       "        vertical-align: top;\n",
       "    }\n",
       "\n",
       "    .dataframe thead th {\n",
       "        text-align: right;\n",
       "    }\n",
       "</style>\n",
       "<table border=\"1\" class=\"dataframe\">\n",
       "  <thead>\n",
       "    <tr style=\"text-align: right;\">\n",
       "      <th></th>\n",
       "      <th>cluster</th>\n",
       "      <th>char_x</th>\n",
       "      <th>movie</th>\n",
       "      <th>id</th>\n",
       "      <th>actor_x</th>\n",
       "      <th>wiki_movie_ID</th>\n",
       "      <th>freebase_movie_ID</th>\n",
       "      <th>release_date</th>\n",
       "      <th>char_y</th>\n",
       "      <th>birth_date</th>\n",
       "      <th>gender</th>\n",
       "      <th>height</th>\n",
       "      <th>ethnicity</th>\n",
       "      <th>actor_y</th>\n",
       "      <th>age_at_release</th>\n",
       "      <th>freebase_map_ID</th>\n",
       "      <th>freebase_char_ID</th>\n",
       "      <th>freebase_actor_ID</th>\n",
       "    </tr>\n",
       "  </thead>\n",
       "  <tbody>\n",
       "    <tr>\n",
       "      <th>0</th>\n",
       "      <td>absent_minded_professor</td>\n",
       "      <td>Professor Philip Brainard</td>\n",
       "      <td>Flubber</td>\n",
       "      <td>/m/0jy9q0</td>\n",
       "      <td>Robin Williams</td>\n",
       "      <td>1344253</td>\n",
       "      <td>/m/04vcfx</td>\n",
       "      <td>1997-11-26</td>\n",
       "      <td>Professor Philip Brainard</td>\n",
       "      <td>1951-07-21</td>\n",
       "      <td>M</td>\n",
       "      <td>1.702</td>\n",
       "      <td>NaN</td>\n",
       "      <td>Robin Williams</td>\n",
       "      <td>46.0</td>\n",
       "      <td>/m/0jy9q0</td>\n",
       "      <td>/m/0cls20k</td>\n",
       "      <td>/m/0dzf_</td>\n",
       "    </tr>\n",
       "    <tr>\n",
       "      <th>1</th>\n",
       "      <td>absent_minded_professor</td>\n",
       "      <td>Professor Keenbean</td>\n",
       "      <td>Richie Rich</td>\n",
       "      <td>/m/02vchl3</td>\n",
       "      <td>Michael McShane</td>\n",
       "      <td>1486573</td>\n",
       "      <td>/m/0557n3</td>\n",
       "      <td>1994-12-21</td>\n",
       "      <td>Professor Keenbean</td>\n",
       "      <td>1955-06-25</td>\n",
       "      <td>M</td>\n",
       "      <td>NaN</td>\n",
       "      <td>NaN</td>\n",
       "      <td>Michael McShane</td>\n",
       "      <td>39.0</td>\n",
       "      <td>/m/02vchl3</td>\n",
       "      <td>/m/0h6dygh</td>\n",
       "      <td>/m/05tkfc</td>\n",
       "    </tr>\n",
       "    <tr>\n",
       "      <th>2</th>\n",
       "      <td>absent_minded_professor</td>\n",
       "      <td>Dr. Reinhardt Lane</td>\n",
       "      <td>The Shadow</td>\n",
       "      <td>/m/0k6fkc</td>\n",
       "      <td>Ian McKellen</td>\n",
       "      <td>5991505</td>\n",
       "      <td>/m/0fjjjh</td>\n",
       "      <td>1994-07-01</td>\n",
       "      <td>Dr. Reinhardt Lane</td>\n",
       "      <td>1939-05-25</td>\n",
       "      <td>M</td>\n",
       "      <td>1.800</td>\n",
       "      <td>NaN</td>\n",
       "      <td>Ian McKellen</td>\n",
       "      <td>55.0</td>\n",
       "      <td>/m/0k6fkc</td>\n",
       "      <td>/m/0gynqd6</td>\n",
       "      <td>/m/03ym1</td>\n",
       "    </tr>\n",
       "    <tr>\n",
       "      <th>3</th>\n",
       "      <td>absent_minded_professor</td>\n",
       "      <td>Dr. Harold Medford</td>\n",
       "      <td>Them!</td>\n",
       "      <td>/m/0k6_br</td>\n",
       "      <td>Edmund Gwenn</td>\n",
       "      <td>605676</td>\n",
       "      <td>/m/02vt5c</td>\n",
       "      <td>1954-06-16</td>\n",
       "      <td>Dr. Harold Medford</td>\n",
       "      <td>1877-09-26</td>\n",
       "      <td>M</td>\n",
       "      <td>NaN</td>\n",
       "      <td>NaN</td>\n",
       "      <td>Edmund Gwenn</td>\n",
       "      <td>NaN</td>\n",
       "      <td>/m/0k6_br</td>\n",
       "      <td>/m/0h5whpq</td>\n",
       "      <td>/m/03bpcj</td>\n",
       "    </tr>\n",
       "    <tr>\n",
       "      <th>4</th>\n",
       "      <td>absent_minded_professor</td>\n",
       "      <td>Daniel Jackson</td>\n",
       "      <td>Stargate</td>\n",
       "      <td>/m/0k3rhh</td>\n",
       "      <td>James Spader</td>\n",
       "      <td>28327</td>\n",
       "      <td>/m/070g7</td>\n",
       "      <td>1994-10-28</td>\n",
       "      <td>Daniel Jackson</td>\n",
       "      <td>1960-02-07</td>\n",
       "      <td>M</td>\n",
       "      <td>1.780</td>\n",
       "      <td>NaN</td>\n",
       "      <td>James Spader</td>\n",
       "      <td>34.0</td>\n",
       "      <td>/m/0k3rhh</td>\n",
       "      <td>/m/02qs1z</td>\n",
       "      <td>/m/043js</td>\n",
       "    </tr>\n",
       "  </tbody>\n",
       "</table>\n",
       "</div>"
      ],
      "text/plain": [
       "                   cluster                     char_x        movie  \\\n",
       "0  absent_minded_professor  Professor Philip Brainard      Flubber   \n",
       "1  absent_minded_professor         Professor Keenbean  Richie Rich   \n",
       "2  absent_minded_professor         Dr. Reinhardt Lane   The Shadow   \n",
       "3  absent_minded_professor         Dr. Harold Medford        Them!   \n",
       "4  absent_minded_professor             Daniel Jackson     Stargate   \n",
       "\n",
       "           id          actor_x  wiki_movie_ID freebase_movie_ID release_date  \\\n",
       "0   /m/0jy9q0   Robin Williams        1344253         /m/04vcfx   1997-11-26   \n",
       "1  /m/02vchl3  Michael McShane        1486573         /m/0557n3   1994-12-21   \n",
       "2   /m/0k6fkc     Ian McKellen        5991505         /m/0fjjjh   1994-07-01   \n",
       "3   /m/0k6_br     Edmund Gwenn         605676         /m/02vt5c   1954-06-16   \n",
       "4   /m/0k3rhh     James Spader          28327          /m/070g7   1994-10-28   \n",
       "\n",
       "                      char_y  birth_date gender  height ethnicity  \\\n",
       "0  Professor Philip Brainard  1951-07-21      M   1.702       NaN   \n",
       "1         Professor Keenbean  1955-06-25      M     NaN       NaN   \n",
       "2         Dr. Reinhardt Lane  1939-05-25      M   1.800       NaN   \n",
       "3         Dr. Harold Medford  1877-09-26      M     NaN       NaN   \n",
       "4             Daniel Jackson  1960-02-07      M   1.780       NaN   \n",
       "\n",
       "           actor_y  age_at_release freebase_map_ID freebase_char_ID  \\\n",
       "0   Robin Williams            46.0       /m/0jy9q0       /m/0cls20k   \n",
       "1  Michael McShane            39.0      /m/02vchl3       /m/0h6dygh   \n",
       "2     Ian McKellen            55.0       /m/0k6fkc       /m/0gynqd6   \n",
       "3     Edmund Gwenn             NaN       /m/0k6_br       /m/0h5whpq   \n",
       "4     James Spader            34.0       /m/0k3rhh        /m/02qs1z   \n",
       "\n",
       "  freebase_actor_ID  \n",
       "0          /m/0dzf_  \n",
       "1         /m/05tkfc  \n",
       "2          /m/03ym1  \n",
       "3         /m/03bpcj  \n",
       "4          /m/043js  "
      ]
     },
     "execution_count": 263,
     "metadata": {},
     "output_type": "execute_result"
    }
   ],
   "source": [
    "merged_df1 = pd.merge(df_tvtropes_clusters, df_character_metadata, how = \"left\", left_on = \"id\", right_on=\"freebase_map_ID\")\n",
    "merged_df1.head()"
   ]
  },
  {
   "cell_type": "code",
   "execution_count": null,
   "metadata": {},
   "outputs": [
    {
     "data": {
      "text/plain": [
       "<Figure size 1200x800 with 0 Axes>"
      ]
     },
     "metadata": {},
     "output_type": "display_data"
    },
    {
     "data": {
      "image/png": "[encoded data removed]",
      "text/plain": [
       "<Figure size 640x480 with 1 Axes>"
      ]
     },
     "metadata": {},
     "output_type": "display_data"
    }
   ],
   "source": [
    "gender_cluster_counts = merged_df1.groupby(['cluster', 'gender']).size().unstack(fill_value=0)\n",
    "\n",
    "gender_cluster_counts['Total'] = gender_cluster_counts.sum(axis=1)\n",
    "top_clusters = gender_cluster_counts.sort_values(by='Total', ascending=False).head(10)  # Get top 10 genres\n",
    "\n",
    "top_clusters = top_clusters[::-1]\n",
    "\n",
    "# Plotting the top clusters\n",
    "plt.figure(figsize=(12, 8))\n",
    "top_clusters[['M', 'F']].plot(kind='barh', stacked=True, color=['#1f77b4', '#ff7f0e'])\n",
    "plt.title('Top 10 cluster characterizations by Male and Female Character Counts')\n",
    "plt.xlabel('Count of Characters')\n",
    "plt.ylabel('Genre')\n",
    "plt.legend(title='Gender', labels=['Male (M)', 'Female (F)'])\n",
    "plt.tight_layout()\n",
    "plt.show()"
   ]
  },
  {
   "cell_type": "code",
   "execution_count": 281,
   "metadata": {},
   "outputs": [
    {
     "data": {
      "text/plain": [
       "<Figure size 1200x800 with 0 Axes>"
      ]
     },
     "metadata": {},
     "output_type": "display_data"
    },
    {
     "data": {
      "image/png": "[encoded data removed]",
      "text/plain": [
       "<Figure size 640x480 with 1 Axes>"
      ]
     },
     "metadata": {},
     "output_type": "display_data"
    }
   ],
   "source": [
    "gender_cluster_counts = merged_df1.groupby(['cluster', 'gender']).size().unstack(fill_value=0)\n",
    "\n",
    "top_clusters = gender_cluster_counts.sort_values(by='F', ascending=False).head(10)  # Get top 10 genres\n",
    "\n",
    "top_clusters = top_clusters[::-1]\n",
    "\n",
    "# Plotting the top genres\n",
    "plt.figure(figsize=(12, 8))\n",
    "top_clusters[['M', 'F']].plot(kind='barh', stacked=True, color=['#1f77b4', '#ff7f0e'])\n",
    "plt.title('Top 10 Movie Genres by Male and Female Character Counts')\n",
    "plt.xlabel('Count of Characters')\n",
    "plt.ylabel('Genre')\n",
    "plt.legend(title='Gender', labels=['Male (M)', 'Female (F)'])\n",
    "plt.tight_layout()\n",
    "plt.show()"
   ]
  },
  {
   "cell_type": "code",
   "execution_count": 283,
   "metadata": {},
   "outputs": [
    {
     "data": {
      "text/plain": [
       "<Figure size 1200x800 with 0 Axes>"
      ]
     },
     "metadata": {},
     "output_type": "display_data"
    },
    {
     "data": {
      "image/png": "[encoded data removed]",
      "text/plain": [
       "<Figure size 640x480 with 1 Axes>"
      ]
     },
     "metadata": {},
     "output_type": "display_data"
    }
   ],
   "source": [
    "gender_cluster_counts = merged_df1.groupby(['cluster', 'gender']).size().unstack(fill_value=0)\n",
    "\n",
    "top_clusters = gender_cluster_counts.sort_values(by='M', ascending=False).head(10)  # Get top 10 genres\n",
    "\n",
    "top_clusters = top_clusters[::-1]\n",
    "\n",
    "# Plotting the top genres\n",
    "plt.figure(figsize=(12, 8))\n",
    "top_clusters[['M', 'F']].plot(kind='barh', stacked=True, color=['#1f77b4', '#ff7f0e'])\n",
    "plt.title('Top 10 Movie Genres by Male and Female Character Counts')\n",
    "plt.xlabel('Count of Characters')\n",
    "plt.ylabel('Genre')\n",
    "plt.legend(title='Gender', labels=['Male (M)', 'Female (F)'])\n",
    "plt.tight_layout()\n",
    "plt.show()"
   ]
  }
 ],
 "metadata": {
  "kernelspec": {
   "display_name": "ada",
   "language": "python",
   "name": "python3"
  },
  "language_info": {
   "codemirror_mode": {
    "name": "ipython",
    "version": 3
   },
   "file_extension": ".py",
   "mimetype": "text/x-python",
   "name": "python",
   "nbconvert_exporter": "python",
   "pygments_lexer": "ipython3",
   "version": "3.11.9"
  }
 },
 "nbformat": 4,
 "nbformat_minor": 2
}
