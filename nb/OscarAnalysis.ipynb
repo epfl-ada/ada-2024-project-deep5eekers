{
 "cells": [
  {
   "metadata": {
    "ExecuteTime": {
     "end_time": "2024-12-17T12:12:26.406283Z",
     "start_time": "2024-12-17T12:12:26.399171Z"
    }
   },
   "cell_type": "code",
   "source": [
    "import pandas as pd\n",
    "\n"
   ],
   "id": "5312adc5053d2fef",
   "outputs": [],
   "execution_count": 1
  },
  {
   "metadata": {
    "ExecuteTime": {
     "end_time": "2024-12-17T12:12:26.542220Z",
     "start_time": "2024-12-17T12:12:26.512296Z"
    }
   },
   "cell_type": "code",
   "source": [
    "# download https://www.kaggle.com/datasets/unanimad/the-oscar-award?resource=download\n",
    "\n",
    "oscar_award = pd.read_csv('../data/the_oscar_award.csv')"
   ],
   "id": "43989df50ff282d3",
   "outputs": [],
   "execution_count": 2
  },
  {
   "metadata": {
    "ExecuteTime": {
     "end_time": "2024-12-17T12:12:26.566548Z",
     "start_time": "2024-12-17T12:12:26.550607Z"
    }
   },
   "cell_type": "code",
   "source": "oscar_award['category'].value_counts()",
   "id": "d27f48c07347d940",
   "outputs": [
    {
     "data": {
      "text/plain": [
       "category\n",
       "DIRECTING                                    469\n",
       "FILM EDITING                                 450\n",
       "ACTRESS IN A SUPPORTING ROLE                 440\n",
       "ACTOR IN A SUPPORTING ROLE                   440\n",
       "DOCUMENTARY (Short Subject)                  378\n",
       "                                            ... \n",
       "SPECIAL FOREIGN LANGUAGE FILM AWARD            2\n",
       "GORDON E. SAWYER AWARD                         1\n",
       "SPECIAL ACHIEVEMENT AWARD (Sound Editing)      1\n",
       "SPECIAL ACHIEVEMENT AWARD (Sound Effects)      1\n",
       "AWARD OF COMMENDATION                          1\n",
       "Name: count, Length: 115, dtype: int64"
      ]
     },
     "execution_count": 3,
     "metadata": {},
     "output_type": "execute_result"
    }
   ],
   "execution_count": 3
  },
  {
   "metadata": {
    "ExecuteTime": {
     "end_time": "2024-12-17T12:12:26.939249Z",
     "start_time": "2024-12-17T12:12:26.906093Z"
    }
   },
   "cell_type": "code",
   "source": [
    "import json\n",
    "\n",
    "genders = json.load(open(\n",
    "    '../src/genders_final.json'))\n",
    "\n",
    "gender_df = pd.DataFrame(genders)"
   ],
   "id": "b45fe1ee0e736d96",
   "outputs": [],
   "execution_count": 4
  },
  {
   "metadata": {
    "ExecuteTime": {
     "end_time": "2024-12-17T12:12:27.070374Z",
     "start_time": "2024-12-17T12:12:27.032524Z"
    }
   },
   "cell_type": "code",
   "source": [
    "import re\n",
    "def parse_gpt_gender(gender_str):\n",
    "    clean_str = gender_str.replace(' ', '').replace('.', '').replace(',', '')\n",
    "\n",
    "    clean_str = re.sub(r'\\d+', '', clean_str).strip().lower()\n",
    "\n",
    "\n",
    "    if clean_str == 'male':\n",
    "        return 'Male'\n",
    "    elif clean_str == 'female':\n",
    "        return 'Female'\n",
    "    else:\n",
    "        return 'unknown'\n",
    "\n",
    "\n",
    "gender_df['gender'] = gender_df['gender'].apply(parse_gpt_gender)"
   ],
   "id": "88a22691e11046da",
   "outputs": [],
   "execution_count": 5
  },
  {
   "metadata": {
    "ExecuteTime": {
     "end_time": "2024-12-17T12:12:27.193250Z",
     "start_time": "2024-12-17T12:12:27.179590Z"
    }
   },
   "cell_type": "code",
   "source": "unique_people = gender_df[['name', 'gender']].drop_duplicates()",
   "id": "b091563635484bbb",
   "outputs": [],
   "execution_count": 6
  },
  {
   "metadata": {
    "ExecuteTime": {
     "end_time": "2024-12-17T12:12:27.350142Z",
     "start_time": "2024-12-17T12:12:27.329311Z"
    }
   },
   "cell_type": "code",
   "source": "unique_people = unique_people[unique_people['gender'] != 'unknown']",
   "id": "a80aae3ce5b9cb46",
   "outputs": [],
   "execution_count": 7
  },
  {
   "metadata": {
    "ExecuteTime": {
     "end_time": "2024-12-17T12:12:52.433147Z",
     "start_time": "2024-12-17T12:12:52.347824Z"
    }
   },
   "cell_type": "code",
   "source": [
    "import plotly.express as px\n",
    "\n",
    "# Calculate the value counts for \"directors_gender\"\n",
    "gender_counts = unique_people['gender'].value_counts().reset_index()\n",
    "gender_counts.columns = ['gender', 'count']\n",
    "\n",
    "# Create a pie chart to visualize the gender imbalance\n",
    "fig = px.pie(\n",
    "    gender_counts,\n",
    "    names='gender',  # Column to use for labels\n",
    "    values='count',  # Column to use for proportions\n",
    "    title='Oscar nominees Gender Imbalance',\n",
    "    color='gender',  # Optional: color based on gender\n",
    ")\n",
    "\n",
    "fig.show()\n",
    "\n",
    "fig.write_html(\"oscar_gender_imbalance.html\")"
   ],
   "id": "3094e0078b066153",
   "outputs": [
    {
     "data": {
      "application/vnd.plotly.v1+json": {
       "data": [
        {
         "customdata": [
          [
           "Male"
          ],
          [
           "Female"
          ]
         ],
         "domain": {
          "x": [
           0.0,
           1.0
          ],
          "y": [
           0.0,
           1.0
          ]
         },
         "hovertemplate": "gender=%{customdata[0]}<br>count=%{value}<extra></extra>",
         "labels": [
          "Male",
          "Female"
         ],
         "legendgroup": "",
         "marker": {
          "colors": [
           "#636efa",
           "#EF553B"
          ]
         },
         "name": "",
         "showlegend": true,
         "values": [
          4951,
          972
         ],
         "type": "pie"
        }
       ],
       "layout": {
        "template": {
         "data": {
          "histogram2dcontour": [
           {
            "type": "histogram2dcontour",
            "colorbar": {
             "outlinewidth": 0,
             "ticks": ""
            },
            "colorscale": [
             [
              0.0,
              "#0d0887"
             ],
             [
              0.1111111111111111,
              "#46039f"
             ],
             [
              0.2222222222222222,
              "#7201a8"
             ],
             [
              0.3333333333333333,
              "#9c179e"
             ],
             [
              0.4444444444444444,
              "#bd3786"
             ],
             [
              0.5555555555555556,
              "#d8576b"
             ],
             [
              0.6666666666666666,
              "#ed7953"
             ],
             [
              0.7777777777777778,
              "#fb9f3a"
             ],
             [
              0.8888888888888888,
              "#fdca26"
             ],
             [
              1.0,
              "#f0f921"
             ]
            ]
           }
          ],
          "choropleth": [
           {
            "type": "choropleth",
            "colorbar": {
             "outlinewidth": 0,
             "ticks": ""
            }
           }
          ],
          "histogram2d": [
           {
            "type": "histogram2d",
            "colorbar": {
             "outlinewidth": 0,
             "ticks": ""
            },
            "colorscale": [
             [
              0.0,
              "#0d0887"
             ],
             [
              0.1111111111111111,
              "#46039f"
             ],
             [
              0.2222222222222222,
              "#7201a8"
             ],
             [
              0.3333333333333333,
              "#9c179e"
             ],
             [
              0.4444444444444444,
              "#bd3786"
             ],
             [
              0.5555555555555556,
              "#d8576b"
             ],
             [
              0.6666666666666666,
              "#ed7953"
             ],
             [
              0.7777777777777778,
              "#fb9f3a"
             ],
             [
              0.8888888888888888,
              "#fdca26"
             ],
             [
              1.0,
              "#f0f921"
             ]
            ]
           }
          ],
          "heatmap": [
           {
            "type": "heatmap",
            "colorbar": {
             "outlinewidth": 0,
             "ticks": ""
            },
            "colorscale": [
             [
              0.0,
              "#0d0887"
             ],
             [
              0.1111111111111111,
              "#46039f"
             ],
             [
              0.2222222222222222,
              "#7201a8"
             ],
             [
              0.3333333333333333,
              "#9c179e"
             ],
             [
              0.4444444444444444,
              "#bd3786"
             ],
             [
              0.5555555555555556,
              "#d8576b"
             ],
             [
              0.6666666666666666,
              "#ed7953"
             ],
             [
              0.7777777777777778,
              "#fb9f3a"
             ],
             [
              0.8888888888888888,
              "#fdca26"
             ],
             [
              1.0,
              "#f0f921"
             ]
            ]
           }
          ],
          "heatmapgl": [
           {
            "type": "heatmapgl",
            "colorbar": {
             "outlinewidth": 0,
             "ticks": ""
            },
            "colorscale": [
             [
              0.0,
              "#0d0887"
             ],
             [
              0.1111111111111111,
              "#46039f"
             ],
             [
              0.2222222222222222,
              "#7201a8"
             ],
             [
              0.3333333333333333,
              "#9c179e"
             ],
             [
              0.4444444444444444,
              "#bd3786"
             ],
             [
              0.5555555555555556,
              "#d8576b"
             ],
             [
              0.6666666666666666,
              "#ed7953"
             ],
             [
              0.7777777777777778,
              "#fb9f3a"
             ],
             [
              0.8888888888888888,
              "#fdca26"
             ],
             [
              1.0,
              "#f0f921"
             ]
            ]
           }
          ],
          "contourcarpet": [
           {
            "type": "contourcarpet",
            "colorbar": {
             "outlinewidth": 0,
             "ticks": ""
            }
           }
          ],
          "contour": [
           {
            "type": "contour",
            "colorbar": {
             "outlinewidth": 0,
             "ticks": ""
            },
            "colorscale": [
             [
              0.0,
              "#0d0887"
             ],
             [
              0.1111111111111111,
              "#46039f"
             ],
             [
              0.2222222222222222,
              "#7201a8"
             ],
             [
              0.3333333333333333,
              "#9c179e"
             ],
             [
              0.4444444444444444,
              "#bd3786"
             ],
             [
              0.5555555555555556,
              "#d8576b"
             ],
             [
              0.6666666666666666,
              "#ed7953"
             ],
             [
              0.7777777777777778,
              "#fb9f3a"
             ],
             [
              0.8888888888888888,
              "#fdca26"
             ],
             [
              1.0,
              "#f0f921"
             ]
            ]
           }
          ],
          "surface": [
           {
            "type": "surface",
            "colorbar": {
             "outlinewidth": 0,
             "ticks": ""
            },
            "colorscale": [
             [
              0.0,
              "#0d0887"
             ],
             [
              0.1111111111111111,
              "#46039f"
             ],
             [
              0.2222222222222222,
              "#7201a8"
             ],
             [
              0.3333333333333333,
              "#9c179e"
             ],
             [
              0.4444444444444444,
              "#bd3786"
             ],
             [
              0.5555555555555556,
              "#d8576b"
             ],
             [
              0.6666666666666666,
              "#ed7953"
             ],
             [
              0.7777777777777778,
              "#fb9f3a"
             ],
             [
              0.8888888888888888,
              "#fdca26"
             ],
             [
              1.0,
              "#f0f921"
             ]
            ]
           }
          ],
          "mesh3d": [
           {
            "type": "mesh3d",
            "colorbar": {
             "outlinewidth": 0,
             "ticks": ""
            }
           }
          ],
          "scatter": [
           {
            "marker": {
             "line": {
              "color": "#283442"
             }
            },
            "type": "scatter"
           }
          ],
          "parcoords": [
           {
            "type": "parcoords",
            "line": {
             "colorbar": {
              "outlinewidth": 0,
              "ticks": ""
             }
            }
           }
          ],
          "scatterpolargl": [
           {
            "type": "scatterpolargl",
            "marker": {
             "colorbar": {
              "outlinewidth": 0,
              "ticks": ""
             }
            }
           }
          ],
          "bar": [
           {
            "error_x": {
             "color": "#f2f5fa"
            },
            "error_y": {
             "color": "#f2f5fa"
            },
            "marker": {
             "line": {
              "color": "rgb(17,17,17)",
              "width": 0.5
             },
             "pattern": {
              "fillmode": "overlay",
              "size": 10,
              "solidity": 0.2
             }
            },
            "type": "bar"
           }
          ],
          "scattergeo": [
           {
            "type": "scattergeo",
            "marker": {
             "colorbar": {
              "outlinewidth": 0,
              "ticks": ""
             }
            }
           }
          ],
          "scatterpolar": [
           {
            "type": "scatterpolar",
            "marker": {
             "colorbar": {
              "outlinewidth": 0,
              "ticks": ""
             }
            }
           }
          ],
          "histogram": [
           {
            "marker": {
             "pattern": {
              "fillmode": "overlay",
              "size": 10,
              "solidity": 0.2
             }
            },
            "type": "histogram"
           }
          ],
          "scattergl": [
           {
            "marker": {
             "line": {
              "color": "#283442"
             }
            },
            "type": "scattergl"
           }
          ],
          "scatter3d": [
           {
            "type": "scatter3d",
            "line": {
             "colorbar": {
              "outlinewidth": 0,
              "ticks": ""
             }
            },
            "marker": {
             "colorbar": {
              "outlinewidth": 0,
              "ticks": ""
             }
            }
           }
          ],
          "scattermapbox": [
           {
            "type": "scattermapbox",
            "marker": {
             "colorbar": {
              "outlinewidth": 0,
              "ticks": ""
             }
            }
           }
          ],
          "scatterternary": [
           {
            "type": "scatterternary",
            "marker": {
             "colorbar": {
              "outlinewidth": 0,
              "ticks": ""
             }
            }
           }
          ],
          "scattercarpet": [
           {
            "type": "scattercarpet",
            "marker": {
             "colorbar": {
              "outlinewidth": 0,
              "ticks": ""
             }
            }
           }
          ],
          "carpet": [
           {
            "aaxis": {
             "endlinecolor": "#A2B1C6",
             "gridcolor": "#506784",
             "linecolor": "#506784",
             "minorgridcolor": "#506784",
             "startlinecolor": "#A2B1C6"
            },
            "baxis": {
             "endlinecolor": "#A2B1C6",
             "gridcolor": "#506784",
             "linecolor": "#506784",
             "minorgridcolor": "#506784",
             "startlinecolor": "#A2B1C6"
            },
            "type": "carpet"
           }
          ],
          "table": [
           {
            "cells": {
             "fill": {
              "color": "#506784"
             },
             "line": {
              "color": "rgb(17,17,17)"
             }
            },
            "header": {
             "fill": {
              "color": "#2a3f5f"
             },
             "line": {
              "color": "rgb(17,17,17)"
             }
            },
            "type": "table"
           }
          ],
          "barpolar": [
           {
            "marker": {
             "line": {
              "color": "rgb(17,17,17)",
              "width": 0.5
             },
             "pattern": {
              "fillmode": "overlay",
              "size": 10,
              "solidity": 0.2
             }
            },
            "type": "barpolar"
           }
          ],
          "pie": [
           {
            "automargin": true,
            "type": "pie"
           }
          ]
         },
         "layout": {
          "autotypenumbers": "strict",
          "colorway": [
           "#636efa",
           "#EF553B",
           "#00cc96",
           "#ab63fa",
           "#FFA15A",
           "#19d3f3",
           "#FF6692",
           "#B6E880",
           "#FF97FF",
           "#FECB52"
          ],
          "font": {
           "color": "#f2f5fa"
          },
          "hovermode": "closest",
          "hoverlabel": {
           "align": "left"
          },
          "paper_bgcolor": "rgb(17,17,17)",
          "plot_bgcolor": "rgb(17,17,17)",
          "polar": {
           "bgcolor": "rgb(17,17,17)",
           "angularaxis": {
            "gridcolor": "#506784",
            "linecolor": "#506784",
            "ticks": ""
           },
           "radialaxis": {
            "gridcolor": "#506784",
            "linecolor": "#506784",
            "ticks": ""
           }
          },
          "ternary": {
           "bgcolor": "rgb(17,17,17)",
           "aaxis": {
            "gridcolor": "#506784",
            "linecolor": "#506784",
            "ticks": ""
           },
           "baxis": {
            "gridcolor": "#506784",
            "linecolor": "#506784",
            "ticks": ""
           },
           "caxis": {
            "gridcolor": "#506784",
            "linecolor": "#506784",
            "ticks": ""
           }
          },
          "coloraxis": {
           "colorbar": {
            "outlinewidth": 0,
            "ticks": ""
           }
          },
          "colorscale": {
           "sequential": [
            [
             0.0,
             "#0d0887"
            ],
            [
             0.1111111111111111,
             "#46039f"
            ],
            [
             0.2222222222222222,
             "#7201a8"
            ],
            [
             0.3333333333333333,
             "#9c179e"
            ],
            [
             0.4444444444444444,
             "#bd3786"
            ],
            [
             0.5555555555555556,
             "#d8576b"
            ],
            [
             0.6666666666666666,
             "#ed7953"
            ],
            [
             0.7777777777777778,
             "#fb9f3a"
            ],
            [
             0.8888888888888888,
             "#fdca26"
            ],
            [
             1.0,
             "#f0f921"
            ]
           ],
           "sequentialminus": [
            [
             0.0,
             "#0d0887"
            ],
            [
             0.1111111111111111,
             "#46039f"
            ],
            [
             0.2222222222222222,
             "#7201a8"
            ],
            [
             0.3333333333333333,
             "#9c179e"
            ],
            [
             0.4444444444444444,
             "#bd3786"
            ],
            [
             0.5555555555555556,
             "#d8576b"
            ],
            [
             0.6666666666666666,
             "#ed7953"
            ],
            [
             0.7777777777777778,
             "#fb9f3a"
            ],
            [
             0.8888888888888888,
             "#fdca26"
            ],
            [
             1.0,
             "#f0f921"
            ]
           ],
           "diverging": [
            [
             0,
             "#8e0152"
            ],
            [
             0.1,
             "#c51b7d"
            ],
            [
             0.2,
             "#de77ae"
            ],
            [
             0.3,
             "#f1b6da"
            ],
            [
             0.4,
             "#fde0ef"
            ],
            [
             0.5,
             "#f7f7f7"
            ],
            [
             0.6,
             "#e6f5d0"
            ],
            [
             0.7,
             "#b8e186"
            ],
            [
             0.8,
             "#7fbc41"
            ],
            [
             0.9,
             "#4d9221"
            ],
            [
             1,
             "#276419"
            ]
           ]
          },
          "xaxis": {
           "gridcolor": "#283442",
           "linecolor": "#506784",
           "ticks": "",
           "title": {
            "standoff": 15
           },
           "zerolinecolor": "#283442",
           "automargin": true,
           "zerolinewidth": 2
          },
          "yaxis": {
           "gridcolor": "#283442",
           "linecolor": "#506784",
           "ticks": "",
           "title": {
            "standoff": 15
           },
           "zerolinecolor": "#283442",
           "automargin": true,
           "zerolinewidth": 2
          },
          "scene": {
           "xaxis": {
            "backgroundcolor": "rgb(17,17,17)",
            "gridcolor": "#506784",
            "linecolor": "#506784",
            "showbackground": true,
            "ticks": "",
            "zerolinecolor": "#C8D4E3",
            "gridwidth": 2
           },
           "yaxis": {
            "backgroundcolor": "rgb(17,17,17)",
            "gridcolor": "#506784",
            "linecolor": "#506784",
            "showbackground": true,
            "ticks": "",
            "zerolinecolor": "#C8D4E3",
            "gridwidth": 2
           },
           "zaxis": {
            "backgroundcolor": "rgb(17,17,17)",
            "gridcolor": "#506784",
            "linecolor": "#506784",
            "showbackground": true,
            "ticks": "",
            "zerolinecolor": "#C8D4E3",
            "gridwidth": 2
           }
          },
          "shapedefaults": {
           "line": {
            "color": "#f2f5fa"
           }
          },
          "annotationdefaults": {
           "arrowcolor": "#f2f5fa",
           "arrowhead": 0,
           "arrowwidth": 1
          },
          "geo": {
           "bgcolor": "rgb(17,17,17)",
           "landcolor": "rgb(17,17,17)",
           "subunitcolor": "#506784",
           "showland": true,
           "showlakes": true,
           "lakecolor": "rgb(17,17,17)"
          },
          "title": {
           "x": 0.05
          },
          "updatemenudefaults": {
           "bgcolor": "#506784",
           "borderwidth": 0
          },
          "sliderdefaults": {
           "bgcolor": "#C8D4E3",
           "borderwidth": 1,
           "bordercolor": "rgb(17,17,17)",
           "tickwidth": 0
          },
          "mapbox": {
           "style": "dark"
          }
         }
        },
        "legend": {
         "tracegroupgap": 0
        },
        "title": {
         "text": "Oscar nominees Gender Imbalance"
        }
       },
       "config": {
        "plotlyServerURL": "https://plot.ly"
       }
      },
      "text/html": [
       "<div>                            <div id=\"d88c004b-809c-4525-8a5b-3223fee8f62b\" class=\"plotly-graph-div\" style=\"height:525px; width:100%;\"></div>            <script type=\"text/javascript\">                require([\"plotly\"], function(Plotly) {                    window.PLOTLYENV=window.PLOTLYENV || {};                                    if (document.getElementById(\"d88c004b-809c-4525-8a5b-3223fee8f62b\")) {                    Plotly.newPlot(                        \"d88c004b-809c-4525-8a5b-3223fee8f62b\",                        [{\"customdata\":[[\"Male\"],[\"Female\"]],\"domain\":{\"x\":[0.0,1.0],\"y\":[0.0,1.0]},\"hovertemplate\":\"gender=%{customdata[0]}\\u003cbr\\u003ecount=%{value}\\u003cextra\\u003e\\u003c\\u002fextra\\u003e\",\"labels\":[\"Male\",\"Female\"],\"legendgroup\":\"\",\"marker\":{\"colors\":[\"#636efa\",\"#EF553B\"]},\"name\":\"\",\"showlegend\":true,\"values\":[4951,972],\"type\":\"pie\"}],                        {\"template\":{\"data\":{\"histogram2dcontour\":[{\"type\":\"histogram2dcontour\",\"colorbar\":{\"outlinewidth\":0,\"ticks\":\"\"},\"colorscale\":[[0.0,\"#0d0887\"],[0.1111111111111111,\"#46039f\"],[0.2222222222222222,\"#7201a8\"],[0.3333333333333333,\"#9c179e\"],[0.4444444444444444,\"#bd3786\"],[0.5555555555555556,\"#d8576b\"],[0.6666666666666666,\"#ed7953\"],[0.7777777777777778,\"#fb9f3a\"],[0.8888888888888888,\"#fdca26\"],[1.0,\"#f0f921\"]]}],\"choropleth\":[{\"type\":\"choropleth\",\"colorbar\":{\"outlinewidth\":0,\"ticks\":\"\"}}],\"histogram2d\":[{\"type\":\"histogram2d\",\"colorbar\":{\"outlinewidth\":0,\"ticks\":\"\"},\"colorscale\":[[0.0,\"#0d0887\"],[0.1111111111111111,\"#46039f\"],[0.2222222222222222,\"#7201a8\"],[0.3333333333333333,\"#9c179e\"],[0.4444444444444444,\"#bd3786\"],[0.5555555555555556,\"#d8576b\"],[0.6666666666666666,\"#ed7953\"],[0.7777777777777778,\"#fb9f3a\"],[0.8888888888888888,\"#fdca26\"],[1.0,\"#f0f921\"]]}],\"heatmap\":[{\"type\":\"heatmap\",\"colorbar\":{\"outlinewidth\":0,\"ticks\":\"\"},\"colorscale\":[[0.0,\"#0d0887\"],[0.1111111111111111,\"#46039f\"],[0.2222222222222222,\"#7201a8\"],[0.3333333333333333,\"#9c179e\"],[0.4444444444444444,\"#bd3786\"],[0.5555555555555556,\"#d8576b\"],[0.6666666666666666,\"#ed7953\"],[0.7777777777777778,\"#fb9f3a\"],[0.8888888888888888,\"#fdca26\"],[1.0,\"#f0f921\"]]}],\"heatmapgl\":[{\"type\":\"heatmapgl\",\"colorbar\":{\"outlinewidth\":0,\"ticks\":\"\"},\"colorscale\":[[0.0,\"#0d0887\"],[0.1111111111111111,\"#46039f\"],[0.2222222222222222,\"#7201a8\"],[0.3333333333333333,\"#9c179e\"],[0.4444444444444444,\"#bd3786\"],[0.5555555555555556,\"#d8576b\"],[0.6666666666666666,\"#ed7953\"],[0.7777777777777778,\"#fb9f3a\"],[0.8888888888888888,\"#fdca26\"],[1.0,\"#f0f921\"]]}],\"contourcarpet\":[{\"type\":\"contourcarpet\",\"colorbar\":{\"outlinewidth\":0,\"ticks\":\"\"}}],\"contour\":[{\"type\":\"contour\",\"colorbar\":{\"outlinewidth\":0,\"ticks\":\"\"},\"colorscale\":[[0.0,\"#0d0887\"],[0.1111111111111111,\"#46039f\"],[0.2222222222222222,\"#7201a8\"],[0.3333333333333333,\"#9c179e\"],[0.4444444444444444,\"#bd3786\"],[0.5555555555555556,\"#d8576b\"],[0.6666666666666666,\"#ed7953\"],[0.7777777777777778,\"#fb9f3a\"],[0.8888888888888888,\"#fdca26\"],[1.0,\"#f0f921\"]]}],\"surface\":[{\"type\":\"surface\",\"colorbar\":{\"outlinewidth\":0,\"ticks\":\"\"},\"colorscale\":[[0.0,\"#0d0887\"],[0.1111111111111111,\"#46039f\"],[0.2222222222222222,\"#7201a8\"],[0.3333333333333333,\"#9c179e\"],[0.4444444444444444,\"#bd3786\"],[0.5555555555555556,\"#d8576b\"],[0.6666666666666666,\"#ed7953\"],[0.7777777777777778,\"#fb9f3a\"],[0.8888888888888888,\"#fdca26\"],[1.0,\"#f0f921\"]]}],\"mesh3d\":[{\"type\":\"mesh3d\",\"colorbar\":{\"outlinewidth\":0,\"ticks\":\"\"}}],\"scatter\":[{\"marker\":{\"line\":{\"color\":\"#283442\"}},\"type\":\"scatter\"}],\"parcoords\":[{\"type\":\"parcoords\",\"line\":{\"colorbar\":{\"outlinewidth\":0,\"ticks\":\"\"}}}],\"scatterpolargl\":[{\"type\":\"scatterpolargl\",\"marker\":{\"colorbar\":{\"outlinewidth\":0,\"ticks\":\"\"}}}],\"bar\":[{\"error_x\":{\"color\":\"#f2f5fa\"},\"error_y\":{\"color\":\"#f2f5fa\"},\"marker\":{\"line\":{\"color\":\"rgb(17,17,17)\",\"width\":0.5},\"pattern\":{\"fillmode\":\"overlay\",\"size\":10,\"solidity\":0.2}},\"type\":\"bar\"}],\"scattergeo\":[{\"type\":\"scattergeo\",\"marker\":{\"colorbar\":{\"outlinewidth\":0,\"ticks\":\"\"}}}],\"scatterpolar\":[{\"type\":\"scatterpolar\",\"marker\":{\"colorbar\":{\"outlinewidth\":0,\"ticks\":\"\"}}}],\"histogram\":[{\"marker\":{\"pattern\":{\"fillmode\":\"overlay\",\"size\":10,\"solidity\":0.2}},\"type\":\"histogram\"}],\"scattergl\":[{\"marker\":{\"line\":{\"color\":\"#283442\"}},\"type\":\"scattergl\"}],\"scatter3d\":[{\"type\":\"scatter3d\",\"line\":{\"colorbar\":{\"outlinewidth\":0,\"ticks\":\"\"}},\"marker\":{\"colorbar\":{\"outlinewidth\":0,\"ticks\":\"\"}}}],\"scattermapbox\":[{\"type\":\"scattermapbox\",\"marker\":{\"colorbar\":{\"outlinewidth\":0,\"ticks\":\"\"}}}],\"scatterternary\":[{\"type\":\"scatterternary\",\"marker\":{\"colorbar\":{\"outlinewidth\":0,\"ticks\":\"\"}}}],\"scattercarpet\":[{\"type\":\"scattercarpet\",\"marker\":{\"colorbar\":{\"outlinewidth\":0,\"ticks\":\"\"}}}],\"carpet\":[{\"aaxis\":{\"endlinecolor\":\"#A2B1C6\",\"gridcolor\":\"#506784\",\"linecolor\":\"#506784\",\"minorgridcolor\":\"#506784\",\"startlinecolor\":\"#A2B1C6\"},\"baxis\":{\"endlinecolor\":\"#A2B1C6\",\"gridcolor\":\"#506784\",\"linecolor\":\"#506784\",\"minorgridcolor\":\"#506784\",\"startlinecolor\":\"#A2B1C6\"},\"type\":\"carpet\"}],\"table\":[{\"cells\":{\"fill\":{\"color\":\"#506784\"},\"line\":{\"color\":\"rgb(17,17,17)\"}},\"header\":{\"fill\":{\"color\":\"#2a3f5f\"},\"line\":{\"color\":\"rgb(17,17,17)\"}},\"type\":\"table\"}],\"barpolar\":[{\"marker\":{\"line\":{\"color\":\"rgb(17,17,17)\",\"width\":0.5},\"pattern\":{\"fillmode\":\"overlay\",\"size\":10,\"solidity\":0.2}},\"type\":\"barpolar\"}],\"pie\":[{\"automargin\":true,\"type\":\"pie\"}]},\"layout\":{\"autotypenumbers\":\"strict\",\"colorway\":[\"#636efa\",\"#EF553B\",\"#00cc96\",\"#ab63fa\",\"#FFA15A\",\"#19d3f3\",\"#FF6692\",\"#B6E880\",\"#FF97FF\",\"#FECB52\"],\"font\":{\"color\":\"#f2f5fa\"},\"hovermode\":\"closest\",\"hoverlabel\":{\"align\":\"left\"},\"paper_bgcolor\":\"rgb(17,17,17)\",\"plot_bgcolor\":\"rgb(17,17,17)\",\"polar\":{\"bgcolor\":\"rgb(17,17,17)\",\"angularaxis\":{\"gridcolor\":\"#506784\",\"linecolor\":\"#506784\",\"ticks\":\"\"},\"radialaxis\":{\"gridcolor\":\"#506784\",\"linecolor\":\"#506784\",\"ticks\":\"\"}},\"ternary\":{\"bgcolor\":\"rgb(17,17,17)\",\"aaxis\":{\"gridcolor\":\"#506784\",\"linecolor\":\"#506784\",\"ticks\":\"\"},\"baxis\":{\"gridcolor\":\"#506784\",\"linecolor\":\"#506784\",\"ticks\":\"\"},\"caxis\":{\"gridcolor\":\"#506784\",\"linecolor\":\"#506784\",\"ticks\":\"\"}},\"coloraxis\":{\"colorbar\":{\"outlinewidth\":0,\"ticks\":\"\"}},\"colorscale\":{\"sequential\":[[0.0,\"#0d0887\"],[0.1111111111111111,\"#46039f\"],[0.2222222222222222,\"#7201a8\"],[0.3333333333333333,\"#9c179e\"],[0.4444444444444444,\"#bd3786\"],[0.5555555555555556,\"#d8576b\"],[0.6666666666666666,\"#ed7953\"],[0.7777777777777778,\"#fb9f3a\"],[0.8888888888888888,\"#fdca26\"],[1.0,\"#f0f921\"]],\"sequentialminus\":[[0.0,\"#0d0887\"],[0.1111111111111111,\"#46039f\"],[0.2222222222222222,\"#7201a8\"],[0.3333333333333333,\"#9c179e\"],[0.4444444444444444,\"#bd3786\"],[0.5555555555555556,\"#d8576b\"],[0.6666666666666666,\"#ed7953\"],[0.7777777777777778,\"#fb9f3a\"],[0.8888888888888888,\"#fdca26\"],[1.0,\"#f0f921\"]],\"diverging\":[[0,\"#8e0152\"],[0.1,\"#c51b7d\"],[0.2,\"#de77ae\"],[0.3,\"#f1b6da\"],[0.4,\"#fde0ef\"],[0.5,\"#f7f7f7\"],[0.6,\"#e6f5d0\"],[0.7,\"#b8e186\"],[0.8,\"#7fbc41\"],[0.9,\"#4d9221\"],[1,\"#276419\"]]},\"xaxis\":{\"gridcolor\":\"#283442\",\"linecolor\":\"#506784\",\"ticks\":\"\",\"title\":{\"standoff\":15},\"zerolinecolor\":\"#283442\",\"automargin\":true,\"zerolinewidth\":2},\"yaxis\":{\"gridcolor\":\"#283442\",\"linecolor\":\"#506784\",\"ticks\":\"\",\"title\":{\"standoff\":15},\"zerolinecolor\":\"#283442\",\"automargin\":true,\"zerolinewidth\":2},\"scene\":{\"xaxis\":{\"backgroundcolor\":\"rgb(17,17,17)\",\"gridcolor\":\"#506784\",\"linecolor\":\"#506784\",\"showbackground\":true,\"ticks\":\"\",\"zerolinecolor\":\"#C8D4E3\",\"gridwidth\":2},\"yaxis\":{\"backgroundcolor\":\"rgb(17,17,17)\",\"gridcolor\":\"#506784\",\"linecolor\":\"#506784\",\"showbackground\":true,\"ticks\":\"\",\"zerolinecolor\":\"#C8D4E3\",\"gridwidth\":2},\"zaxis\":{\"backgroundcolor\":\"rgb(17,17,17)\",\"gridcolor\":\"#506784\",\"linecolor\":\"#506784\",\"showbackground\":true,\"ticks\":\"\",\"zerolinecolor\":\"#C8D4E3\",\"gridwidth\":2}},\"shapedefaults\":{\"line\":{\"color\":\"#f2f5fa\"}},\"annotationdefaults\":{\"arrowcolor\":\"#f2f5fa\",\"arrowhead\":0,\"arrowwidth\":1},\"geo\":{\"bgcolor\":\"rgb(17,17,17)\",\"landcolor\":\"rgb(17,17,17)\",\"subunitcolor\":\"#506784\",\"showland\":true,\"showlakes\":true,\"lakecolor\":\"rgb(17,17,17)\"},\"title\":{\"x\":0.05},\"updatemenudefaults\":{\"bgcolor\":\"#506784\",\"borderwidth\":0},\"sliderdefaults\":{\"bgcolor\":\"#C8D4E3\",\"borderwidth\":1,\"bordercolor\":\"rgb(17,17,17)\",\"tickwidth\":0},\"mapbox\":{\"style\":\"dark\"}}},\"legend\":{\"tracegroupgap\":0},\"title\":{\"text\":\"Oscar nominees Gender Imbalance\"}},                        {\"responsive\": true}                    ).then(function(){\n",
       "                            \n",
       "var gd = document.getElementById('d88c004b-809c-4525-8a5b-3223fee8f62b');\n",
       "var x = new MutationObserver(function (mutations, observer) {{\n",
       "        var display = window.getComputedStyle(gd).display;\n",
       "        if (!display || display === 'none') {{\n",
       "            console.log([gd, 'removed!']);\n",
       "            Plotly.purge(gd);\n",
       "            observer.disconnect();\n",
       "        }}\n",
       "}});\n",
       "\n",
       "// Listen for the removal of the full notebook cells\n",
       "var notebookContainer = gd.closest('#notebook-container');\n",
       "if (notebookContainer) {{\n",
       "    x.observe(notebookContainer, {childList: true});\n",
       "}}\n",
       "\n",
       "// Listen for the clearing of the current output cell\n",
       "var outputEl = gd.closest('.output');\n",
       "if (outputEl) {{\n",
       "    x.observe(outputEl, {childList: true});\n",
       "}}\n",
       "\n",
       "                        })                };                });            </script>        </div>"
      ]
     },
     "metadata": {},
     "output_type": "display_data"
    }
   ],
   "execution_count": 11
  },
  {
   "metadata": {
    "ExecuteTime": {
     "end_time": "2024-12-17T12:13:00.154918Z",
     "start_time": "2024-12-17T12:13:00.143328Z"
    }
   },
   "cell_type": "code",
   "source": "oscar_award['category'].value_counts()",
   "id": "dd65bd914cd9e8ba",
   "outputs": [
    {
     "data": {
      "text/plain": [
       "category\n",
       "DIRECTING                                    469\n",
       "FILM EDITING                                 450\n",
       "ACTRESS IN A SUPPORTING ROLE                 440\n",
       "ACTOR IN A SUPPORTING ROLE                   440\n",
       "DOCUMENTARY (Short Subject)                  378\n",
       "                                            ... \n",
       "SPECIAL FOREIGN LANGUAGE FILM AWARD            2\n",
       "GORDON E. SAWYER AWARD                         1\n",
       "SPECIAL ACHIEVEMENT AWARD (Sound Editing)      1\n",
       "SPECIAL ACHIEVEMENT AWARD (Sound Effects)      1\n",
       "AWARD OF COMMENDATION                          1\n",
       "Name: count, Length: 115, dtype: int64"
      ]
     },
     "execution_count": 12,
     "metadata": {},
     "output_type": "execute_result"
    }
   ],
   "execution_count": 12
  },
  {
   "metadata": {
    "ExecuteTime": {
     "end_time": "2024-12-17T12:13:00.626097Z",
     "start_time": "2024-12-17T12:13:00.613520Z"
    }
   },
   "cell_type": "code",
   "source": "list(oscar_award['category'].unique())",
   "id": "5de7c6963a230636",
   "outputs": [
    {
     "data": {
      "text/plain": [
       "['ACTOR',\n",
       " 'ACTRESS',\n",
       " 'ART DIRECTION',\n",
       " 'CINEMATOGRAPHY',\n",
       " 'DIRECTING (Comedy Picture)',\n",
       " 'DIRECTING (Dramatic Picture)',\n",
       " 'ENGINEERING EFFECTS',\n",
       " 'OUTSTANDING PICTURE',\n",
       " 'UNIQUE AND ARTISTIC PICTURE',\n",
       " 'WRITING (Adaptation)',\n",
       " 'WRITING (Original Story)',\n",
       " 'WRITING (Title Writing)',\n",
       " 'SPECIAL AWARD',\n",
       " 'DIRECTING',\n",
       " 'WRITING',\n",
       " 'OUTSTANDING PRODUCTION',\n",
       " 'SOUND RECORDING',\n",
       " 'SHORT SUBJECT (Cartoon)',\n",
       " 'SHORT SUBJECT (Comedy)',\n",
       " 'SHORT SUBJECT (Novelty)',\n",
       " 'ASSISTANT DIRECTOR',\n",
       " 'FILM EDITING',\n",
       " 'MUSIC (Scoring)',\n",
       " 'MUSIC (Song)',\n",
       " 'DANCE DIRECTION',\n",
       " 'WRITING (Screenplay)',\n",
       " 'ACTOR IN A SUPPORTING ROLE',\n",
       " 'ACTRESS IN A SUPPORTING ROLE',\n",
       " 'SHORT SUBJECT (Color)',\n",
       " 'SHORT SUBJECT (One-reel)',\n",
       " 'SHORT SUBJECT (Two-reel)',\n",
       " 'IRVING G. THALBERG MEMORIAL AWARD',\n",
       " 'MUSIC (Original Score)',\n",
       " 'CINEMATOGRAPHY (Black-and-White)',\n",
       " 'CINEMATOGRAPHY (Color)',\n",
       " 'SPECIAL EFFECTS',\n",
       " 'ART DIRECTION (Black-and-White)',\n",
       " 'ART DIRECTION (Color)',\n",
       " 'WRITING (Original Screenplay)',\n",
       " 'DOCUMENTARY (Short Subject)',\n",
       " 'MUSIC (Music Score of a Dramatic Picture)',\n",
       " 'MUSIC (Scoring of a Musical Picture)',\n",
       " 'OUTSTANDING MOTION PICTURE',\n",
       " 'DOCUMENTARY',\n",
       " 'MUSIC (Music Score of a Dramatic or Comedy Picture)',\n",
       " 'WRITING (Original Motion Picture Story)',\n",
       " 'DOCUMENTARY (Feature)',\n",
       " 'BEST MOTION PICTURE',\n",
       " 'WRITING (Motion Picture Story)',\n",
       " 'COSTUME DESIGN (Black-and-White)',\n",
       " 'COSTUME DESIGN (Color)',\n",
       " 'SPECIAL FOREIGN LANGUAGE FILM AWARD',\n",
       " 'WRITING (Story and Screenplay)',\n",
       " 'HONORARY FOREIGN LANGUAGE FILM AWARD',\n",
       " 'HONORARY AWARD',\n",
       " 'FOREIGN LANGUAGE FILM',\n",
       " 'WRITING (Screenplay--Adapted)',\n",
       " 'WRITING (Screenplay--Original)',\n",
       " 'JEAN HERSHOLT HUMANITARIAN AWARD',\n",
       " 'COSTUME DESIGN',\n",
       " 'SHORT SUBJECT (Live Action)',\n",
       " 'WRITING (Screenplay--based on material from another medium)',\n",
       " 'WRITING (Story and Screenplay--written directly for the screen)',\n",
       " 'SOUND',\n",
       " 'MUSIC (Music Score--substantially original)',\n",
       " 'MUSIC (Scoring of Music--adaptation or treatment)',\n",
       " 'BEST PICTURE',\n",
       " 'SOUND EFFECTS',\n",
       " 'SPECIAL VISUAL EFFECTS',\n",
       " 'MUSIC (Original Music Score)',\n",
       " 'MUSIC (Original Score--for a motion picture [not a musical])',\n",
       " 'MUSIC (Score of a Musical Picture--original or adaptation)',\n",
       " 'MUSIC (Song--Original for the Picture)',\n",
       " 'WRITING (Story and Screenplay--based on material not previously published or produced)',\n",
       " 'MUSIC (Original Song Score)',\n",
       " 'WRITING (Story and Screenplay--based on factual material or material not previously published or produced)',\n",
       " 'MUSIC (Original Dramatic Score)',\n",
       " 'MUSIC (Scoring: Adaptation and Original Song Score)',\n",
       " 'SHORT SUBJECT (Animated)',\n",
       " 'SPECIAL ACHIEVEMENT AWARD (Visual Effects)',\n",
       " 'MUSIC (Scoring: Original Song Score and Adaptation -or- Scoring: Adaptation)',\n",
       " 'SHORT FILM (Animated)',\n",
       " 'SHORT FILM (Live Action)',\n",
       " 'WRITING (Screenplay Adapted from Other Material)',\n",
       " 'MUSIC (Original Song)',\n",
       " 'SPECIAL ACHIEVEMENT AWARD (Sound Effects)',\n",
       " 'ACTOR IN A LEADING ROLE',\n",
       " 'ACTRESS IN A LEADING ROLE',\n",
       " 'MUSIC (Original Song Score and Its Adaptation or Adaptation Score)',\n",
       " 'WRITING (Screenplay Written Directly for the Screen--based on factual material or on story material not previously published or produced)',\n",
       " 'VISUAL EFFECTS',\n",
       " 'SPECIAL ACHIEVEMENT AWARD',\n",
       " 'SPECIAL ACHIEVEMENT AWARD (Sound Effects Editing)',\n",
       " 'MUSIC (Adaptation Score)',\n",
       " 'WRITING (Screenplay Based on Material from Another Medium)',\n",
       " 'WRITING (Screenplay Written Directly for the Screen)',\n",
       " 'MUSIC (Original Song Score and Its Adaptation -or- Adaptation Score)',\n",
       " 'SPECIAL ACHIEVEMENT AWARD (Sound Editing)',\n",
       " 'SHORT FILM (Dramatic Live Action)',\n",
       " 'MAKEUP',\n",
       " 'SOUND EFFECTS EDITING',\n",
       " 'MUSIC (Original Song Score or Adaptation Score)',\n",
       " 'WRITING (Screenplay Based on Material Previously Produced or Published)',\n",
       " 'MUSIC (Original Musical or Comedy Score)',\n",
       " 'SOUND EDITING',\n",
       " 'ANIMATED FEATURE FILM',\n",
       " 'WRITING (Adapted Screenplay)',\n",
       " 'SOUND MIXING',\n",
       " 'MAKEUP AND HAIRSTYLING',\n",
       " 'PRODUCTION DESIGN',\n",
       " 'INTERNATIONAL FEATURE FILM',\n",
       " 'DOCUMENTARY FEATURE FILM',\n",
       " 'DOCUMENTARY SHORT FILM',\n",
       " 'GORDON E. SAWYER AWARD',\n",
       " 'AWARD OF COMMENDATION']"
      ]
     },
     "execution_count": 13,
     "metadata": {},
     "output_type": "execute_result"
    }
   ],
   "execution_count": 13
  },
  {
   "metadata": {
    "ExecuteTime": {
     "end_time": "2024-12-17T12:13:01.146351Z",
     "start_time": "2024-12-17T12:13:01.126358Z"
    }
   },
   "cell_type": "code",
   "source": "oscar_award[oscar_award['category'] == 'WRITING (Screenplay)']",
   "id": "5607f8bfa20effc7",
   "outputs": [
    {
     "data": {
      "text/plain": [
       "      year_film  year_ceremony  ceremony              category  \\\n",
       "410        1935           1936         8  WRITING (Screenplay)   \n",
       "411        1935           1936         8  WRITING (Screenplay)   \n",
       "412        1935           1936         8  WRITING (Screenplay)   \n",
       "413        1935           1936         8  WRITING (Screenplay)   \n",
       "515        1936           1937         9  WRITING (Screenplay)   \n",
       "...         ...            ...       ...                   ...   \n",
       "3123       1955           1956        28  WRITING (Screenplay)   \n",
       "3124       1955           1956        28  WRITING (Screenplay)   \n",
       "3125       1955           1956        28  WRITING (Screenplay)   \n",
       "3126       1955           1956        28  WRITING (Screenplay)   \n",
       "3127       1955           1956        28  WRITING (Screenplay)   \n",
       "\n",
       "                                                   name  \\\n",
       "410                                      Casey Robinson   \n",
       "411                                      Dudley Nichols   \n",
       "412   Screenplay by Waldemar Young, John L. Balderst...   \n",
       "413       Talbot Jennings, Jules Furthman, Carey Wilson   \n",
       "515                    Frances Goodrich, Albert Hackett   \n",
       "...                                                 ...   \n",
       "3123                                    Millard Kaufman   \n",
       "3124                                     Richard Brooks   \n",
       "3125                                        Paul Osborn   \n",
       "3126                       Daniel Fuchs, Isobel Lennart   \n",
       "3127                                    Paddy Chayefsky   \n",
       "\n",
       "                              film  winner  \n",
       "410                  Captain Blood   False  \n",
       "411                   The Informer    True  \n",
       "412   The Lives of a Bengal Lancer   False  \n",
       "413           Mutiny on the Bounty   False  \n",
       "515             After the Thin Man   False  \n",
       "...                            ...     ...  \n",
       "3123         Bad Day at Black Rock   False  \n",
       "3124             Blackboard Jungle   False  \n",
       "3125                  East of Eden   False  \n",
       "3126           Love Me or Leave Me   False  \n",
       "3127                         Marty    True  \n",
       "\n",
       "[104 rows x 7 columns]"
      ],
      "text/html": [
       "<div>\n",
       "<style scoped>\n",
       "    .dataframe tbody tr th:only-of-type {\n",
       "        vertical-align: middle;\n",
       "    }\n",
       "\n",
       "    .dataframe tbody tr th {\n",
       "        vertical-align: top;\n",
       "    }\n",
       "\n",
       "    .dataframe thead th {\n",
       "        text-align: right;\n",
       "    }\n",
       "</style>\n",
       "<table border=\"1\" class=\"dataframe\">\n",
       "  <thead>\n",
       "    <tr style=\"text-align: right;\">\n",
       "      <th></th>\n",
       "      <th>year_film</th>\n",
       "      <th>year_ceremony</th>\n",
       "      <th>ceremony</th>\n",
       "      <th>category</th>\n",
       "      <th>name</th>\n",
       "      <th>film</th>\n",
       "      <th>winner</th>\n",
       "    </tr>\n",
       "  </thead>\n",
       "  <tbody>\n",
       "    <tr>\n",
       "      <th>410</th>\n",
       "      <td>1935</td>\n",
       "      <td>1936</td>\n",
       "      <td>8</td>\n",
       "      <td>WRITING (Screenplay)</td>\n",
       "      <td>Casey Robinson</td>\n",
       "      <td>Captain Blood</td>\n",
       "      <td>False</td>\n",
       "    </tr>\n",
       "    <tr>\n",
       "      <th>411</th>\n",
       "      <td>1935</td>\n",
       "      <td>1936</td>\n",
       "      <td>8</td>\n",
       "      <td>WRITING (Screenplay)</td>\n",
       "      <td>Dudley Nichols</td>\n",
       "      <td>The Informer</td>\n",
       "      <td>True</td>\n",
       "    </tr>\n",
       "    <tr>\n",
       "      <th>412</th>\n",
       "      <td>1935</td>\n",
       "      <td>1936</td>\n",
       "      <td>8</td>\n",
       "      <td>WRITING (Screenplay)</td>\n",
       "      <td>Screenplay by Waldemar Young, John L. Balderst...</td>\n",
       "      <td>The Lives of a Bengal Lancer</td>\n",
       "      <td>False</td>\n",
       "    </tr>\n",
       "    <tr>\n",
       "      <th>413</th>\n",
       "      <td>1935</td>\n",
       "      <td>1936</td>\n",
       "      <td>8</td>\n",
       "      <td>WRITING (Screenplay)</td>\n",
       "      <td>Talbot Jennings, Jules Furthman, Carey Wilson</td>\n",
       "      <td>Mutiny on the Bounty</td>\n",
       "      <td>False</td>\n",
       "    </tr>\n",
       "    <tr>\n",
       "      <th>515</th>\n",
       "      <td>1936</td>\n",
       "      <td>1937</td>\n",
       "      <td>9</td>\n",
       "      <td>WRITING (Screenplay)</td>\n",
       "      <td>Frances Goodrich, Albert Hackett</td>\n",
       "      <td>After the Thin Man</td>\n",
       "      <td>False</td>\n",
       "    </tr>\n",
       "    <tr>\n",
       "      <th>...</th>\n",
       "      <td>...</td>\n",
       "      <td>...</td>\n",
       "      <td>...</td>\n",
       "      <td>...</td>\n",
       "      <td>...</td>\n",
       "      <td>...</td>\n",
       "      <td>...</td>\n",
       "    </tr>\n",
       "    <tr>\n",
       "      <th>3123</th>\n",
       "      <td>1955</td>\n",
       "      <td>1956</td>\n",
       "      <td>28</td>\n",
       "      <td>WRITING (Screenplay)</td>\n",
       "      <td>Millard Kaufman</td>\n",
       "      <td>Bad Day at Black Rock</td>\n",
       "      <td>False</td>\n",
       "    </tr>\n",
       "    <tr>\n",
       "      <th>3124</th>\n",
       "      <td>1955</td>\n",
       "      <td>1956</td>\n",
       "      <td>28</td>\n",
       "      <td>WRITING (Screenplay)</td>\n",
       "      <td>Richard Brooks</td>\n",
       "      <td>Blackboard Jungle</td>\n",
       "      <td>False</td>\n",
       "    </tr>\n",
       "    <tr>\n",
       "      <th>3125</th>\n",
       "      <td>1955</td>\n",
       "      <td>1956</td>\n",
       "      <td>28</td>\n",
       "      <td>WRITING (Screenplay)</td>\n",
       "      <td>Paul Osborn</td>\n",
       "      <td>East of Eden</td>\n",
       "      <td>False</td>\n",
       "    </tr>\n",
       "    <tr>\n",
       "      <th>3126</th>\n",
       "      <td>1955</td>\n",
       "      <td>1956</td>\n",
       "      <td>28</td>\n",
       "      <td>WRITING (Screenplay)</td>\n",
       "      <td>Daniel Fuchs, Isobel Lennart</td>\n",
       "      <td>Love Me or Leave Me</td>\n",
       "      <td>False</td>\n",
       "    </tr>\n",
       "    <tr>\n",
       "      <th>3127</th>\n",
       "      <td>1955</td>\n",
       "      <td>1956</td>\n",
       "      <td>28</td>\n",
       "      <td>WRITING (Screenplay)</td>\n",
       "      <td>Paddy Chayefsky</td>\n",
       "      <td>Marty</td>\n",
       "      <td>True</td>\n",
       "    </tr>\n",
       "  </tbody>\n",
       "</table>\n",
       "<p>104 rows × 7 columns</p>\n",
       "</div>"
      ]
     },
     "execution_count": 14,
     "metadata": {},
     "output_type": "execute_result"
    }
   ],
   "execution_count": 14
  },
  {
   "metadata": {
    "ExecuteTime": {
     "end_time": "2024-12-17T12:13:34.139152Z",
     "start_time": "2024-12-17T12:13:04.459567Z"
    }
   },
   "cell_type": "code",
   "source": [
    "def extract_gender(row):\n",
    "    if 'name' not in row:\n",
    "        print(row)\n",
    "    name = row['name']\n",
    "    category = row['category']\n",
    "    film = row['film']\n",
    "\n",
    "    gender_q = gender_df[\n",
    "        (gender_df['name'] == str(name)) &\n",
    "        (gender_df['category'] == str(category)) &\n",
    "        (gender_df['film'] == str(film))\n",
    "        ]\n",
    "\n",
    "    if gender_q.empty:\n",
    "        return 'unknown'\n",
    "    else:\n",
    "        return gender_q['gender'].iloc[0]\n",
    "\n",
    "\n",
    "oscar_award.loc[:, 'gender'] = oscar_award.apply(extract_gender, axis=1)"
   ],
   "id": "24e9cd30dd106927",
   "outputs": [],
   "execution_count": 15
  },
  {
   "metadata": {
    "ExecuteTime": {
     "end_time": "2024-12-17T12:13:34.148878Z",
     "start_time": "2024-12-17T12:13:34.146673Z"
    }
   },
   "cell_type": "code",
   "source": "",
   "id": "fffe578747fbb482",
   "outputs": [],
   "execution_count": null
  },
  {
   "metadata": {
    "ExecuteTime": {
     "end_time": "2024-12-17T12:13:34.179484Z",
     "start_time": "2024-12-17T12:13:34.173957Z"
    }
   },
   "cell_type": "code",
   "source": [
    "combined_category = {\n",
    "    'ART DIRECTION': \"ART DIRECTION\",\n",
    "    \"ACTOR\": \"ACTOR\",\n",
    "    \"ACTRESS\": \"ACTRESS\",\n",
    "    \"ACTOR IN A LEADING ROLE\": \"ACTOR IN A LEADING ROLE\",\n",
    "    \"ACTRESS IN A LEADING ROLE\": \"ACTRESS IN A LEADING ROLE\",\n",
    "    \"ACTOR IN A SUPPORTING ROLE\": \"ACTOR IN A SUPPORTING ROLE\",\n",
    "    \"ACTRESS IN A SUPPORTING ROLE\": \"ACTRESS IN A SUPPORTING ROLE\",\n",
    "    \"CINEMATOGRAPHY\": \"CINEMATOGRAPHY\",\n",
    "    \"CINEMATOGRAPHY (Black-and-White)\": \"CINEMATOGRAPHY\",\n",
    "    \"CINEMATOGRAPHY (Color)\": \"CINEMATOGRAPHY\",\n",
    "    'COSTUME DESIGN': \"COSTUME DESIGN\",\n",
    "    'MUSIC (Original Score)': \"MUSIC\",\n",
    "    \"DIRECTING\": \"DIRECTING\",\n",
    "    \"DIRECTING (Comedy Picture)\": \"DIRECTING\",\n",
    "    \"DIRECTING (Dramatic Picture)\": \"DIRECTING\",\n",
    "    \"ASSISTANT DIRECTOR\": \"ASSISTANT DIRECTOR\",\n",
    "    \"DANCE DIRECTION\": \"DANCE DIRECTION\",\n",
    "    \"WRITING (Adaptation)\": \"WRITING\",\n",
    "    \"WRITING (Original Story)\": \"WRITING\",\n",
    "    \"WRITING (Title Writing)\": \"WRITING\",\n",
    "    \"WRITING\": \"WRITING\",\n",
    "    \"WRITING (Screenplay)\": \"WRITING\",\n",
    "    \"WRITING (Original Screenplay)\": \"WRITING\",\n",
    "    \"WRITING (Motion Picture Story)\": \"WRITING\",\n",
    "    \"WRITING (Story and Screenplay)\": \"WRITING\",\n",
    "    \"WRITING (Screenplay--Adapted)\": \"WRITING\",\n",
    "    \"WRITING (Screenplay--Original)\": \"WRITING\",\n",
    "    \"WRITING (Screenplay--based on material from another medium)\": \"WRITING\",\n",
    "    \"WRITING (Story and Screenplay--written directly for the screen)\": \"WRITING\",\n",
    "    \"WRITING (Screenplay Written Directly for the Screen)\": \"WRITING\",\n",
    "    \"WRITING (Screenplay Based on Material from Another Medium)\": \"WRITING\",\n",
    "    \"WRITING (Screenplay Written Directly for the Screen--based on factual material or on story material not previously published or produced)\": \"WRITING\",\n",
    "    \"WRITING (Adapted Screenplay)\": \"WRITING\",\n",
    "    \"MAKEUP\": \"MAKEUP\",\n",
    "    \"MAKEUP AND HAIRSTYLING\": \"MAKEUP\",\n",
    "    'FILM EDITING': \"FILM EDITING\",\n",
    "}\n",
    "\n",
    "human_category = list(combined_category.keys())"
   ],
   "id": "c6cb8668ae108bf8",
   "outputs": [],
   "execution_count": 16
  },
  {
   "metadata": {
    "ExecuteTime": {
     "end_time": "2024-12-17T12:13:34.210399Z",
     "start_time": "2024-12-17T12:13:34.200165Z"
    }
   },
   "cell_type": "code",
   "source": [
    "human_oscar_award = oscar_award[oscar_award['category'].isin(human_category)]\n",
    "\n",
    "human_oscar_award.loc[:, 'category'] = human_oscar_award['category'].apply(lambda x: combined_category[x])"
   ],
   "id": "41909f233de7289b",
   "outputs": [],
   "execution_count": 17
  },
  {
   "metadata": {
    "ExecuteTime": {
     "end_time": "2024-12-17T12:13:34.237908Z",
     "start_time": "2024-12-17T12:13:34.227905Z"
    }
   },
   "cell_type": "code",
   "source": "human_oscar_award[human_oscar_award['category'] == 'ART DIRECTION']",
   "id": "781a4b4427ca81de",
   "outputs": [
    {
     "data": {
      "text/plain": [
       "      year_film  year_ceremony  ceremony       category  \\\n",
       "5          1927           1928         1  ART DIRECTION   \n",
       "6          1927           1928         1  ART DIRECTION   \n",
       "7          1927           1928         1  ART DIRECTION   \n",
       "46         1928           1929         2  ART DIRECTION   \n",
       "47         1928           1929         2  ART DIRECTION   \n",
       "...         ...            ...       ...            ...   \n",
       "9291       2011           2012        84  ART DIRECTION   \n",
       "9292       2011           2012        84  ART DIRECTION   \n",
       "9293       2011           2012        84  ART DIRECTION   \n",
       "9294       2011           2012        84  ART DIRECTION   \n",
       "9295       2011           2012        84  ART DIRECTION   \n",
       "\n",
       "                                                   name  \\\n",
       "5                                         Rochus Gliese   \n",
       "6                               William Cameron Menzies   \n",
       "7                                          Harry Oliver   \n",
       "46                                          Hans Dreier   \n",
       "47                                       Cedric Gibbons   \n",
       "...                                                 ...   \n",
       "9291  Production Design: Laurence Bennett; Set Decor...   \n",
       "9292  Production Design: Stuart Craig; Set Decoratio...   \n",
       "9293  Production Design: Dante Ferretti; Set Decorat...   \n",
       "9294  Production Design: Anne Seibel; Set Decoration...   \n",
       "9295  Production Design: Rick Carter; Set Decoration...   \n",
       "\n",
       "                                             film  winner   gender  \n",
       "5                                         Sunrise   False     Male  \n",
       "6                                       The Dove;    True     Male  \n",
       "7                                      7th Heaven   False     Male  \n",
       "46                                    The Patriot   False     Male  \n",
       "47                     The Bridge of San Luis Rey    True     Male  \n",
       "...                                           ...     ...      ...  \n",
       "9291                                   The Artist   False     Male  \n",
       "9292  Harry Potter and the Deathly Hallows Part 2   False   Female  \n",
       "9293                                         Hugo    True  unknown  \n",
       "9294                            Midnight in Paris   False  unknown  \n",
       "9295                                    War Horse   False     Male  \n",
       "\n",
       "[307 rows x 8 columns]"
      ],
      "text/html": [
       "<div>\n",
       "<style scoped>\n",
       "    .dataframe tbody tr th:only-of-type {\n",
       "        vertical-align: middle;\n",
       "    }\n",
       "\n",
       "    .dataframe tbody tr th {\n",
       "        vertical-align: top;\n",
       "    }\n",
       "\n",
       "    .dataframe thead th {\n",
       "        text-align: right;\n",
       "    }\n",
       "</style>\n",
       "<table border=\"1\" class=\"dataframe\">\n",
       "  <thead>\n",
       "    <tr style=\"text-align: right;\">\n",
       "      <th></th>\n",
       "      <th>year_film</th>\n",
       "      <th>year_ceremony</th>\n",
       "      <th>ceremony</th>\n",
       "      <th>category</th>\n",
       "      <th>name</th>\n",
       "      <th>film</th>\n",
       "      <th>winner</th>\n",
       "      <th>gender</th>\n",
       "    </tr>\n",
       "  </thead>\n",
       "  <tbody>\n",
       "    <tr>\n",
       "      <th>5</th>\n",
       "      <td>1927</td>\n",
       "      <td>1928</td>\n",
       "      <td>1</td>\n",
       "      <td>ART DIRECTION</td>\n",
       "      <td>Rochus Gliese</td>\n",
       "      <td>Sunrise</td>\n",
       "      <td>False</td>\n",
       "      <td>Male</td>\n",
       "    </tr>\n",
       "    <tr>\n",
       "      <th>6</th>\n",
       "      <td>1927</td>\n",
       "      <td>1928</td>\n",
       "      <td>1</td>\n",
       "      <td>ART DIRECTION</td>\n",
       "      <td>William Cameron Menzies</td>\n",
       "      <td>The Dove;</td>\n",
       "      <td>True</td>\n",
       "      <td>Male</td>\n",
       "    </tr>\n",
       "    <tr>\n",
       "      <th>7</th>\n",
       "      <td>1927</td>\n",
       "      <td>1928</td>\n",
       "      <td>1</td>\n",
       "      <td>ART DIRECTION</td>\n",
       "      <td>Harry Oliver</td>\n",
       "      <td>7th Heaven</td>\n",
       "      <td>False</td>\n",
       "      <td>Male</td>\n",
       "    </tr>\n",
       "    <tr>\n",
       "      <th>46</th>\n",
       "      <td>1928</td>\n",
       "      <td>1929</td>\n",
       "      <td>2</td>\n",
       "      <td>ART DIRECTION</td>\n",
       "      <td>Hans Dreier</td>\n",
       "      <td>The Patriot</td>\n",
       "      <td>False</td>\n",
       "      <td>Male</td>\n",
       "    </tr>\n",
       "    <tr>\n",
       "      <th>47</th>\n",
       "      <td>1928</td>\n",
       "      <td>1929</td>\n",
       "      <td>2</td>\n",
       "      <td>ART DIRECTION</td>\n",
       "      <td>Cedric Gibbons</td>\n",
       "      <td>The Bridge of San Luis Rey</td>\n",
       "      <td>True</td>\n",
       "      <td>Male</td>\n",
       "    </tr>\n",
       "    <tr>\n",
       "      <th>...</th>\n",
       "      <td>...</td>\n",
       "      <td>...</td>\n",
       "      <td>...</td>\n",
       "      <td>...</td>\n",
       "      <td>...</td>\n",
       "      <td>...</td>\n",
       "      <td>...</td>\n",
       "      <td>...</td>\n",
       "    </tr>\n",
       "    <tr>\n",
       "      <th>9291</th>\n",
       "      <td>2011</td>\n",
       "      <td>2012</td>\n",
       "      <td>84</td>\n",
       "      <td>ART DIRECTION</td>\n",
       "      <td>Production Design: Laurence Bennett; Set Decor...</td>\n",
       "      <td>The Artist</td>\n",
       "      <td>False</td>\n",
       "      <td>Male</td>\n",
       "    </tr>\n",
       "    <tr>\n",
       "      <th>9292</th>\n",
       "      <td>2011</td>\n",
       "      <td>2012</td>\n",
       "      <td>84</td>\n",
       "      <td>ART DIRECTION</td>\n",
       "      <td>Production Design: Stuart Craig; Set Decoratio...</td>\n",
       "      <td>Harry Potter and the Deathly Hallows Part 2</td>\n",
       "      <td>False</td>\n",
       "      <td>Female</td>\n",
       "    </tr>\n",
       "    <tr>\n",
       "      <th>9293</th>\n",
       "      <td>2011</td>\n",
       "      <td>2012</td>\n",
       "      <td>84</td>\n",
       "      <td>ART DIRECTION</td>\n",
       "      <td>Production Design: Dante Ferretti; Set Decorat...</td>\n",
       "      <td>Hugo</td>\n",
       "      <td>True</td>\n",
       "      <td>unknown</td>\n",
       "    </tr>\n",
       "    <tr>\n",
       "      <th>9294</th>\n",
       "      <td>2011</td>\n",
       "      <td>2012</td>\n",
       "      <td>84</td>\n",
       "      <td>ART DIRECTION</td>\n",
       "      <td>Production Design: Anne Seibel; Set Decoration...</td>\n",
       "      <td>Midnight in Paris</td>\n",
       "      <td>False</td>\n",
       "      <td>unknown</td>\n",
       "    </tr>\n",
       "    <tr>\n",
       "      <th>9295</th>\n",
       "      <td>2011</td>\n",
       "      <td>2012</td>\n",
       "      <td>84</td>\n",
       "      <td>ART DIRECTION</td>\n",
       "      <td>Production Design: Rick Carter; Set Decoration...</td>\n",
       "      <td>War Horse</td>\n",
       "      <td>False</td>\n",
       "      <td>Male</td>\n",
       "    </tr>\n",
       "  </tbody>\n",
       "</table>\n",
       "<p>307 rows × 8 columns</p>\n",
       "</div>"
      ]
     },
     "execution_count": 18,
     "metadata": {},
     "output_type": "execute_result"
    }
   ],
   "execution_count": 18
  },
  {
   "metadata": {
    "ExecuteTime": {
     "end_time": "2024-12-17T12:13:34.296578Z",
     "start_time": "2024-12-17T12:13:34.292359Z"
    }
   },
   "cell_type": "code",
   "source": "len(oscar_award), len(human_oscar_award)",
   "id": "dfc2de629521b129",
   "outputs": [
    {
     "data": {
      "text/plain": [
       "(10889, 5349)"
      ]
     },
     "execution_count": 19,
     "metadata": {},
     "output_type": "execute_result"
    }
   ],
   "execution_count": 19
  },
  {
   "metadata": {
    "ExecuteTime": {
     "end_time": "2024-12-17T12:13:34.368472Z",
     "start_time": "2024-12-17T12:13:34.360718Z"
    }
   },
   "cell_type": "code",
   "source": "",
   "id": "89b94681e0b7ae02",
   "outputs": [],
   "execution_count": null
  },
  {
   "metadata": {
    "ExecuteTime": {
     "end_time": "2024-12-17T12:13:34.427078Z",
     "start_time": "2024-12-17T12:13:34.424912Z"
    }
   },
   "cell_type": "code",
   "source": "",
   "id": "fa8a96f0701bb4bb",
   "outputs": [],
   "execution_count": null
  },
  {
   "metadata": {
    "ExecuteTime": {
     "end_time": "2024-12-17T12:13:34.587229Z",
     "start_time": "2024-12-17T12:13:34.444905Z"
    }
   },
   "cell_type": "code",
   "source": [
    "import pandas as pd\n",
    "import plotly.express as px\n",
    "\n",
    "# Group data by 'category' and 'gender', and count occurrences\n",
    "plot_df = human_oscar_award[['category', 'gender']]\n",
    "\n",
    "plot_df = plot_df[~plot_df['category'].isin(\n",
    "    ['ACTOR', 'ACTOR IN A LEADING ROLE', 'ACTOR IN A SUPPORTING ROLE', 'ACTRESS', 'ACTRESS IN A LEADING ROLE',\n",
    "     'ACTRESS IN A SUPPORTING ROLE'])]\n",
    "\n",
    "# Enforce the order of 'gender' with Male first, Female second\n",
    "plot_df['gender'] = pd.Categorical(plot_df['gender'], categories=[\"Male\", \"Female\"], ordered=True)\n",
    "\n",
    "# Group by 'category' and 'gender', and count occurrences\n",
    "gender_balance = plot_df.groupby(['category', 'gender']).size().reset_index(name='count')\n",
    "\n",
    "# Plot using Plotly\n",
    "fig = px.bar(\n",
    "    gender_balance,\n",
    "    x='category',\n",
    "    y='count',\n",
    "    color='gender',\n",
    "    title='Gender Balance by Oscar Category',\n",
    "    labels={'count': 'Count', 'category': 'Oscar Category'},\n",
    "    barmode='group',  # Group bars by gender\n",
    "    text='count'  # Show counts on the bars\n",
    ")\n",
    "\n",
    "# Update layout to make the chart more readable\n",
    "fig.update_layout(\n",
    "    xaxis_title=\"Oscar Category\",\n",
    "    yaxis_title=\"Number of Nominations\",\n",
    "    legend_title=\"Gender\",\n",
    "    xaxis=dict(tickangle=-45),  # Rotate x-axis labels for better readability\n",
    "    margin=dict(pad=10)  # Adjust margins for clarity\n",
    ")\n",
    "\n",
    "# Show the plot\n",
    "fig.show()\n",
    "\n",
    "fig.write_html(\"oscar_category_gender.html\")"
   ],
   "id": "3d4fa9cf7356145e",
   "outputs": [
    {
     "name": "stderr",
     "output_type": "stream",
     "text": [
      "/var/folders/l4/9lxlqmv127z90yq7918z9_9c0000gn/T/ipykernel_11695/2617758035.py:15: FutureWarning:\n",
      "\n",
      "The default of observed=False is deprecated and will be changed to True in a future version of pandas. Pass observed=False to retain current behavior or observed=True to adopt the future default and silence this warning.\n",
      "\n"
     ]
    },
    {
     "data": {
      "application/vnd.plotly.v1+json": {
       "data": [
        {
         "alignmentgroup": "True",
         "hovertemplate": "gender=Male<br>Oscar Category=%{x}<br>Count=%{text}<extra></extra>",
         "legendgroup": "Male",
         "marker": {
          "color": "#636efa",
          "pattern": {
           "shape": ""
          }
         },
         "name": "Male",
         "offsetgroup": "Male",
         "orientation": "v",
         "showlegend": true,
         "text": [
          207.0,
          17.0,
          624.0,
          93.0,
          21.0,
          456.0,
          344.0,
          49.0,
          263.0,
          748.0
         ],
         "textposition": "auto",
         "x": [
          "ART DIRECTION",
          "ASSISTANT DIRECTOR",
          "CINEMATOGRAPHY",
          "COSTUME DESIGN",
          "DANCE DIRECTION",
          "DIRECTING",
          "FILM EDITING",
          "MAKEUP",
          "MUSIC",
          "WRITING"
         ],
         "xaxis": "x",
         "y": [
          207,
          17,
          624,
          93,
          21,
          456,
          344,
          49,
          263,
          748
         ],
         "yaxis": "y",
         "type": "bar"
        },
        {
         "alignmentgroup": "True",
         "hovertemplate": "gender=Female<br>Oscar Category=%{x}<br>Count=%{text}<extra></extra>",
         "legendgroup": "Female",
         "marker": {
          "color": "#EF553B",
          "pattern": {
           "shape": ""
          }
         },
         "name": "Female",
         "offsetgroup": "Female",
         "orientation": "v",
         "showlegend": true,
         "text": [
          24.0,
          0.0,
          3.0,
          182.0,
          0.0,
          7.0,
          61.0,
          20.0,
          6.0,
          58.0
         ],
         "textposition": "auto",
         "x": [
          "ART DIRECTION",
          "ASSISTANT DIRECTOR",
          "CINEMATOGRAPHY",
          "COSTUME DESIGN",
          "DANCE DIRECTION",
          "DIRECTING",
          "FILM EDITING",
          "MAKEUP",
          "MUSIC",
          "WRITING"
         ],
         "xaxis": "x",
         "y": [
          24,
          0,
          3,
          182,
          0,
          7,
          61,
          20,
          6,
          58
         ],
         "yaxis": "y",
         "type": "bar"
        }
       ],
       "layout": {
        "template": {
         "data": {
          "histogram2dcontour": [
           {
            "type": "histogram2dcontour",
            "colorbar": {
             "outlinewidth": 0,
             "ticks": ""
            },
            "colorscale": [
             [
              0.0,
              "#0d0887"
             ],
             [
              0.1111111111111111,
              "#46039f"
             ],
             [
              0.2222222222222222,
              "#7201a8"
             ],
             [
              0.3333333333333333,
              "#9c179e"
             ],
             [
              0.4444444444444444,
              "#bd3786"
             ],
             [
              0.5555555555555556,
              "#d8576b"
             ],
             [
              0.6666666666666666,
              "#ed7953"
             ],
             [
              0.7777777777777778,
              "#fb9f3a"
             ],
             [
              0.8888888888888888,
              "#fdca26"
             ],
             [
              1.0,
              "#f0f921"
             ]
            ]
           }
          ],
          "choropleth": [
           {
            "type": "choropleth",
            "colorbar": {
             "outlinewidth": 0,
             "ticks": ""
            }
           }
          ],
          "histogram2d": [
           {
            "type": "histogram2d",
            "colorbar": {
             "outlinewidth": 0,
             "ticks": ""
            },
            "colorscale": [
             [
              0.0,
              "#0d0887"
             ],
             [
              0.1111111111111111,
              "#46039f"
             ],
             [
              0.2222222222222222,
              "#7201a8"
             ],
             [
              0.3333333333333333,
              "#9c179e"
             ],
             [
              0.4444444444444444,
              "#bd3786"
             ],
             [
              0.5555555555555556,
              "#d8576b"
             ],
             [
              0.6666666666666666,
              "#ed7953"
             ],
             [
              0.7777777777777778,
              "#fb9f3a"
             ],
             [
              0.8888888888888888,
              "#fdca26"
             ],
             [
              1.0,
              "#f0f921"
             ]
            ]
           }
          ],
          "heatmap": [
           {
            "type": "heatmap",
            "colorbar": {
             "outlinewidth": 0,
             "ticks": ""
            },
            "colorscale": [
             [
              0.0,
              "#0d0887"
             ],
             [
              0.1111111111111111,
              "#46039f"
             ],
             [
              0.2222222222222222,
              "#7201a8"
             ],
             [
              0.3333333333333333,
              "#9c179e"
             ],
             [
              0.4444444444444444,
              "#bd3786"
             ],
             [
              0.5555555555555556,
              "#d8576b"
             ],
             [
              0.6666666666666666,
              "#ed7953"
             ],
             [
              0.7777777777777778,
              "#fb9f3a"
             ],
             [
              0.8888888888888888,
              "#fdca26"
             ],
             [
              1.0,
              "#f0f921"
             ]
            ]
           }
          ],
          "heatmapgl": [
           {
            "type": "heatmapgl",
            "colorbar": {
             "outlinewidth": 0,
             "ticks": ""
            },
            "colorscale": [
             [
              0.0,
              "#0d0887"
             ],
             [
              0.1111111111111111,
              "#46039f"
             ],
             [
              0.2222222222222222,
              "#7201a8"
             ],
             [
              0.3333333333333333,
              "#9c179e"
             ],
             [
              0.4444444444444444,
              "#bd3786"
             ],
             [
              0.5555555555555556,
              "#d8576b"
             ],
             [
              0.6666666666666666,
              "#ed7953"
             ],
             [
              0.7777777777777778,
              "#fb9f3a"
             ],
             [
              0.8888888888888888,
              "#fdca26"
             ],
             [
              1.0,
              "#f0f921"
             ]
            ]
           }
          ],
          "contourcarpet": [
           {
            "type": "contourcarpet",
            "colorbar": {
             "outlinewidth": 0,
             "ticks": ""
            }
           }
          ],
          "contour": [
           {
            "type": "contour",
            "colorbar": {
             "outlinewidth": 0,
             "ticks": ""
            },
            "colorscale": [
             [
              0.0,
              "#0d0887"
             ],
             [
              0.1111111111111111,
              "#46039f"
             ],
             [
              0.2222222222222222,
              "#7201a8"
             ],
             [
              0.3333333333333333,
              "#9c179e"
             ],
             [
              0.4444444444444444,
              "#bd3786"
             ],
             [
              0.5555555555555556,
              "#d8576b"
             ],
             [
              0.6666666666666666,
              "#ed7953"
             ],
             [
              0.7777777777777778,
              "#fb9f3a"
             ],
             [
              0.8888888888888888,
              "#fdca26"
             ],
             [
              1.0,
              "#f0f921"
             ]
            ]
           }
          ],
          "surface": [
           {
            "type": "surface",
            "colorbar": {
             "outlinewidth": 0,
             "ticks": ""
            },
            "colorscale": [
             [
              0.0,
              "#0d0887"
             ],
             [
              0.1111111111111111,
              "#46039f"
             ],
             [
              0.2222222222222222,
              "#7201a8"
             ],
             [
              0.3333333333333333,
              "#9c179e"
             ],
             [
              0.4444444444444444,
              "#bd3786"
             ],
             [
              0.5555555555555556,
              "#d8576b"
             ],
             [
              0.6666666666666666,
              "#ed7953"
             ],
             [
              0.7777777777777778,
              "#fb9f3a"
             ],
             [
              0.8888888888888888,
              "#fdca26"
             ],
             [
              1.0,
              "#f0f921"
             ]
            ]
           }
          ],
          "mesh3d": [
           {
            "type": "mesh3d",
            "colorbar": {
             "outlinewidth": 0,
             "ticks": ""
            }
           }
          ],
          "scatter": [
           {
            "marker": {
             "line": {
              "color": "#283442"
             }
            },
            "type": "scatter"
           }
          ],
          "parcoords": [
           {
            "type": "parcoords",
            "line": {
             "colorbar": {
              "outlinewidth": 0,
              "ticks": ""
             }
            }
           }
          ],
          "scatterpolargl": [
           {
            "type": "scatterpolargl",
            "marker": {
             "colorbar": {
              "outlinewidth": 0,
              "ticks": ""
             }
            }
           }
          ],
          "bar": [
           {
            "error_x": {
             "color": "#f2f5fa"
            },
            "error_y": {
             "color": "#f2f5fa"
            },
            "marker": {
             "line": {
              "color": "rgb(17,17,17)",
              "width": 0.5
             },
             "pattern": {
              "fillmode": "overlay",
              "size": 10,
              "solidity": 0.2
             }
            },
            "type": "bar"
           }
          ],
          "scattergeo": [
           {
            "type": "scattergeo",
            "marker": {
             "colorbar": {
              "outlinewidth": 0,
              "ticks": ""
             }
            }
           }
          ],
          "scatterpolar": [
           {
            "type": "scatterpolar",
            "marker": {
             "colorbar": {
              "outlinewidth": 0,
              "ticks": ""
             }
            }
           }
          ],
          "histogram": [
           {
            "marker": {
             "pattern": {
              "fillmode": "overlay",
              "size": 10,
              "solidity": 0.2
             }
            },
            "type": "histogram"
           }
          ],
          "scattergl": [
           {
            "marker": {
             "line": {
              "color": "#283442"
             }
            },
            "type": "scattergl"
           }
          ],
          "scatter3d": [
           {
            "type": "scatter3d",
            "line": {
             "colorbar": {
              "outlinewidth": 0,
              "ticks": ""
             }
            },
            "marker": {
             "colorbar": {
              "outlinewidth": 0,
              "ticks": ""
             }
            }
           }
          ],
          "scattermapbox": [
           {
            "type": "scattermapbox",
            "marker": {
             "colorbar": {
              "outlinewidth": 0,
              "ticks": ""
             }
            }
           }
          ],
          "scatterternary": [
           {
            "type": "scatterternary",
            "marker": {
             "colorbar": {
              "outlinewidth": 0,
              "ticks": ""
             }
            }
           }
          ],
          "scattercarpet": [
           {
            "type": "scattercarpet",
            "marker": {
             "colorbar": {
              "outlinewidth": 0,
              "ticks": ""
             }
            }
           }
          ],
          "carpet": [
           {
            "aaxis": {
             "endlinecolor": "#A2B1C6",
             "gridcolor": "#506784",
             "linecolor": "#506784",
             "minorgridcolor": "#506784",
             "startlinecolor": "#A2B1C6"
            },
            "baxis": {
             "endlinecolor": "#A2B1C6",
             "gridcolor": "#506784",
             "linecolor": "#506784",
             "minorgridcolor": "#506784",
             "startlinecolor": "#A2B1C6"
            },
            "type": "carpet"
           }
          ],
          "table": [
           {
            "cells": {
             "fill": {
              "color": "#506784"
             },
             "line": {
              "color": "rgb(17,17,17)"
             }
            },
            "header": {
             "fill": {
              "color": "#2a3f5f"
             },
             "line": {
              "color": "rgb(17,17,17)"
             }
            },
            "type": "table"
           }
          ],
          "barpolar": [
           {
            "marker": {
             "line": {
              "color": "rgb(17,17,17)",
              "width": 0.5
             },
             "pattern": {
              "fillmode": "overlay",
              "size": 10,
              "solidity": 0.2
             }
            },
            "type": "barpolar"
           }
          ],
          "pie": [
           {
            "automargin": true,
            "type": "pie"
           }
          ]
         },
         "layout": {
          "autotypenumbers": "strict",
          "colorway": [
           "#636efa",
           "#EF553B",
           "#00cc96",
           "#ab63fa",
           "#FFA15A",
           "#19d3f3",
           "#FF6692",
           "#B6E880",
           "#FF97FF",
           "#FECB52"
          ],
          "font": {
           "color": "#f2f5fa"
          },
          "hovermode": "closest",
          "hoverlabel": {
           "align": "left"
          },
          "paper_bgcolor": "rgb(17,17,17)",
          "plot_bgcolor": "rgb(17,17,17)",
          "polar": {
           "bgcolor": "rgb(17,17,17)",
           "angularaxis": {
            "gridcolor": "#506784",
            "linecolor": "#506784",
            "ticks": ""
           },
           "radialaxis": {
            "gridcolor": "#506784",
            "linecolor": "#506784",
            "ticks": ""
           }
          },
          "ternary": {
           "bgcolor": "rgb(17,17,17)",
           "aaxis": {
            "gridcolor": "#506784",
            "linecolor": "#506784",
            "ticks": ""
           },
           "baxis": {
            "gridcolor": "#506784",
            "linecolor": "#506784",
            "ticks": ""
           },
           "caxis": {
            "gridcolor": "#506784",
            "linecolor": "#506784",
            "ticks": ""
           }
          },
          "coloraxis": {
           "colorbar": {
            "outlinewidth": 0,
            "ticks": ""
           }
          },
          "colorscale": {
           "sequential": [
            [
             0.0,
             "#0d0887"
            ],
            [
             0.1111111111111111,
             "#46039f"
            ],
            [
             0.2222222222222222,
             "#7201a8"
            ],
            [
             0.3333333333333333,
             "#9c179e"
            ],
            [
             0.4444444444444444,
             "#bd3786"
            ],
            [
             0.5555555555555556,
             "#d8576b"
            ],
            [
             0.6666666666666666,
             "#ed7953"
            ],
            [
             0.7777777777777778,
             "#fb9f3a"
            ],
            [
             0.8888888888888888,
             "#fdca26"
            ],
            [
             1.0,
             "#f0f921"
            ]
           ],
           "sequentialminus": [
            [
             0.0,
             "#0d0887"
            ],
            [
             0.1111111111111111,
             "#46039f"
            ],
            [
             0.2222222222222222,
             "#7201a8"
            ],
            [
             0.3333333333333333,
             "#9c179e"
            ],
            [
             0.4444444444444444,
             "#bd3786"
            ],
            [
             0.5555555555555556,
             "#d8576b"
            ],
            [
             0.6666666666666666,
             "#ed7953"
            ],
            [
             0.7777777777777778,
             "#fb9f3a"
            ],
            [
             0.8888888888888888,
             "#fdca26"
            ],
            [
             1.0,
             "#f0f921"
            ]
           ],
           "diverging": [
            [
             0,
             "#8e0152"
            ],
            [
             0.1,
             "#c51b7d"
            ],
            [
             0.2,
             "#de77ae"
            ],
            [
             0.3,
             "#f1b6da"
            ],
            [
             0.4,
             "#fde0ef"
            ],
            [
             0.5,
             "#f7f7f7"
            ],
            [
             0.6,
             "#e6f5d0"
            ],
            [
             0.7,
             "#b8e186"
            ],
            [
             0.8,
             "#7fbc41"
            ],
            [
             0.9,
             "#4d9221"
            ],
            [
             1,
             "#276419"
            ]
           ]
          },
          "xaxis": {
           "gridcolor": "#283442",
           "linecolor": "#506784",
           "ticks": "",
           "title": {
            "standoff": 15
           },
           "zerolinecolor": "#283442",
           "automargin": true,
           "zerolinewidth": 2
          },
          "yaxis": {
           "gridcolor": "#283442",
           "linecolor": "#506784",
           "ticks": "",
           "title": {
            "standoff": 15
           },
           "zerolinecolor": "#283442",
           "automargin": true,
           "zerolinewidth": 2
          },
          "scene": {
           "xaxis": {
            "backgroundcolor": "rgb(17,17,17)",
            "gridcolor": "#506784",
            "linecolor": "#506784",
            "showbackground": true,
            "ticks": "",
            "zerolinecolor": "#C8D4E3",
            "gridwidth": 2
           },
           "yaxis": {
            "backgroundcolor": "rgb(17,17,17)",
            "gridcolor": "#506784",
            "linecolor": "#506784",
            "showbackground": true,
            "ticks": "",
            "zerolinecolor": "#C8D4E3",
            "gridwidth": 2
           },
           "zaxis": {
            "backgroundcolor": "rgb(17,17,17)",
            "gridcolor": "#506784",
            "linecolor": "#506784",
            "showbackground": true,
            "ticks": "",
            "zerolinecolor": "#C8D4E3",
            "gridwidth": 2
           }
          },
          "shapedefaults": {
           "line": {
            "color": "#f2f5fa"
           }
          },
          "annotationdefaults": {
           "arrowcolor": "#f2f5fa",
           "arrowhead": 0,
           "arrowwidth": 1
          },
          "geo": {
           "bgcolor": "rgb(17,17,17)",
           "landcolor": "rgb(17,17,17)",
           "subunitcolor": "#506784",
           "showland": true,
           "showlakes": true,
           "lakecolor": "rgb(17,17,17)"
          },
          "title": {
           "x": 0.05
          },
          "updatemenudefaults": {
           "bgcolor": "#506784",
           "borderwidth": 0
          },
          "sliderdefaults": {
           "bgcolor": "#C8D4E3",
           "borderwidth": 1,
           "bordercolor": "rgb(17,17,17)",
           "tickwidth": 0
          },
          "mapbox": {
           "style": "dark"
          }
         }
        },
        "xaxis": {
         "anchor": "y",
         "domain": [
          0.0,
          1.0
         ],
         "title": {
          "text": "Oscar Category"
         },
         "tickangle": -45
        },
        "yaxis": {
         "anchor": "x",
         "domain": [
          0.0,
          1.0
         ],
         "title": {
          "text": "Number of Nominations"
         }
        },
        "legend": {
         "title": {
          "text": "Gender"
         },
         "tracegroupgap": 0
        },
        "title": {
         "text": "Gender Balance by Oscar Category"
        },
        "barmode": "group",
        "margin": {
         "pad": 10
        }
       },
       "config": {
        "plotlyServerURL": "https://plot.ly"
       }
      },
      "text/html": [
       "<div>                            <div id=\"5701bcd8-85a9-4ac1-b567-a11ca134b391\" class=\"plotly-graph-div\" style=\"height:525px; width:100%;\"></div>            <script type=\"text/javascript\">                require([\"plotly\"], function(Plotly) {                    window.PLOTLYENV=window.PLOTLYENV || {};                                    if (document.getElementById(\"5701bcd8-85a9-4ac1-b567-a11ca134b391\")) {                    Plotly.newPlot(                        \"5701bcd8-85a9-4ac1-b567-a11ca134b391\",                        [{\"alignmentgroup\":\"True\",\"hovertemplate\":\"gender=Male\\u003cbr\\u003eOscar Category=%{x}\\u003cbr\\u003eCount=%{text}\\u003cextra\\u003e\\u003c\\u002fextra\\u003e\",\"legendgroup\":\"Male\",\"marker\":{\"color\":\"#636efa\",\"pattern\":{\"shape\":\"\"}},\"name\":\"Male\",\"offsetgroup\":\"Male\",\"orientation\":\"v\",\"showlegend\":true,\"text\":[207.0,17.0,624.0,93.0,21.0,456.0,344.0,49.0,263.0,748.0],\"textposition\":\"auto\",\"x\":[\"ART DIRECTION\",\"ASSISTANT DIRECTOR\",\"CINEMATOGRAPHY\",\"COSTUME DESIGN\",\"DANCE DIRECTION\",\"DIRECTING\",\"FILM EDITING\",\"MAKEUP\",\"MUSIC\",\"WRITING\"],\"xaxis\":\"x\",\"y\":[207,17,624,93,21,456,344,49,263,748],\"yaxis\":\"y\",\"type\":\"bar\"},{\"alignmentgroup\":\"True\",\"hovertemplate\":\"gender=Female\\u003cbr\\u003eOscar Category=%{x}\\u003cbr\\u003eCount=%{text}\\u003cextra\\u003e\\u003c\\u002fextra\\u003e\",\"legendgroup\":\"Female\",\"marker\":{\"color\":\"#EF553B\",\"pattern\":{\"shape\":\"\"}},\"name\":\"Female\",\"offsetgroup\":\"Female\",\"orientation\":\"v\",\"showlegend\":true,\"text\":[24.0,0.0,3.0,182.0,0.0,7.0,61.0,20.0,6.0,58.0],\"textposition\":\"auto\",\"x\":[\"ART DIRECTION\",\"ASSISTANT DIRECTOR\",\"CINEMATOGRAPHY\",\"COSTUME DESIGN\",\"DANCE DIRECTION\",\"DIRECTING\",\"FILM EDITING\",\"MAKEUP\",\"MUSIC\",\"WRITING\"],\"xaxis\":\"x\",\"y\":[24,0,3,182,0,7,61,20,6,58],\"yaxis\":\"y\",\"type\":\"bar\"}],                        {\"template\":{\"data\":{\"histogram2dcontour\":[{\"type\":\"histogram2dcontour\",\"colorbar\":{\"outlinewidth\":0,\"ticks\":\"\"},\"colorscale\":[[0.0,\"#0d0887\"],[0.1111111111111111,\"#46039f\"],[0.2222222222222222,\"#7201a8\"],[0.3333333333333333,\"#9c179e\"],[0.4444444444444444,\"#bd3786\"],[0.5555555555555556,\"#d8576b\"],[0.6666666666666666,\"#ed7953\"],[0.7777777777777778,\"#fb9f3a\"],[0.8888888888888888,\"#fdca26\"],[1.0,\"#f0f921\"]]}],\"choropleth\":[{\"type\":\"choropleth\",\"colorbar\":{\"outlinewidth\":0,\"ticks\":\"\"}}],\"histogram2d\":[{\"type\":\"histogram2d\",\"colorbar\":{\"outlinewidth\":0,\"ticks\":\"\"},\"colorscale\":[[0.0,\"#0d0887\"],[0.1111111111111111,\"#46039f\"],[0.2222222222222222,\"#7201a8\"],[0.3333333333333333,\"#9c179e\"],[0.4444444444444444,\"#bd3786\"],[0.5555555555555556,\"#d8576b\"],[0.6666666666666666,\"#ed7953\"],[0.7777777777777778,\"#fb9f3a\"],[0.8888888888888888,\"#fdca26\"],[1.0,\"#f0f921\"]]}],\"heatmap\":[{\"type\":\"heatmap\",\"colorbar\":{\"outlinewidth\":0,\"ticks\":\"\"},\"colorscale\":[[0.0,\"#0d0887\"],[0.1111111111111111,\"#46039f\"],[0.2222222222222222,\"#7201a8\"],[0.3333333333333333,\"#9c179e\"],[0.4444444444444444,\"#bd3786\"],[0.5555555555555556,\"#d8576b\"],[0.6666666666666666,\"#ed7953\"],[0.7777777777777778,\"#fb9f3a\"],[0.8888888888888888,\"#fdca26\"],[1.0,\"#f0f921\"]]}],\"heatmapgl\":[{\"type\":\"heatmapgl\",\"colorbar\":{\"outlinewidth\":0,\"ticks\":\"\"},\"colorscale\":[[0.0,\"#0d0887\"],[0.1111111111111111,\"#46039f\"],[0.2222222222222222,\"#7201a8\"],[0.3333333333333333,\"#9c179e\"],[0.4444444444444444,\"#bd3786\"],[0.5555555555555556,\"#d8576b\"],[0.6666666666666666,\"#ed7953\"],[0.7777777777777778,\"#fb9f3a\"],[0.8888888888888888,\"#fdca26\"],[1.0,\"#f0f921\"]]}],\"contourcarpet\":[{\"type\":\"contourcarpet\",\"colorbar\":{\"outlinewidth\":0,\"ticks\":\"\"}}],\"contour\":[{\"type\":\"contour\",\"colorbar\":{\"outlinewidth\":0,\"ticks\":\"\"},\"colorscale\":[[0.0,\"#0d0887\"],[0.1111111111111111,\"#46039f\"],[0.2222222222222222,\"#7201a8\"],[0.3333333333333333,\"#9c179e\"],[0.4444444444444444,\"#bd3786\"],[0.5555555555555556,\"#d8576b\"],[0.6666666666666666,\"#ed7953\"],[0.7777777777777778,\"#fb9f3a\"],[0.8888888888888888,\"#fdca26\"],[1.0,\"#f0f921\"]]}],\"surface\":[{\"type\":\"surface\",\"colorbar\":{\"outlinewidth\":0,\"ticks\":\"\"},\"colorscale\":[[0.0,\"#0d0887\"],[0.1111111111111111,\"#46039f\"],[0.2222222222222222,\"#7201a8\"],[0.3333333333333333,\"#9c179e\"],[0.4444444444444444,\"#bd3786\"],[0.5555555555555556,\"#d8576b\"],[0.6666666666666666,\"#ed7953\"],[0.7777777777777778,\"#fb9f3a\"],[0.8888888888888888,\"#fdca26\"],[1.0,\"#f0f921\"]]}],\"mesh3d\":[{\"type\":\"mesh3d\",\"colorbar\":{\"outlinewidth\":0,\"ticks\":\"\"}}],\"scatter\":[{\"marker\":{\"line\":{\"color\":\"#283442\"}},\"type\":\"scatter\"}],\"parcoords\":[{\"type\":\"parcoords\",\"line\":{\"colorbar\":{\"outlinewidth\":0,\"ticks\":\"\"}}}],\"scatterpolargl\":[{\"type\":\"scatterpolargl\",\"marker\":{\"colorbar\":{\"outlinewidth\":0,\"ticks\":\"\"}}}],\"bar\":[{\"error_x\":{\"color\":\"#f2f5fa\"},\"error_y\":{\"color\":\"#f2f5fa\"},\"marker\":{\"line\":{\"color\":\"rgb(17,17,17)\",\"width\":0.5},\"pattern\":{\"fillmode\":\"overlay\",\"size\":10,\"solidity\":0.2}},\"type\":\"bar\"}],\"scattergeo\":[{\"type\":\"scattergeo\",\"marker\":{\"colorbar\":{\"outlinewidth\":0,\"ticks\":\"\"}}}],\"scatterpolar\":[{\"type\":\"scatterpolar\",\"marker\":{\"colorbar\":{\"outlinewidth\":0,\"ticks\":\"\"}}}],\"histogram\":[{\"marker\":{\"pattern\":{\"fillmode\":\"overlay\",\"size\":10,\"solidity\":0.2}},\"type\":\"histogram\"}],\"scattergl\":[{\"marker\":{\"line\":{\"color\":\"#283442\"}},\"type\":\"scattergl\"}],\"scatter3d\":[{\"type\":\"scatter3d\",\"line\":{\"colorbar\":{\"outlinewidth\":0,\"ticks\":\"\"}},\"marker\":{\"colorbar\":{\"outlinewidth\":0,\"ticks\":\"\"}}}],\"scattermapbox\":[{\"type\":\"scattermapbox\",\"marker\":{\"colorbar\":{\"outlinewidth\":0,\"ticks\":\"\"}}}],\"scatterternary\":[{\"type\":\"scatterternary\",\"marker\":{\"colorbar\":{\"outlinewidth\":0,\"ticks\":\"\"}}}],\"scattercarpet\":[{\"type\":\"scattercarpet\",\"marker\":{\"colorbar\":{\"outlinewidth\":0,\"ticks\":\"\"}}}],\"carpet\":[{\"aaxis\":{\"endlinecolor\":\"#A2B1C6\",\"gridcolor\":\"#506784\",\"linecolor\":\"#506784\",\"minorgridcolor\":\"#506784\",\"startlinecolor\":\"#A2B1C6\"},\"baxis\":{\"endlinecolor\":\"#A2B1C6\",\"gridcolor\":\"#506784\",\"linecolor\":\"#506784\",\"minorgridcolor\":\"#506784\",\"startlinecolor\":\"#A2B1C6\"},\"type\":\"carpet\"}],\"table\":[{\"cells\":{\"fill\":{\"color\":\"#506784\"},\"line\":{\"color\":\"rgb(17,17,17)\"}},\"header\":{\"fill\":{\"color\":\"#2a3f5f\"},\"line\":{\"color\":\"rgb(17,17,17)\"}},\"type\":\"table\"}],\"barpolar\":[{\"marker\":{\"line\":{\"color\":\"rgb(17,17,17)\",\"width\":0.5},\"pattern\":{\"fillmode\":\"overlay\",\"size\":10,\"solidity\":0.2}},\"type\":\"barpolar\"}],\"pie\":[{\"automargin\":true,\"type\":\"pie\"}]},\"layout\":{\"autotypenumbers\":\"strict\",\"colorway\":[\"#636efa\",\"#EF553B\",\"#00cc96\",\"#ab63fa\",\"#FFA15A\",\"#19d3f3\",\"#FF6692\",\"#B6E880\",\"#FF97FF\",\"#FECB52\"],\"font\":{\"color\":\"#f2f5fa\"},\"hovermode\":\"closest\",\"hoverlabel\":{\"align\":\"left\"},\"paper_bgcolor\":\"rgb(17,17,17)\",\"plot_bgcolor\":\"rgb(17,17,17)\",\"polar\":{\"bgcolor\":\"rgb(17,17,17)\",\"angularaxis\":{\"gridcolor\":\"#506784\",\"linecolor\":\"#506784\",\"ticks\":\"\"},\"radialaxis\":{\"gridcolor\":\"#506784\",\"linecolor\":\"#506784\",\"ticks\":\"\"}},\"ternary\":{\"bgcolor\":\"rgb(17,17,17)\",\"aaxis\":{\"gridcolor\":\"#506784\",\"linecolor\":\"#506784\",\"ticks\":\"\"},\"baxis\":{\"gridcolor\":\"#506784\",\"linecolor\":\"#506784\",\"ticks\":\"\"},\"caxis\":{\"gridcolor\":\"#506784\",\"linecolor\":\"#506784\",\"ticks\":\"\"}},\"coloraxis\":{\"colorbar\":{\"outlinewidth\":0,\"ticks\":\"\"}},\"colorscale\":{\"sequential\":[[0.0,\"#0d0887\"],[0.1111111111111111,\"#46039f\"],[0.2222222222222222,\"#7201a8\"],[0.3333333333333333,\"#9c179e\"],[0.4444444444444444,\"#bd3786\"],[0.5555555555555556,\"#d8576b\"],[0.6666666666666666,\"#ed7953\"],[0.7777777777777778,\"#fb9f3a\"],[0.8888888888888888,\"#fdca26\"],[1.0,\"#f0f921\"]],\"sequentialminus\":[[0.0,\"#0d0887\"],[0.1111111111111111,\"#46039f\"],[0.2222222222222222,\"#7201a8\"],[0.3333333333333333,\"#9c179e\"],[0.4444444444444444,\"#bd3786\"],[0.5555555555555556,\"#d8576b\"],[0.6666666666666666,\"#ed7953\"],[0.7777777777777778,\"#fb9f3a\"],[0.8888888888888888,\"#fdca26\"],[1.0,\"#f0f921\"]],\"diverging\":[[0,\"#8e0152\"],[0.1,\"#c51b7d\"],[0.2,\"#de77ae\"],[0.3,\"#f1b6da\"],[0.4,\"#fde0ef\"],[0.5,\"#f7f7f7\"],[0.6,\"#e6f5d0\"],[0.7,\"#b8e186\"],[0.8,\"#7fbc41\"],[0.9,\"#4d9221\"],[1,\"#276419\"]]},\"xaxis\":{\"gridcolor\":\"#283442\",\"linecolor\":\"#506784\",\"ticks\":\"\",\"title\":{\"standoff\":15},\"zerolinecolor\":\"#283442\",\"automargin\":true,\"zerolinewidth\":2},\"yaxis\":{\"gridcolor\":\"#283442\",\"linecolor\":\"#506784\",\"ticks\":\"\",\"title\":{\"standoff\":15},\"zerolinecolor\":\"#283442\",\"automargin\":true,\"zerolinewidth\":2},\"scene\":{\"xaxis\":{\"backgroundcolor\":\"rgb(17,17,17)\",\"gridcolor\":\"#506784\",\"linecolor\":\"#506784\",\"showbackground\":true,\"ticks\":\"\",\"zerolinecolor\":\"#C8D4E3\",\"gridwidth\":2},\"yaxis\":{\"backgroundcolor\":\"rgb(17,17,17)\",\"gridcolor\":\"#506784\",\"linecolor\":\"#506784\",\"showbackground\":true,\"ticks\":\"\",\"zerolinecolor\":\"#C8D4E3\",\"gridwidth\":2},\"zaxis\":{\"backgroundcolor\":\"rgb(17,17,17)\",\"gridcolor\":\"#506784\",\"linecolor\":\"#506784\",\"showbackground\":true,\"ticks\":\"\",\"zerolinecolor\":\"#C8D4E3\",\"gridwidth\":2}},\"shapedefaults\":{\"line\":{\"color\":\"#f2f5fa\"}},\"annotationdefaults\":{\"arrowcolor\":\"#f2f5fa\",\"arrowhead\":0,\"arrowwidth\":1},\"geo\":{\"bgcolor\":\"rgb(17,17,17)\",\"landcolor\":\"rgb(17,17,17)\",\"subunitcolor\":\"#506784\",\"showland\":true,\"showlakes\":true,\"lakecolor\":\"rgb(17,17,17)\"},\"title\":{\"x\":0.05},\"updatemenudefaults\":{\"bgcolor\":\"#506784\",\"borderwidth\":0},\"sliderdefaults\":{\"bgcolor\":\"#C8D4E3\",\"borderwidth\":1,\"bordercolor\":\"rgb(17,17,17)\",\"tickwidth\":0},\"mapbox\":{\"style\":\"dark\"}}},\"xaxis\":{\"anchor\":\"y\",\"domain\":[0.0,1.0],\"title\":{\"text\":\"Oscar Category\"},\"tickangle\":-45},\"yaxis\":{\"anchor\":\"x\",\"domain\":[0.0,1.0],\"title\":{\"text\":\"Number of Nominations\"}},\"legend\":{\"title\":{\"text\":\"Gender\"},\"tracegroupgap\":0},\"title\":{\"text\":\"Gender Balance by Oscar Category\"},\"barmode\":\"group\",\"margin\":{\"pad\":10}},                        {\"responsive\": true}                    ).then(function(){\n",
       "                            \n",
       "var gd = document.getElementById('5701bcd8-85a9-4ac1-b567-a11ca134b391');\n",
       "var x = new MutationObserver(function (mutations, observer) {{\n",
       "        var display = window.getComputedStyle(gd).display;\n",
       "        if (!display || display === 'none') {{\n",
       "            console.log([gd, 'removed!']);\n",
       "            Plotly.purge(gd);\n",
       "            observer.disconnect();\n",
       "        }}\n",
       "}});\n",
       "\n",
       "// Listen for the removal of the full notebook cells\n",
       "var notebookContainer = gd.closest('#notebook-container');\n",
       "if (notebookContainer) {{\n",
       "    x.observe(notebookContainer, {childList: true});\n",
       "}}\n",
       "\n",
       "// Listen for the clearing of the current output cell\n",
       "var outputEl = gd.closest('.output');\n",
       "if (outputEl) {{\n",
       "    x.observe(outputEl, {childList: true});\n",
       "}}\n",
       "\n",
       "                        })                };                });            </script>        </div>"
      ]
     },
     "metadata": {},
     "output_type": "display_data"
    }
   ],
   "execution_count": 20
  },
  {
   "metadata": {
    "ExecuteTime": {
     "end_time": "2024-12-17T12:13:36.868447Z",
     "start_time": "2024-12-17T12:13:36.856249Z"
    }
   },
   "cell_type": "code",
   "source": [
    "# Only 7 Directing awards!\n",
    "\n",
    "director_oscar = human_oscar_award[human_oscar_award['category'] == 'DIRECTING']\n",
    "\n",
    "\n",
    "director_oscar[director_oscar['gender'] == 'Female']"
   ],
   "id": "6103fd4a0f41e8c2",
   "outputs": [
    {
     "data": {
      "text/plain": [
       "       year_film  year_ceremony  ceremony   category             name  \\\n",
       "5444        1976           1977        49  DIRECTING  Lina Wertmüller   \n",
       "7252        1993           1994        66  DIRECTING     Jane Campion   \n",
       "8381        2003           2004        76  DIRECTING    Sofia Coppola   \n",
       "9058        2009           2010        82  DIRECTING  Kathryn Bigelow   \n",
       "10052       2017           2018        90  DIRECTING     Greta Gerwig   \n",
       "10553       2021           2022        94  DIRECTING     Jane Campion   \n",
       "10800       2023           2024        96  DIRECTING    Justine Triet   \n",
       "\n",
       "                       film  winner  gender  \n",
       "5444         Seven Beauties   False  Female  \n",
       "7252              The Piano   False  Female  \n",
       "8381    Lost in Translation   False  Female  \n",
       "9058        The Hurt Locker    True  Female  \n",
       "10052             Lady Bird   False  Female  \n",
       "10553  The Power of the Dog    True  Female  \n",
       "10800     Anatomy of a Fall   False  Female  "
      ],
      "text/html": [
       "<div>\n",
       "<style scoped>\n",
       "    .dataframe tbody tr th:only-of-type {\n",
       "        vertical-align: middle;\n",
       "    }\n",
       "\n",
       "    .dataframe tbody tr th {\n",
       "        vertical-align: top;\n",
       "    }\n",
       "\n",
       "    .dataframe thead th {\n",
       "        text-align: right;\n",
       "    }\n",
       "</style>\n",
       "<table border=\"1\" class=\"dataframe\">\n",
       "  <thead>\n",
       "    <tr style=\"text-align: right;\">\n",
       "      <th></th>\n",
       "      <th>year_film</th>\n",
       "      <th>year_ceremony</th>\n",
       "      <th>ceremony</th>\n",
       "      <th>category</th>\n",
       "      <th>name</th>\n",
       "      <th>film</th>\n",
       "      <th>winner</th>\n",
       "      <th>gender</th>\n",
       "    </tr>\n",
       "  </thead>\n",
       "  <tbody>\n",
       "    <tr>\n",
       "      <th>5444</th>\n",
       "      <td>1976</td>\n",
       "      <td>1977</td>\n",
       "      <td>49</td>\n",
       "      <td>DIRECTING</td>\n",
       "      <td>Lina Wertmüller</td>\n",
       "      <td>Seven Beauties</td>\n",
       "      <td>False</td>\n",
       "      <td>Female</td>\n",
       "    </tr>\n",
       "    <tr>\n",
       "      <th>7252</th>\n",
       "      <td>1993</td>\n",
       "      <td>1994</td>\n",
       "      <td>66</td>\n",
       "      <td>DIRECTING</td>\n",
       "      <td>Jane Campion</td>\n",
       "      <td>The Piano</td>\n",
       "      <td>False</td>\n",
       "      <td>Female</td>\n",
       "    </tr>\n",
       "    <tr>\n",
       "      <th>8381</th>\n",
       "      <td>2003</td>\n",
       "      <td>2004</td>\n",
       "      <td>76</td>\n",
       "      <td>DIRECTING</td>\n",
       "      <td>Sofia Coppola</td>\n",
       "      <td>Lost in Translation</td>\n",
       "      <td>False</td>\n",
       "      <td>Female</td>\n",
       "    </tr>\n",
       "    <tr>\n",
       "      <th>9058</th>\n",
       "      <td>2009</td>\n",
       "      <td>2010</td>\n",
       "      <td>82</td>\n",
       "      <td>DIRECTING</td>\n",
       "      <td>Kathryn Bigelow</td>\n",
       "      <td>The Hurt Locker</td>\n",
       "      <td>True</td>\n",
       "      <td>Female</td>\n",
       "    </tr>\n",
       "    <tr>\n",
       "      <th>10052</th>\n",
       "      <td>2017</td>\n",
       "      <td>2018</td>\n",
       "      <td>90</td>\n",
       "      <td>DIRECTING</td>\n",
       "      <td>Greta Gerwig</td>\n",
       "      <td>Lady Bird</td>\n",
       "      <td>False</td>\n",
       "      <td>Female</td>\n",
       "    </tr>\n",
       "    <tr>\n",
       "      <th>10553</th>\n",
       "      <td>2021</td>\n",
       "      <td>2022</td>\n",
       "      <td>94</td>\n",
       "      <td>DIRECTING</td>\n",
       "      <td>Jane Campion</td>\n",
       "      <td>The Power of the Dog</td>\n",
       "      <td>True</td>\n",
       "      <td>Female</td>\n",
       "    </tr>\n",
       "    <tr>\n",
       "      <th>10800</th>\n",
       "      <td>2023</td>\n",
       "      <td>2024</td>\n",
       "      <td>96</td>\n",
       "      <td>DIRECTING</td>\n",
       "      <td>Justine Triet</td>\n",
       "      <td>Anatomy of a Fall</td>\n",
       "      <td>False</td>\n",
       "      <td>Female</td>\n",
       "    </tr>\n",
       "  </tbody>\n",
       "</table>\n",
       "</div>"
      ]
     },
     "execution_count": 21,
     "metadata": {},
     "output_type": "execute_result"
    }
   ],
   "execution_count": 21
  },
  {
   "metadata": {
    "ExecuteTime": {
     "end_time": "2024-12-17T12:13:37.308079Z",
     "start_time": "2024-12-17T12:13:37.297021Z"
    }
   },
   "cell_type": "code",
   "source": [
    " cin_oscar = human_oscar_award[human_oscar_award['category'] == 'CINEMATOGRAPHY']\n",
    "\n",
    " cin_oscar[cin_oscar['gender'] == 'Female'] # Only 3 nominations and 0 wins"
   ],
   "id": "de1cc4aa03e61e4e",
   "outputs": [
    {
     "data": {
      "text/plain": [
       "       year_film  year_ceremony  ceremony        category             name  \\\n",
       "10043       2017           2018        90  CINEMATOGRAPHY  Rachel Morrison   \n",
       "10542       2021           2022        94  CINEMATOGRAPHY       Ari Wegner   \n",
       "10666       2022           2023        95  CINEMATOGRAPHY     Mandy Walker   \n",
       "\n",
       "                       film  winner  gender  \n",
       "10043              Mudbound   False  Female  \n",
       "10542  The Power of the Dog   False  Female  \n",
       "10666                 Elvis   False  Female  "
      ],
      "text/html": [
       "<div>\n",
       "<style scoped>\n",
       "    .dataframe tbody tr th:only-of-type {\n",
       "        vertical-align: middle;\n",
       "    }\n",
       "\n",
       "    .dataframe tbody tr th {\n",
       "        vertical-align: top;\n",
       "    }\n",
       "\n",
       "    .dataframe thead th {\n",
       "        text-align: right;\n",
       "    }\n",
       "</style>\n",
       "<table border=\"1\" class=\"dataframe\">\n",
       "  <thead>\n",
       "    <tr style=\"text-align: right;\">\n",
       "      <th></th>\n",
       "      <th>year_film</th>\n",
       "      <th>year_ceremony</th>\n",
       "      <th>ceremony</th>\n",
       "      <th>category</th>\n",
       "      <th>name</th>\n",
       "      <th>film</th>\n",
       "      <th>winner</th>\n",
       "      <th>gender</th>\n",
       "    </tr>\n",
       "  </thead>\n",
       "  <tbody>\n",
       "    <tr>\n",
       "      <th>10043</th>\n",
       "      <td>2017</td>\n",
       "      <td>2018</td>\n",
       "      <td>90</td>\n",
       "      <td>CINEMATOGRAPHY</td>\n",
       "      <td>Rachel Morrison</td>\n",
       "      <td>Mudbound</td>\n",
       "      <td>False</td>\n",
       "      <td>Female</td>\n",
       "    </tr>\n",
       "    <tr>\n",
       "      <th>10542</th>\n",
       "      <td>2021</td>\n",
       "      <td>2022</td>\n",
       "      <td>94</td>\n",
       "      <td>CINEMATOGRAPHY</td>\n",
       "      <td>Ari Wegner</td>\n",
       "      <td>The Power of the Dog</td>\n",
       "      <td>False</td>\n",
       "      <td>Female</td>\n",
       "    </tr>\n",
       "    <tr>\n",
       "      <th>10666</th>\n",
       "      <td>2022</td>\n",
       "      <td>2023</td>\n",
       "      <td>95</td>\n",
       "      <td>CINEMATOGRAPHY</td>\n",
       "      <td>Mandy Walker</td>\n",
       "      <td>Elvis</td>\n",
       "      <td>False</td>\n",
       "      <td>Female</td>\n",
       "    </tr>\n",
       "  </tbody>\n",
       "</table>\n",
       "</div>"
      ]
     },
     "execution_count": 22,
     "metadata": {},
     "output_type": "execute_result"
    }
   ],
   "execution_count": 22
  },
  {
   "metadata": {
    "ExecuteTime": {
     "end_time": "2024-12-17T12:13:38.336306Z",
     "start_time": "2024-12-17T12:13:38.324896Z"
    }
   },
   "cell_type": "code",
   "source": [
    "# Count nominations by individual\n",
    "top_nominees = human_oscar_award.groupby(['name', 'gender']).size().reset_index(name='nominations').sort_values(\n",
    "    by='nominations', ascending=False).head(10)\n",
    "\n",
    "# Display\n",
    "print(top_nominees)"
   ],
   "id": "7bf7643c5a767db8",
   "outputs": [
    {
     "name": "stdout",
     "output_type": "stream",
     "text": [
      "                name  gender  nominations\n",
      "1655   John Williams    Male           35\n",
      "2058    Meryl Streep  Female           19\n",
      "3195     Woody Allen    Male           18\n",
      "1838    Leon Shamroy    Male           17\n",
      "2649    Sandy Powell  Female           14\n",
      "2971   Thomas Newman    Male           13\n",
      "2566   Roger Deakins    Male           13\n",
      "1383  Jack Nicholson    Male           12\n",
      "712   Colleen Atwood  Female           12\n",
      "1145   George Folsey    Male           12\n"
     ]
    }
   ],
   "execution_count": 23
  }
 ],
 "metadata": {
  "kernelspec": {
   "name": "python3",
   "language": "python",
   "display_name": "Python 3 (ipykernel)"
  }
 },
 "nbformat": 5,
 "nbformat_minor": 9
}
