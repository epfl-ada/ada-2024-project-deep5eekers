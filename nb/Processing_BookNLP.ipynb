{
  "cells": [
    {
      "cell_type": "markdown",
      "metadata": {
        "id": "dmP7H_AsVxbE"
      },
      "source": [
        "# Settings"
      ]
    },
    {
      "cell_type": "code",
      "execution_count": 1,
      "metadata": {
        "colab": {
          "base_uri": "https://localhost:8080/"
        },
        "id": "xdCbflAvxLXR",
        "outputId": "a316e9be-9155-4b86-e9cb-efcbc4181dff"
      },
      "outputs": [
        {
          "output_type": "stream",
          "name": "stdout",
          "text": [
            "Collecting en-core-web-sm==3.7.1\n",
            "  Downloading https://github.com/explosion/spacy-models/releases/download/en_core_web_sm-3.7.1/en_core_web_sm-3.7.1-py3-none-any.whl (12.8 MB)\n",
            "\u001b[2K     \u001b[90m━━━━━━━━━━━━━━━━━━━━━━━━━━━━━━━━━━━━━━━━\u001b[0m \u001b[32m12.8/12.8 MB\u001b[0m \u001b[31m94.2 MB/s\u001b[0m eta \u001b[36m0:00:00\u001b[0m\n",
            "\u001b[?25hRequirement already satisfied: spacy<3.8.0,>=3.7.2 in /usr/local/lib/python3.10/dist-packages (from en-core-web-sm==3.7.1) (3.7.5)\n",
            "Requirement already satisfied: spacy-legacy<3.1.0,>=3.0.11 in /usr/local/lib/python3.10/dist-packages (from spacy<3.8.0,>=3.7.2->en-core-web-sm==3.7.1) (3.0.12)\n",
            "Requirement already satisfied: spacy-loggers<2.0.0,>=1.0.0 in /usr/local/lib/python3.10/dist-packages (from spacy<3.8.0,>=3.7.2->en-core-web-sm==3.7.1) (1.0.5)\n",
            "Requirement already satisfied: murmurhash<1.1.0,>=0.28.0 in /usr/local/lib/python3.10/dist-packages (from spacy<3.8.0,>=3.7.2->en-core-web-sm==3.7.1) (1.0.10)\n",
            "Requirement already satisfied: cymem<2.1.0,>=2.0.2 in /usr/local/lib/python3.10/dist-packages (from spacy<3.8.0,>=3.7.2->en-core-web-sm==3.7.1) (2.0.8)\n",
            "Requirement already satisfied: preshed<3.1.0,>=3.0.2 in /usr/local/lib/python3.10/dist-packages (from spacy<3.8.0,>=3.7.2->en-core-web-sm==3.7.1) (3.0.9)\n",
            "Requirement already satisfied: thinc<8.3.0,>=8.2.2 in /usr/local/lib/python3.10/dist-packages (from spacy<3.8.0,>=3.7.2->en-core-web-sm==3.7.1) (8.2.5)\n",
            "Requirement already satisfied: wasabi<1.2.0,>=0.9.1 in /usr/local/lib/python3.10/dist-packages (from spacy<3.8.0,>=3.7.2->en-core-web-sm==3.7.1) (1.1.3)\n",
            "Requirement already satisfied: srsly<3.0.0,>=2.4.3 in /usr/local/lib/python3.10/dist-packages (from spacy<3.8.0,>=3.7.2->en-core-web-sm==3.7.1) (2.4.8)\n",
            "Requirement already satisfied: catalogue<2.1.0,>=2.0.6 in /usr/local/lib/python3.10/dist-packages (from spacy<3.8.0,>=3.7.2->en-core-web-sm==3.7.1) (2.0.10)\n",
            "Requirement already satisfied: weasel<0.5.0,>=0.1.0 in /usr/local/lib/python3.10/dist-packages (from spacy<3.8.0,>=3.7.2->en-core-web-sm==3.7.1) (0.4.1)\n",
            "Requirement already satisfied: typer<1.0.0,>=0.3.0 in /usr/local/lib/python3.10/dist-packages (from spacy<3.8.0,>=3.7.2->en-core-web-sm==3.7.1) (0.13.0)\n",
            "Requirement already satisfied: tqdm<5.0.0,>=4.38.0 in /usr/local/lib/python3.10/dist-packages (from spacy<3.8.0,>=3.7.2->en-core-web-sm==3.7.1) (4.66.6)\n",
            "Requirement already satisfied: requests<3.0.0,>=2.13.0 in /usr/local/lib/python3.10/dist-packages (from spacy<3.8.0,>=3.7.2->en-core-web-sm==3.7.1) (2.32.3)\n",
            "Requirement already satisfied: pydantic!=1.8,!=1.8.1,<3.0.0,>=1.7.4 in /usr/local/lib/python3.10/dist-packages (from spacy<3.8.0,>=3.7.2->en-core-web-sm==3.7.1) (2.9.2)\n",
            "Requirement already satisfied: jinja2 in /usr/local/lib/python3.10/dist-packages (from spacy<3.8.0,>=3.7.2->en-core-web-sm==3.7.1) (3.1.4)\n",
            "Requirement already satisfied: setuptools in /usr/local/lib/python3.10/dist-packages (from spacy<3.8.0,>=3.7.2->en-core-web-sm==3.7.1) (75.1.0)\n",
            "Requirement already satisfied: packaging>=20.0 in /usr/local/lib/python3.10/dist-packages (from spacy<3.8.0,>=3.7.2->en-core-web-sm==3.7.1) (24.2)\n",
            "Requirement already satisfied: langcodes<4.0.0,>=3.2.0 in /usr/local/lib/python3.10/dist-packages (from spacy<3.8.0,>=3.7.2->en-core-web-sm==3.7.1) (3.4.1)\n",
            "Requirement already satisfied: numpy>=1.19.0 in /usr/local/lib/python3.10/dist-packages (from spacy<3.8.0,>=3.7.2->en-core-web-sm==3.7.1) (1.26.4)\n",
            "Requirement already satisfied: language-data>=1.2 in /usr/local/lib/python3.10/dist-packages (from langcodes<4.0.0,>=3.2.0->spacy<3.8.0,>=3.7.2->en-core-web-sm==3.7.1) (1.2.0)\n",
            "Requirement already satisfied: annotated-types>=0.6.0 in /usr/local/lib/python3.10/dist-packages (from pydantic!=1.8,!=1.8.1,<3.0.0,>=1.7.4->spacy<3.8.0,>=3.7.2->en-core-web-sm==3.7.1) (0.7.0)\n",
            "Requirement already satisfied: pydantic-core==2.23.4 in /usr/local/lib/python3.10/dist-packages (from pydantic!=1.8,!=1.8.1,<3.0.0,>=1.7.4->spacy<3.8.0,>=3.7.2->en-core-web-sm==3.7.1) (2.23.4)\n",
            "Requirement already satisfied: typing-extensions>=4.6.1 in /usr/local/lib/python3.10/dist-packages (from pydantic!=1.8,!=1.8.1,<3.0.0,>=1.7.4->spacy<3.8.0,>=3.7.2->en-core-web-sm==3.7.1) (4.12.2)\n",
            "Requirement already satisfied: charset-normalizer<4,>=2 in /usr/local/lib/python3.10/dist-packages (from requests<3.0.0,>=2.13.0->spacy<3.8.0,>=3.7.2->en-core-web-sm==3.7.1) (3.4.0)\n",
            "Requirement already satisfied: idna<4,>=2.5 in /usr/local/lib/python3.10/dist-packages (from requests<3.0.0,>=2.13.0->spacy<3.8.0,>=3.7.2->en-core-web-sm==3.7.1) (3.10)\n",
            "Requirement already satisfied: urllib3<3,>=1.21.1 in /usr/local/lib/python3.10/dist-packages (from requests<3.0.0,>=2.13.0->spacy<3.8.0,>=3.7.2->en-core-web-sm==3.7.1) (2.2.3)\n",
            "Requirement already satisfied: certifi>=2017.4.17 in /usr/local/lib/python3.10/dist-packages (from requests<3.0.0,>=2.13.0->spacy<3.8.0,>=3.7.2->en-core-web-sm==3.7.1) (2024.8.30)\n",
            "Requirement already satisfied: blis<0.8.0,>=0.7.8 in /usr/local/lib/python3.10/dist-packages (from thinc<8.3.0,>=8.2.2->spacy<3.8.0,>=3.7.2->en-core-web-sm==3.7.1) (0.7.11)\n",
            "Requirement already satisfied: confection<1.0.0,>=0.0.1 in /usr/local/lib/python3.10/dist-packages (from thinc<8.3.0,>=8.2.2->spacy<3.8.0,>=3.7.2->en-core-web-sm==3.7.1) (0.1.5)\n",
            "Requirement already satisfied: click>=8.0.0 in /usr/local/lib/python3.10/dist-packages (from typer<1.0.0,>=0.3.0->spacy<3.8.0,>=3.7.2->en-core-web-sm==3.7.1) (8.1.7)\n",
            "Requirement already satisfied: shellingham>=1.3.0 in /usr/local/lib/python3.10/dist-packages (from typer<1.0.0,>=0.3.0->spacy<3.8.0,>=3.7.2->en-core-web-sm==3.7.1) (1.5.4)\n",
            "Requirement already satisfied: rich>=10.11.0 in /usr/local/lib/python3.10/dist-packages (from typer<1.0.0,>=0.3.0->spacy<3.8.0,>=3.7.2->en-core-web-sm==3.7.1) (13.9.4)\n",
            "Requirement already satisfied: cloudpathlib<1.0.0,>=0.7.0 in /usr/local/lib/python3.10/dist-packages (from weasel<0.5.0,>=0.1.0->spacy<3.8.0,>=3.7.2->en-core-web-sm==3.7.1) (0.20.0)\n",
            "Requirement already satisfied: smart-open<8.0.0,>=5.2.1 in /usr/local/lib/python3.10/dist-packages (from weasel<0.5.0,>=0.1.0->spacy<3.8.0,>=3.7.2->en-core-web-sm==3.7.1) (7.0.5)\n",
            "Requirement already satisfied: MarkupSafe>=2.0 in /usr/local/lib/python3.10/dist-packages (from jinja2->spacy<3.8.0,>=3.7.2->en-core-web-sm==3.7.1) (3.0.2)\n",
            "Requirement already satisfied: marisa-trie>=0.7.7 in /usr/local/lib/python3.10/dist-packages (from language-data>=1.2->langcodes<4.0.0,>=3.2.0->spacy<3.8.0,>=3.7.2->en-core-web-sm==3.7.1) (1.2.1)\n",
            "Requirement already satisfied: markdown-it-py>=2.2.0 in /usr/local/lib/python3.10/dist-packages (from rich>=10.11.0->typer<1.0.0,>=0.3.0->spacy<3.8.0,>=3.7.2->en-core-web-sm==3.7.1) (3.0.0)\n",
            "Requirement already satisfied: pygments<3.0.0,>=2.13.0 in /usr/local/lib/python3.10/dist-packages (from rich>=10.11.0->typer<1.0.0,>=0.3.0->spacy<3.8.0,>=3.7.2->en-core-web-sm==3.7.1) (2.18.0)\n",
            "Requirement already satisfied: wrapt in /usr/local/lib/python3.10/dist-packages (from smart-open<8.0.0,>=5.2.1->weasel<0.5.0,>=0.1.0->spacy<3.8.0,>=3.7.2->en-core-web-sm==3.7.1) (1.16.0)\n",
            "Requirement already satisfied: mdurl~=0.1 in /usr/local/lib/python3.10/dist-packages (from markdown-it-py>=2.2.0->rich>=10.11.0->typer<1.0.0,>=0.3.0->spacy<3.8.0,>=3.7.2->en-core-web-sm==3.7.1) (0.1.2)\n",
            "\u001b[38;5;2m✔ Download and installation successful\u001b[0m\n",
            "You can now load the package via spacy.load('en_core_web_sm')\n",
            "\u001b[38;5;3m⚠ Restart to reload dependencies\u001b[0m\n",
            "If you are in a Jupyter or Colab notebook, you may need to restart Python in\n",
            "order to load all the package's dependencies. You can do this by selecting the\n",
            "'Restart kernel' or 'Restart runtime' option.\n"
          ]
        }
      ],
      "source": [
        "!python -m spacy download en_core_web_sm"
      ]
    },
    {
      "cell_type": "code",
      "execution_count": 2,
      "metadata": {
        "colab": {
          "base_uri": "https://localhost:8080/"
        },
        "id": "qshPjA7axFhN",
        "outputId": "a20e82a7-d165-4e0c-e4e3-b9b241891a60"
      },
      "outputs": [
        {
          "output_type": "stream",
          "name": "stdout",
          "text": [
            "Cloning into 'booknlp'...\n",
            "remote: Enumerating objects: 94, done.\u001b[K\n",
            "remote: Counting objects: 100% (44/44), done.\u001b[K\n",
            "remote: Compressing objects: 100% (38/38), done.\u001b[K\n",
            "remote: Total 94 (delta 25), reused 6 (delta 6), pack-reused 50 (from 1)\u001b[K\n",
            "Receiving objects: 100% (94/94), 7.60 MiB | 17.30 MiB/s, done.\n",
            "Resolving deltas: 100% (28/28), done.\n",
            "/content/booknlp\n"
          ]
        }
      ],
      "source": [
        "!git clone https://github.com/koreankiwi99/booknlp.git\n",
        "%cd booknlp"
      ]
    },
    {
      "cell_type": "code",
      "execution_count": 3,
      "metadata": {
        "colab": {
          "base_uri": "https://localhost:8080/"
        },
        "id": "hwJkpzZJnaMW",
        "outputId": "6a0f3db1-3e2a-40a8-8cbf-151f996e8fd5"
      },
      "outputs": [
        {
          "output_type": "stream",
          "name": "stdout",
          "text": [
            "using device cuda\n"
          ]
        }
      ],
      "source": [
        "from booknlp.booknlp import BookNLP"
      ]
    },
    {
      "cell_type": "code",
      "execution_count": null,
      "metadata": {
        "colab": {
          "base_uri": "https://localhost:8080/",
          "height": 433,
          "referenced_widgets": [
            "b827116bfd244158bb21cf2353af5aaf",
            "c356226e39274ee99168e831aa09469d",
            "8885d1aca67b47e9b4ba38747fcf6623",
            "83f210da93dc4615b33df00a6c61cf69",
            "1a754f9a56ae4ad8afded3d55c82ad21",
            "b271728bc2fe48239a231fc50a47dad5",
            "bc10d88d864c45eab24339edc80e8ee3",
            "d6087d5aa45242649da16895c4de0175",
            "6b0b9e60b3d14a7caf4effd497fd7133",
            "5bf92616ab1e4e979738e66a9a598eec",
            "781124ea248548a2a042b6e999d5b402",
            "e5f6744d9e214f9c8793ab2183642ea0",
            "c274b45910374b48bd438a132d577bb8",
            "9719c1878f2a4e67b9082863c3041fd9",
            "0f7b3cd98b504c5285643d49f799fa1d",
            "5b9dc7d7e16b4990a0ba67a62599f835",
            "e003917249674cdb86b0d7798c1ae9a7",
            "6be4aa19ebb442069284afd3f4b8e9d8",
            "d6b4e4ce4b704312b2925a42bba7d4f9",
            "e11e03a1e2e74b03bb31a37e306d832c",
            "2948dcd110984d93920cb730507a0605",
            "1454c5ed469d4347a50e2c58dd370b73",
            "dd5447cbf19a4a57b36f7f4aa7f72d2e",
            "ae5514741acb48a09f26f5ac282e9cae",
            "e30ff8b4eb9d4003ba527ac09d53d108",
            "00ec55cbfc524f59a265392c498dad45",
            "adddb11bada54ec7b36be2cabae06bae",
            "828e32300b28481080a4e576db971d80",
            "73e3aacf3a4d4348a78dad68ba800558",
            "1e923ee89a154d39b0a7b4d81c03d8d2",
            "6de70eebe41b4ecfb8d36297f8d73ba3",
            "011c157b76a8491c80b6b41f147eecdf",
            "2386d52d7f594da2a6a018d4a98e83e9",
            "0417ae21c6714da3a6ea5149837c8703",
            "1fe022918bd942e7850dd18bd76400f8",
            "c375c99537e5462fa982a20fbe392af2",
            "396255c22c574b14a96b89b7ed6fe2af",
            "fe9872c9b6c84ee185320c7ff6238b87",
            "205b305e8b7d434f99316495840dc509",
            "fca5053d78b64325a749a63a6d3ac6c4",
            "ac6de97182e9413db846769ce14d87f9",
            "044b3226abb045f8a60e26ecc4dd5700",
            "578f4f488cfa42bd93a1bcd97b80bcec",
            "6d093c4f433a443e836028f57692c569",
            "6b3a19e2841040339bfb802bd7b5f2ca",
            "7c22147f9a394797beccf1e0563c25aa",
            "53e2376bab24437c8930498b2dec9327",
            "5366411956be4ba4a040a0a5ff7109cf",
            "4eea2e7b3cfe47df87e1c9a9c4a2a537",
            "f17da8e59876427ba6d22f8d17037249",
            "15f3d62c26304209a2caa71063931703",
            "7a60312b997f46de8f2ef732869636e8",
            "1f3fc7d61bd34740b907b098c56ed720",
            "ab6db814f348462cb223e7338dc4fdda",
            "acfe1ef6d05341ca9ba79226de5bc14b",
            "1abac789bf564448bc1da4dc0ed27912",
            "a81da02748654f11b5d46e1fe5eb685b",
            "efa90e0d6ff94c06adb586c676053f7d",
            "6c4ee28c34b746ceb2508552da55491d",
            "05a545cdbfe340739f026034fc44c816",
            "3e693c67d752482b93f15da19a4b8f27",
            "43f974a7564245c7b7cdfa3346249703",
            "d57d3ffda44541458186f6d9f0e2ff40",
            "ecd33c9093b14d048b1fc9b0e0ffe938",
            "d7c129007121474cb339bf570a012db8",
            "4b62ae647a254ce49b1e15f303630788"
          ]
        },
        "id": "aZwK2xbGiwcC",
        "outputId": "ba1be3b0-dbc6-442a-9677-89bb13a5bb4a"
      },
      "outputs": [
        {
          "output_type": "stream",
          "name": "stdout",
          "text": [
            "{'pipeline': 'entity,quote,supersense,event,coref', 'model': 'big'}\n",
            "downloading entities_google_bert_uncased_L-6_H-768_A-12-v1.0.model\n",
            "downloading coref_google_bert_uncased_L-12_H-768_A-12-v1.0.model\n",
            "downloading speaker_google_bert_uncased_L-12_H-768_A-12-v1.0.1.model\n"
          ]
        },
        {
          "output_type": "stream",
          "name": "stderr",
          "text": [
            "/usr/local/lib/python3.10/dist-packages/huggingface_hub/utils/_auth.py:94: UserWarning: \n",
            "The secret `HF_TOKEN` does not exist in your Colab secrets.\n",
            "To authenticate with the Hugging Face Hub, create a token in your settings tab (https://huggingface.co/settings/tokens), set it as secret in your Google Colab and restart your session.\n",
            "You will be able to reuse this secret in all of your notebooks.\n",
            "Please note that authentication is recommended but still optional to access public models or datasets.\n",
            "  warnings.warn(\n"
          ]
        },
        {
          "output_type": "display_data",
          "data": {
            "text/plain": [
              "vocab.txt:   0%|          | 0.00/232k [00:00<?, ?B/s]"
            ],
            "application/vnd.jupyter.widget-view+json": {
              "version_major": 2,
              "version_minor": 0,
              "model_id": "b827116bfd244158bb21cf2353af5aaf"
            }
          },
          "metadata": {}
        },
        {
          "output_type": "display_data",
          "data": {
            "text/plain": [
              "config.json:   0%|          | 0.00/384 [00:00<?, ?B/s]"
            ],
            "application/vnd.jupyter.widget-view+json": {
              "version_major": 2,
              "version_minor": 0,
              "model_id": "e5f6744d9e214f9c8793ab2183642ea0"
            }
          },
          "metadata": {}
        },
        {
          "output_type": "display_data",
          "data": {
            "text/plain": [
              "pytorch_model.bin:   0%|          | 0.00/270M [00:00<?, ?B/s]"
            ],
            "application/vnd.jupyter.widget-view+json": {
              "version_major": 2,
              "version_minor": 0,
              "model_id": "dd5447cbf19a4a57b36f7f4aa7f72d2e"
            }
          },
          "metadata": {}
        },
        {
          "output_type": "stream",
          "name": "stderr",
          "text": [
            "/content/booknlp/booknlp/english/entity_tagger.py:23: FutureWarning: You are using `torch.load` with `weights_only=False` (the current default value), which uses the default pickle module implicitly. It is possible to construct malicious pickle data which will execute arbitrary code during unpickling (See https://github.com/pytorch/pytorch/blob/main/SECURITY.md#untrusted-models for more details). In a future release, the default value for `weights_only` will be flipped to `True`. This limits the functions that could be executed during unpickling. Arbitrary objects will no longer be allowed to be loaded via this mode unless they are explicitly allowlisted by the user via `torch.serialization.add_safe_globals`. We recommend you start setting `weights_only=True` for any use case where you don't have full control of the loaded file. Please open an issue on GitHub for any issues related to this experimental feature.\n",
            "  state_dict = torch.load(model_file, map_location=device)\n"
          ]
        },
        {
          "output_type": "display_data",
          "data": {
            "text/plain": [
              "vocab.txt:   0%|          | 0.00/232k [00:00<?, ?B/s]"
            ],
            "application/vnd.jupyter.widget-view+json": {
              "version_major": 2,
              "version_minor": 0,
              "model_id": "0417ae21c6714da3a6ea5149837c8703"
            }
          },
          "metadata": {}
        },
        {
          "output_type": "display_data",
          "data": {
            "text/plain": [
              "config.json:   0%|          | 0.00/385 [00:00<?, ?B/s]"
            ],
            "application/vnd.jupyter.widget-view+json": {
              "version_major": 2,
              "version_minor": 0,
              "model_id": "6b3a19e2841040339bfb802bd7b5f2ca"
            }
          },
          "metadata": {}
        },
        {
          "output_type": "display_data",
          "data": {
            "text/plain": [
              "model.safetensors:   0%|          | 0.00/270M [00:00<?, ?B/s]"
            ],
            "application/vnd.jupyter.widget-view+json": {
              "version_major": 2,
              "version_minor": 0,
              "model_id": "1abac789bf564448bc1da4dc0ed27912"
            }
          },
          "metadata": {}
        }
      ],
      "source": [
        "model_params={\n",
        "\t\t\"pipeline\":\"entity,quote,supersense,event,coref\",\n",
        "\t\t\"model\":\"big\",\n",
        "\t}\n",
        "\n",
        "booknlp=BookNLP(\"en\", model_params)"
      ]
    },
    {
      "cell_type": "markdown",
      "metadata": {
        "id": "GmoptjMRt0Pv"
      },
      "source": [
        "# Load Dataset"
      ]
    },
    {
      "cell_type": "code",
      "execution_count": null,
      "metadata": {
        "id": "IeY1JwOKVwww"
      },
      "outputs": [],
      "source": [
        "from google.colab import drive\n",
        "drive.mount('/content/drive')"
      ]
    },
    {
      "cell_type": "code",
      "execution_count": null,
      "metadata": {
        "id": "FrgaGMGhxzo5"
      },
      "outputs": [],
      "source": [
        "import tarfile\n",
        "import os\n",
        "import pandas as pd\n",
        "from pathlib import Path\n",
        "from tqdm import tqdm"
      ]
    },
    {
      "cell_type": "code",
      "execution_count": null,
      "metadata": {
        "id": "YES0SczzV3X9"
      },
      "outputs": [],
      "source": [
        "%cd /content/\n",
        "data_dir = '/content/drive/MyDrive/ADA/data/MovieSummaries.tar'\n",
        "with tarfile.open(os.path.join('./', data_dir), 'r') as f:\n",
        "  f.extractall()"
      ]
    },
    {
      "cell_type": "markdown",
      "metadata": {
        "id": "jFOf8X--WLmK"
      },
      "source": [
        "## Plot Dataset\n",
        "- total: 42,306\n",
        "- 99 plots are not in movie metadata\n",
        "- 4525 plots are not in character dataset"
      ]
    },
    {
      "cell_type": "code",
      "execution_count": null,
      "metadata": {
        "id": "RuKRDUpQqI2D"
      },
      "outputs": [],
      "source": [
        "plot_path = '/content/MovieSummaries/plot_summaries.txt'"
      ]
    },
    {
      "cell_type": "code",
      "execution_count": null,
      "metadata": {
        "id": "T-1p5b1YsJS9"
      },
      "outputs": [],
      "source": [
        "with open(plot_path, 'r') as f:\n",
        "  lines = f.readlines()"
      ]
    },
    {
      "cell_type": "code",
      "execution_count": null,
      "metadata": {
        "id": "4pSyt-EIsKy0"
      },
      "outputs": [],
      "source": [
        "plot_df = []\n",
        "for line in lines:\n",
        "  plot_df.append(line.split('\\t'))\n",
        "\n",
        "plot_df = pd.DataFrame(plot_df)\n",
        "plot_df.columns = ['Wikipedia_movie_ID', 'Plot']\n",
        "plot_df['Wikipedia_movie_ID'] = plot_df['Wikipedia_movie_ID'].apply(lambda x: int(x.strip()))"
      ]
    },
    {
      "cell_type": "code",
      "execution_count": null,
      "metadata": {
        "id": "cQK91MehdNF3"
      },
      "outputs": [],
      "source": [
        "len(plot_df)"
      ]
    },
    {
      "cell_type": "code",
      "execution_count": null,
      "metadata": {
        "id": "DlWQjdBTzkui"
      },
      "outputs": [],
      "source": [
        "plot_df.head(3)"
      ]
    },
    {
      "cell_type": "code",
      "execution_count": null,
      "metadata": {
        "id": "lvXW0Ee61IM2"
      },
      "outputs": [],
      "source": [
        "#plot_df.to_csv('/content/drive/MyDrive/ADA/data/plot_df.csv', index=False)"
      ]
    },
    {
      "cell_type": "markdown",
      "metadata": {
        "id": "wLi2XrWHzugj"
      },
      "source": [
        "# Save to text files"
      ]
    },
    {
      "cell_type": "code",
      "execution_count": null,
      "metadata": {
        "id": "YyBUo2rZzxYf"
      },
      "outputs": [],
      "source": [
        "save_dir = Path('/content/drive/MyDrive/ADA/data/plots/')\n",
        "save_dir.mkdir(parents=True, exist_ok=True)"
      ]
    },
    {
      "cell_type": "code",
      "execution_count": null,
      "metadata": {
        "id": "LfmpjlamzZ2c"
      },
      "outputs": [],
      "source": [
        "#for i, plot in enumerate(plot_df['Plot']):\n",
        "#  with open(save_dir / f'{i}.txt', 'w') as f:\n",
        "#    f.write(plot)"
      ]
    },
    {
      "cell_type": "markdown",
      "metadata": {
        "id": "VqtF9GKY0JJV"
      },
      "source": [
        "# Process Booknlp"
      ]
    },
    {
      "cell_type": "code",
      "execution_count": null,
      "metadata": {
        "id": "tV4nq6Aj1iNd"
      },
      "outputs": [],
      "source": [
        "processed_dir = Path('/content/drive/MyDrive/ADA/data/processed/')\n",
        "processed_dir.mkdir(parents=True, exist_ok=True)"
      ]
    },
    {
      "cell_type": "code",
      "execution_count": null,
      "metadata": {
        "id": "CY8x5AOs0_TE"
      },
      "outputs": [],
      "source": [
        "input_files = sorted(list(save_dir.glob('*.txt')))"
      ]
    },
    {
      "cell_type": "code",
      "execution_count": null,
      "metadata": {
        "colab": {
          "base_uri": "https://localhost:8080/"
        },
        "id": "TEsz2GhO1N-U",
        "outputId": "72bf6e99-b080-42b2-98c0-b5c12b951d70"
      },
      "outputs": [
        {
          "output_type": "stream",
          "name": "stderr",
          "text": [
            " 84%|████████▍ | 35689/42306 [00:05<00:00, 7132.35it/s]"
          ]
        },
        {
          "output_type": "stream",
          "name": "stdout",
          "text": [
            "42179\n",
            "--- spacy: 1.002 seconds ---\n",
            "--- entities: 1.497 seconds ---\n",
            "--- quotes: 0.000 seconds ---\n",
            "--- attribution: 0.108 seconds ---\n",
            "--- name coref: 0.001 seconds ---\n",
            "--- coref: 2.986 seconds ---\n",
            "--- TOTAL (excl. startup): 5.612 seconds ---, 217 words\n",
            "42180\n",
            "--- spacy: 0.902 seconds ---\n",
            "--- entities: 0.082 seconds ---\n",
            "--- quotes: 0.000 seconds ---\n",
            "--- attribution: 0.000 seconds ---\n",
            "--- name coref: 0.000 seconds ---\n",
            "--- coref: 2.833 seconds ---\n",
            "--- TOTAL (excl. startup): 3.835 seconds ---, 47 words\n",
            "42181\n",
            "--- spacy: 0.788 seconds ---\n",
            "--- entities: 0.332 seconds ---\n",
            "--- quotes: 0.000 seconds ---\n",
            "--- attribution: 0.000 seconds ---\n",
            "--- name coref: 0.000 seconds ---\n"
          ]
        },
        {
          "output_type": "stream",
          "name": "stderr",
          "text": [
            " 85%|████████▍ | 35761/42306 [00:19<00:51, 126.29it/s] "
          ]
        },
        {
          "output_type": "stream",
          "name": "stdout",
          "text": [
            "--- coref: 2.951 seconds ---\n",
            "--- TOTAL (excl. startup): 4.090 seconds ---, 204 words\n",
            "42182\n",
            "--- spacy: 0.869 seconds ---\n",
            "--- entities: 0.881 seconds ---\n",
            "--- quotes: 0.001 seconds ---\n",
            "--- attribution: 0.014 seconds ---\n",
            "--- name coref: 0.001 seconds ---\n"
          ]
        },
        {
          "output_type": "stream",
          "name": "stderr",
          "text": [
            "\r 85%|████████▍ | 35762/42306 [00:24<01:17, 84.74it/s] "
          ]
        },
        {
          "output_type": "stream",
          "name": "stdout",
          "text": [
            "--- coref: 2.956 seconds ---\n",
            "--- TOTAL (excl. startup): 4.741 seconds ---, 557 words\n",
            "42183\n",
            "--- spacy: 0.995 seconds ---\n",
            "--- entities: 0.072 seconds ---\n",
            "--- quotes: 0.000 seconds ---\n",
            "--- attribution: 0.000 seconds ---\n",
            "--- name coref: 0.000 seconds ---\n",
            "--- coref: 2.987 seconds ---\n",
            "--- TOTAL (excl. startup): 4.071 seconds ---, 27 words\n",
            "42184\n",
            "--- spacy: 0.867 seconds ---\n",
            "--- entities: 0.147 seconds ---\n",
            "--- quotes: 0.000 seconds ---\n",
            "--- attribution: 0.000 seconds ---\n",
            "--- name coref: 0.000 seconds ---\n",
            "--- coref: 3.037 seconds ---\n",
            "--- TOTAL (excl. startup): 4.069 seconds ---, 95 words\n",
            "42185\n",
            "--- spacy: 0.834 seconds ---\n",
            "--- entities: 0.493 seconds ---\n",
            "--- quotes: 0.001 seconds ---\n",
            "--- attribution: 0.000 seconds ---\n",
            "--- name coref: 0.001 seconds ---\n",
            "--- coref: 2.910 seconds ---\n",
            "--- TOTAL (excl. startup): 4.256 seconds ---, 304 words\n",
            "42186\n",
            "--- spacy: 0.910 seconds ---\n",
            "--- entities: 0.729 seconds ---\n",
            "--- quotes: 0.002 seconds ---\n",
            "--- attribution: 0.022 seconds ---\n",
            "--- name coref: 0.005 seconds ---\n"
          ]
        },
        {
          "output_type": "stream",
          "name": "stderr",
          "text": [
            " 85%|████████▍ | 35766/42306 [00:41<03:27, 31.56it/s]"
          ]
        },
        {
          "output_type": "stream",
          "name": "stdout",
          "text": [
            "--- coref: 3.011 seconds ---\n",
            "--- TOTAL (excl. startup): 4.699 seconds ---, 862 words\n",
            "42187\n",
            "--- spacy: 0.937 seconds ---\n",
            "--- entities: 0.649 seconds ---\n",
            "--- quotes: 0.001 seconds ---\n",
            "--- attribution: 0.000 seconds ---\n",
            "--- name coref: 0.001 seconds ---\n"
          ]
        },
        {
          "output_type": "stream",
          "name": "stderr",
          "text": [
            "\r 85%|████████▍ | 35767/42306 [00:46<04:17, 25.42it/s]"
          ]
        },
        {
          "output_type": "stream",
          "name": "stdout",
          "text": [
            "--- coref: 3.032 seconds ---\n",
            "--- TOTAL (excl. startup): 4.638 seconds ---, 370 words\n",
            "42188\n",
            "--- spacy: 0.945 seconds ---\n",
            "--- entities: 0.126 seconds ---\n",
            "--- quotes: 0.000 seconds ---\n",
            "--- attribution: 0.011 seconds ---\n",
            "--- name coref: 0.000 seconds ---\n",
            "--- coref: 2.907 seconds ---\n",
            "--- TOTAL (excl. startup): 4.006 seconds ---, 79 words\n",
            "42189\n",
            "--- spacy: 0.884 seconds ---\n",
            "--- entities: 0.958 seconds ---\n",
            "--- quotes: 0.002 seconds ---\n",
            "--- attribution: 0.015 seconds ---\n",
            "--- name coref: 0.001 seconds ---\n",
            "--- coref: 3.074 seconds ---\n",
            "--- TOTAL (excl. startup): 4.956 seconds ---, 997 words\n",
            "42190\n",
            "--- spacy: 0.876 seconds ---\n",
            "--- entities: 0.087 seconds ---\n",
            "--- quotes: 0.000 seconds ---\n",
            "--- attribution: 0.000 seconds ---\n",
            "--- name coref: 0.000 seconds ---\n"
          ]
        },
        {
          "output_type": "stream",
          "name": "stderr",
          "text": [
            "\r 85%|████████▍ | 35767/42306 [00:59<04:17, 25.42it/s]"
          ]
        },
        {
          "output_type": "stream",
          "name": "stdout",
          "text": [
            "--- coref: 2.910 seconds ---\n",
            "--- TOTAL (excl. startup): 3.906 seconds ---, 50 words\n",
            "42191\n",
            "--- spacy: 0.845 seconds ---\n",
            "--- entities: 0.117 seconds ---\n",
            "--- quotes: 0.000 seconds ---\n",
            "--- attribution: 0.000 seconds ---\n",
            "--- name coref: 0.000 seconds ---\n"
          ]
        },
        {
          "output_type": "stream",
          "name": "stderr",
          "text": [
            "\r 85%|████████▍ | 35772/42306 [01:02<08:30, 12.80it/s]"
          ]
        },
        {
          "output_type": "stream",
          "name": "stdout",
          "text": [
            "--- coref: 2.847 seconds ---\n",
            "--- TOTAL (excl. startup): 3.828 seconds ---, 75 words\n",
            "42192\n",
            "--- spacy: 0.841 seconds ---\n",
            "--- entities: 0.196 seconds ---\n",
            "--- quotes: 0.000 seconds ---\n",
            "--- attribution: 0.000 seconds ---\n",
            "--- name coref: 0.001 seconds ---\n"
          ]
        },
        {
          "output_type": "stream",
          "name": "stderr",
          "text": [
            "\r 85%|████████▍ | 35773/42306 [01:06<09:56, 10.95it/s]"
          ]
        },
        {
          "output_type": "stream",
          "name": "stdout",
          "text": [
            "--- coref: 2.969 seconds ---\n",
            "--- TOTAL (excl. startup): 4.045 seconds ---, 130 words\n",
            "42193\n",
            "--- spacy: 0.877 seconds ---\n",
            "--- entities: 0.597 seconds ---\n",
            "--- quotes: 0.001 seconds ---\n",
            "--- attribution: 0.027 seconds ---\n",
            "--- name coref: 0.001 seconds ---\n",
            "--- coref: 2.960 seconds ---\n",
            "--- TOTAL (excl. startup): 4.481 seconds ---, 367 words\n",
            "42194\n",
            "--- spacy: 0.871 seconds ---\n",
            "--- entities: 0.116 seconds ---\n",
            "--- quotes: 0.000 seconds ---\n",
            "--- attribution: 0.000 seconds ---\n",
            "--- name coref: 0.000 seconds ---\n",
            "--- coref: 2.838 seconds ---\n",
            "--- TOTAL (excl. startup): 3.860 seconds ---, 73 words\n",
            "42195\n",
            "--- spacy: 0.829 seconds ---\n",
            "--- entities: 0.490 seconds ---\n",
            "--- quotes: 0.001 seconds ---\n",
            "--- attribution: 0.000 seconds ---\n",
            "--- name coref: 0.001 seconds ---\n"
          ]
        },
        {
          "output_type": "stream",
          "name": "stderr",
          "text": [
            " 85%|████████▍ | 35776/42306 [01:19<16:26,  6.62it/s]"
          ]
        },
        {
          "output_type": "stream",
          "name": "stdout",
          "text": [
            "--- coref: 3.280 seconds ---\n",
            "--- TOTAL (excl. startup): 4.617 seconds ---, 312 words\n",
            "42196\n",
            "--- spacy: 1.450 seconds ---\n",
            "--- entities: 0.510 seconds ---\n",
            "--- quotes: 0.001 seconds ---\n",
            "--- attribution: 0.045 seconds ---\n",
            "--- name coref: 0.001 seconds ---\n"
          ]
        },
        {
          "output_type": "stream",
          "name": "stderr",
          "text": [
            "\r 85%|████████▍ | 35777/42306 [01:24<19:56,  5.46it/s]"
          ]
        },
        {
          "output_type": "stream",
          "name": "stdout",
          "text": [
            "--- coref: 2.931 seconds ---\n",
            "--- TOTAL (excl. startup): 4.955 seconds ---, 347 words\n",
            "42197\n",
            "--- spacy: 0.841 seconds ---\n",
            "--- entities: 0.508 seconds ---\n",
            "--- quotes: 0.001 seconds ---\n",
            "--- attribution: 0.028 seconds ---\n",
            "--- name coref: 0.000 seconds ---\n",
            "--- coref: 2.879 seconds ---\n",
            "--- TOTAL (excl. startup): 4.273 seconds ---, 319 words\n",
            "42198\n",
            "--- spacy: 0.924 seconds ---\n",
            "--- entities: 0.896 seconds ---\n",
            "--- quotes: 0.002 seconds ---\n",
            "--- attribution: 0.023 seconds ---\n",
            "--- name coref: 0.001 seconds ---\n",
            "--- coref: 3.046 seconds ---\n",
            "--- TOTAL (excl. startup): 4.912 seconds ---, 764 words\n",
            "42199\n",
            "--- spacy: 0.909 seconds ---\n",
            "--- entities: 0.856 seconds ---\n",
            "--- quotes: 0.001 seconds ---\n",
            "--- attribution: 0.022 seconds ---\n",
            "--- name coref: 0.002 seconds ---\n",
            "--- coref: 3.030 seconds ---\n",
            "--- TOTAL (excl. startup): 4.838 seconds ---, 667 words\n",
            "42200\n"
          ]
        },
        {
          "output_type": "stream",
          "name": "stderr",
          "text": [
            "\r 85%|████████▍ | 35777/42306 [01:39<19:56,  5.46it/s]"
          ]
        },
        {
          "output_type": "stream",
          "name": "stdout",
          "text": [
            "--- spacy: 0.859 seconds ---\n",
            "--- entities: 0.883 seconds ---\n",
            "--- quotes: 0.001 seconds ---\n",
            "--- attribution: 0.024 seconds ---\n",
            "--- name coref: 0.001 seconds ---\n"
          ]
        },
        {
          "output_type": "stream",
          "name": "stderr",
          "text": [
            "\r 85%|████████▍ | 35783/42306 [01:43<37:17,  2.92it/s]"
          ]
        },
        {
          "output_type": "stream",
          "name": "stdout",
          "text": [
            "--- coref: 2.976 seconds ---\n",
            "--- TOTAL (excl. startup): 4.765 seconds ---, 564 words\n",
            "42201\n",
            "--- spacy: 0.810 seconds ---\n",
            "--- entities: 0.216 seconds ---\n",
            "--- quotes: 0.000 seconds ---\n",
            "--- attribution: 0.000 seconds ---\n",
            "--- name coref: 0.000 seconds ---\n"
          ]
        },
        {
          "output_type": "stream",
          "name": "stderr",
          "text": [
            "\r 85%|████████▍ | 35784/42306 [01:47<42:21,  2.57it/s]"
          ]
        },
        {
          "output_type": "stream",
          "name": "stdout",
          "text": [
            "--- coref: 2.965 seconds ---\n",
            "--- TOTAL (excl. startup): 4.011 seconds ---, 141 words\n",
            "42202\n",
            "--- spacy: 1.100 seconds ---\n",
            "--- entities: 0.129 seconds ---\n",
            "--- quotes: 0.000 seconds ---\n",
            "--- attribution: 0.000 seconds ---\n",
            "--- name coref: 0.000 seconds ---\n",
            "--- coref: 2.840 seconds ---\n",
            "--- TOTAL (excl. startup): 4.086 seconds ---, 70 words\n",
            "42203\n",
            "--- spacy: 0.790 seconds ---\n",
            "--- entities: 0.143 seconds ---\n",
            "--- quotes: 0.000 seconds ---\n",
            "--- attribution: 0.000 seconds ---\n",
            "--- name coref: 0.000 seconds ---\n",
            "--- coref: 2.871 seconds ---\n",
            "--- TOTAL (excl. startup): 3.821 seconds ---, 90 words\n",
            "42204\n",
            "--- spacy: 0.860 seconds ---\n",
            "--- entities: 0.371 seconds ---\n",
            "--- quotes: 0.000 seconds ---\n",
            "--- attribution: 0.041 seconds ---\n",
            "--- name coref: 0.001 seconds ---\n"
          ]
        },
        {
          "output_type": "stream",
          "name": "stderr",
          "text": [
            " 85%|████████▍ | 35787/42306 [01:59<1:02:55,  1.73it/s]"
          ]
        },
        {
          "output_type": "stream",
          "name": "stdout",
          "text": [
            "--- coref: 2.929 seconds ---\n",
            "--- TOTAL (excl. startup): 4.220 seconds ---, 234 words\n",
            "42205\n",
            "--- spacy: 0.859 seconds ---\n",
            "--- entities: 0.786 seconds ---\n",
            "--- quotes: 0.001 seconds ---\n",
            "--- attribution: 0.030 seconds ---\n",
            "--- name coref: 0.001 seconds ---\n"
          ]
        },
        {
          "output_type": "stream",
          "name": "stderr",
          "text": [
            "\r 85%|████████▍ | 35788/42306 [02:04<1:13:41,  1.47it/s]"
          ]
        },
        {
          "output_type": "stream",
          "name": "stdout",
          "text": [
            "--- coref: 2.985 seconds ---\n",
            "--- TOTAL (excl. startup): 4.700 seconds ---, 745 words\n",
            "42206\n",
            "--- spacy: 0.946 seconds ---\n",
            "--- entities: 1.202 seconds ---\n",
            "--- quotes: 0.002 seconds ---\n",
            "--- attribution: 0.024 seconds ---\n",
            "--- name coref: 0.002 seconds ---\n",
            "--- coref: 3.213 seconds ---\n",
            "--- TOTAL (excl. startup): 5.412 seconds ---, 1259 words\n",
            "42207\n",
            "--- spacy: 0.839 seconds ---\n",
            "--- entities: 0.770 seconds ---\n",
            "--- quotes: 0.001 seconds ---\n",
            "--- attribution: 0.024 seconds ---\n",
            "--- name coref: 0.001 seconds ---\n",
            "--- coref: 2.995 seconds ---\n",
            "--- TOTAL (excl. startup): 4.664 seconds ---, 406 words\n",
            "42208\n",
            "--- spacy: 1.755 seconds ---\n",
            "--- entities: 0.791 seconds ---\n",
            "--- quotes: 0.001 seconds ---\n",
            "--- attribution: 0.025 seconds ---\n",
            "--- name coref: 0.002 seconds ---\n"
          ]
        },
        {
          "output_type": "stream",
          "name": "stderr",
          "text": [
            " 85%|████████▍ | 35791/42306 [02:20<1:59:33,  1.10s/it]"
          ]
        },
        {
          "output_type": "stream",
          "name": "stdout",
          "text": [
            "--- coref: 2.931 seconds ---\n",
            "--- TOTAL (excl. startup): 5.524 seconds ---, 558 words\n",
            "42209\n",
            "--- spacy: 0.861 seconds ---\n",
            "--- entities: 0.354 seconds ---\n",
            "--- quotes: 0.000 seconds ---\n",
            "--- attribution: 0.014 seconds ---\n",
            "--- name coref: 0.000 seconds ---\n"
          ]
        },
        {
          "output_type": "stream",
          "name": "stderr",
          "text": [
            "\r 85%|████████▍ | 35792/42306 [02:24<2:13:52,  1.23s/it]"
          ]
        },
        {
          "output_type": "stream",
          "name": "stdout",
          "text": [
            "--- coref: 2.932 seconds ---\n",
            "--- TOTAL (excl. startup): 4.196 seconds ---, 229 words\n",
            "42210\n",
            "--- spacy: 0.667 seconds ---\n",
            "--- entities: 0.049 seconds ---\n",
            "--- quotes: 0.000 seconds ---\n",
            "--- attribution: 0.000 seconds ---\n",
            "--- name coref: 0.000 seconds ---\n",
            "--- coref: 2.937 seconds ---\n",
            "--- TOTAL (excl. startup): 3.675 seconds ---, 22 words\n",
            "42211\n",
            "--- spacy: 1.020 seconds ---\n",
            "--- entities: 0.742 seconds ---\n",
            "--- quotes: 0.001 seconds ---\n",
            "--- attribution: 0.000 seconds ---\n",
            "--- name coref: 0.001 seconds ---\n",
            "--- coref: 2.949 seconds ---\n",
            "--- TOTAL (excl. startup): 4.756 seconds ---, 594 words\n",
            "42212\n",
            "--- spacy: 0.783 seconds ---\n",
            "--- entities: 0.193 seconds ---\n",
            "--- quotes: 0.000 seconds ---\n",
            "--- attribution: 0.000 seconds ---\n",
            "--- name coref: 0.000 seconds ---\n",
            "--- coref: 3.194 seconds ---\n",
            "--- TOTAL (excl. startup): 4.191 seconds ---, 125 words\n",
            "42213\n",
            "--- spacy: 0.877 seconds ---\n",
            "--- entities: 0.436 seconds ---\n",
            "--- quotes: 0.000 seconds ---\n",
            "--- attribution: 0.000 seconds ---\n",
            "--- name coref: 0.000 seconds ---\n"
          ]
        },
        {
          "output_type": "stream",
          "name": "stderr",
          "text": [
            " 85%|████████▍ | 35797/42306 [02:41<3:08:24,  1.74s/it]"
          ]
        },
        {
          "output_type": "stream",
          "name": "stdout",
          "text": [
            "--- coref: 2.966 seconds ---\n",
            "--- TOTAL (excl. startup): 4.312 seconds ---, 266 words\n",
            "42214\n",
            "--- spacy: 0.809 seconds ---\n",
            "--- entities: 0.179 seconds ---\n",
            "--- quotes: 0.000 seconds ---\n",
            "--- attribution: 0.017 seconds ---\n",
            "--- name coref: 0.000 seconds ---\n"
          ]
        },
        {
          "output_type": "stream",
          "name": "stderr",
          "text": [
            "\r 85%|████████▍ | 35798/42306 [02:45<3:23:12,  1.87s/it]"
          ]
        },
        {
          "output_type": "stream",
          "name": "stdout",
          "text": [
            "--- coref: 2.893 seconds ---\n",
            "--- TOTAL (excl. startup): 3.917 seconds ---, 117 words\n",
            "42215\n",
            "--- spacy: 0.818 seconds ---\n",
            "--- entities: 0.150 seconds ---\n",
            "--- quotes: 0.000 seconds ---\n",
            "--- attribution: 0.000 seconds ---\n",
            "--- name coref: 0.000 seconds ---\n",
            "--- coref: 2.844 seconds ---\n",
            "--- TOTAL (excl. startup): 3.851 seconds ---, 98 words\n",
            "42216\n",
            "--- spacy: 0.838 seconds ---\n",
            "--- entities: 0.119 seconds ---\n",
            "--- quotes: 0.000 seconds ---\n",
            "--- attribution: 0.000 seconds ---\n",
            "--- name coref: 0.000 seconds ---\n",
            "--- coref: 2.991 seconds ---\n",
            "--- TOTAL (excl. startup): 3.966 seconds ---, 75 words\n",
            "42217\n",
            "--- spacy: 0.770 seconds ---\n",
            "--- entities: 0.401 seconds ---\n",
            "--- quotes: 0.000 seconds ---\n",
            "--- attribution: 0.000 seconds ---\n",
            "--- name coref: 0.001 seconds ---\n",
            "--- coref: 2.898 seconds ---\n",
            "--- TOTAL (excl. startup): 4.087 seconds ---, 232 words\n",
            "42218\n",
            "--- spacy: 0.871 seconds ---\n",
            "--- entities: 0.054 seconds ---\n",
            "--- quotes: 0.000 seconds ---\n",
            "--- attribution: 0.000 seconds ---\n",
            "--- name coref: 0.000 seconds ---\n"
          ]
        },
        {
          "output_type": "stream",
          "name": "stderr",
          "text": [
            " 85%|████████▍ | 35802/42306 [03:00<4:21:17,  2.41s/it]"
          ]
        },
        {
          "output_type": "stream",
          "name": "stdout",
          "text": [
            "--- coref: 2.783 seconds ---\n",
            "--- TOTAL (excl. startup): 3.726 seconds ---, 25 words\n",
            "42219\n",
            "--- spacy: 1.461 seconds ---\n",
            "--- entities: 0.960 seconds ---\n",
            "--- quotes: 0.002 seconds ---\n",
            "--- attribution: 0.000 seconds ---\n",
            "--- name coref: 0.001 seconds ---\n"
          ]
        },
        {
          "output_type": "stream",
          "name": "stderr",
          "text": [
            "\r 85%|████████▍ | 35803/42306 [03:06<4:49:21,  2.67s/it]"
          ]
        },
        {
          "output_type": "stream",
          "name": "stdout",
          "text": [
            "--- coref: 2.977 seconds ---\n",
            "--- TOTAL (excl. startup): 5.421 seconds ---, 888 words\n",
            "42220\n",
            "--- spacy: 0.821 seconds ---\n",
            "--- entities: 0.804 seconds ---\n",
            "--- quotes: 0.001 seconds ---\n",
            "--- attribution: 0.015 seconds ---\n",
            "--- name coref: 0.001 seconds ---\n",
            "--- coref: 2.763 seconds ---\n",
            "--- TOTAL (excl. startup): 4.426 seconds ---, 653 words\n",
            "42221\n",
            "--- spacy: 0.812 seconds ---\n",
            "--- entities: 0.338 seconds ---\n",
            "--- quotes: 0.000 seconds ---\n",
            "--- attribution: 0.014 seconds ---\n",
            "--- name coref: 0.000 seconds ---\n",
            "--- coref: 2.654 seconds ---\n",
            "--- TOTAL (excl. startup): 3.836 seconds ---, 219 words\n",
            "42222\n",
            "--- spacy: 0.805 seconds ---\n",
            "--- entities: 0.367 seconds ---\n",
            "--- quotes: 0.001 seconds ---\n",
            "--- attribution: 0.000 seconds ---\n",
            "--- name coref: 0.001 seconds ---\n",
            "--- coref: 2.758 seconds ---\n",
            "--- TOTAL (excl. startup): 3.962 seconds ---, 237 words\n",
            "42223\n"
          ]
        },
        {
          "output_type": "stream",
          "name": "stderr",
          "text": [
            "\r 85%|████████▍ | 35803/42306 [03:19<4:49:21,  2.67s/it]"
          ]
        },
        {
          "output_type": "stream",
          "name": "stdout",
          "text": [
            "--- spacy: 0.795 seconds ---\n",
            "--- entities: 0.068 seconds ---\n",
            "--- quotes: 0.000 seconds ---\n",
            "--- attribution: 0.000 seconds ---\n",
            "--- name coref: 0.000 seconds ---\n"
          ]
        },
        {
          "output_type": "stream",
          "name": "stderr",
          "text": [
            "\r 85%|████████▍ | 35808/42306 [03:22<5:08:49,  2.85s/it]"
          ]
        },
        {
          "output_type": "stream",
          "name": "stdout",
          "text": [
            "--- coref: 2.582 seconds ---\n",
            "--- TOTAL (excl. startup): 3.462 seconds ---, 37 words\n",
            "42224\n",
            "--- spacy: 0.794 seconds ---\n",
            "--- entities: 0.439 seconds ---\n",
            "--- quotes: 0.000 seconds ---\n",
            "--- attribution: 0.000 seconds ---\n",
            "--- name coref: 0.001 seconds ---\n"
          ]
        },
        {
          "output_type": "stream",
          "name": "stderr",
          "text": [
            "\r 85%|████████▍ | 35809/42306 [03:25<5:19:47,  2.95s/it]"
          ]
        },
        {
          "output_type": "stream",
          "name": "stdout",
          "text": [
            "--- coref: 2.626 seconds ---\n",
            "--- TOTAL (excl. startup): 3.879 seconds ---, 274 words\n",
            "42225\n",
            "--- spacy: 0.775 seconds ---\n",
            "--- entities: 0.328 seconds ---\n",
            "--- quotes: 0.001 seconds ---\n",
            "--- attribution: 0.000 seconds ---\n",
            "--- name coref: 0.000 seconds ---\n",
            "--- coref: 2.708 seconds ---\n",
            "--- TOTAL (excl. startup): 3.831 seconds ---, 211 words\n",
            "42226\n",
            "--- spacy: 0.845 seconds ---\n",
            "--- entities: 0.547 seconds ---\n",
            "--- quotes: 0.001 seconds ---\n",
            "--- attribution: 0.000 seconds ---\n",
            "--- name coref: 0.001 seconds ---\n",
            "--- coref: 2.665 seconds ---\n",
            "--- TOTAL (excl. startup): 4.096 seconds ---, 332 words\n",
            "42227\n",
            "--- spacy: 0.806 seconds ---\n",
            "--- entities: 0.077 seconds ---\n",
            "--- quotes: 0.000 seconds ---\n",
            "--- attribution: 0.000 seconds ---\n",
            "--- name coref: 0.001 seconds ---\n",
            "--- coref: 2.638 seconds ---\n",
            "--- TOTAL (excl. startup): 3.540 seconds ---, 43 words\n",
            "42228\n",
            "--- spacy: 0.834 seconds ---\n",
            "--- entities: 0.832 seconds ---\n",
            "--- quotes: 0.001 seconds ---\n",
            "--- attribution: 0.037 seconds ---\n",
            "--- name coref: 0.001 seconds ---\n"
          ]
        },
        {
          "output_type": "stream",
          "name": "stderr",
          "text": [
            " 85%|████████▍ | 35813/42306 [03:41<6:00:18,  3.33s/it]"
          ]
        },
        {
          "output_type": "stream",
          "name": "stdout",
          "text": [
            "--- coref: 2.751 seconds ---\n",
            "--- TOTAL (excl. startup): 4.492 seconds ---, 607 words\n",
            "42229\n",
            "--- spacy: 0.866 seconds ---\n",
            "--- entities: 1.181 seconds ---\n",
            "--- quotes: 0.001 seconds ---\n",
            "--- attribution: 0.029 seconds ---\n",
            "--- name coref: 0.001 seconds ---\n"
          ]
        },
        {
          "output_type": "stream",
          "name": "stderr",
          "text": [
            "\r 85%|████████▍ | 35814/42306 [03:46<6:18:23,  3.50s/it]"
          ]
        },
        {
          "output_type": "stream",
          "name": "stdout",
          "text": [
            "--- coref: 2.696 seconds ---\n",
            "--- TOTAL (excl. startup): 4.794 seconds ---, 742 words\n",
            "42230\n",
            "--- spacy: 0.946 seconds ---\n",
            "--- entities: 1.037 seconds ---\n",
            "--- quotes: 0.002 seconds ---\n",
            "--- attribution: 0.041 seconds ---\n",
            "--- name coref: 0.002 seconds ---\n",
            "--- coref: 2.847 seconds ---\n",
            "--- TOTAL (excl. startup): 4.916 seconds ---, 1067 words\n",
            "42231\n",
            "--- spacy: 0.882 seconds ---\n",
            "--- entities: 0.082 seconds ---\n",
            "--- quotes: 0.000 seconds ---\n",
            "--- attribution: 0.000 seconds ---\n",
            "--- name coref: 0.000 seconds ---\n",
            "--- coref: 2.707 seconds ---\n",
            "--- TOTAL (excl. startup): 3.691 seconds ---, 46 words\n",
            "42232\n",
            "--- spacy: 0.825 seconds ---\n",
            "--- entities: 0.193 seconds ---\n",
            "--- quotes: 0.000 seconds ---\n",
            "--- attribution: 0.000 seconds ---\n",
            "--- name coref: 0.000 seconds ---\n",
            "--- coref: 2.660 seconds ---\n",
            "--- TOTAL (excl. startup): 3.713 seconds ---, 125 words\n",
            "42233\n"
          ]
        },
        {
          "output_type": "stream",
          "name": "stderr",
          "text": [
            "\r 85%|████████▍ | 35814/42306 [03:59<6:18:23,  3.50s/it]"
          ]
        },
        {
          "output_type": "stream",
          "name": "stdout",
          "text": [
            "--- spacy: 0.815 seconds ---\n",
            "--- entities: 0.171 seconds ---\n",
            "--- quotes: 0.000 seconds ---\n",
            "--- attribution: 0.000 seconds ---\n",
            "--- name coref: 0.000 seconds ---\n"
          ]
        },
        {
          "output_type": "stream",
          "name": "stderr",
          "text": [
            "\r 85%|████████▍ | 35819/42306 [04:02<6:03:28,  3.36s/it]"
          ]
        },
        {
          "output_type": "stream",
          "name": "stdout",
          "text": [
            "--- coref: 2.616 seconds ---\n",
            "--- TOTAL (excl. startup): 3.620 seconds ---, 110 words\n",
            "42234\n",
            "--- spacy: 0.779 seconds ---\n",
            "--- entities: 0.261 seconds ---\n",
            "--- quotes: 0.000 seconds ---\n",
            "--- attribution: 0.000 seconds ---\n",
            "--- name coref: 0.000 seconds ---\n"
          ]
        },
        {
          "output_type": "stream",
          "name": "stderr",
          "text": [
            "\r 85%|████████▍ | 35820/42306 [04:06<6:07:10,  3.40s/it]"
          ]
        },
        {
          "output_type": "stream",
          "name": "stdout",
          "text": [
            "--- coref: 2.578 seconds ---\n",
            "--- TOTAL (excl. startup): 3.656 seconds ---, 170 words\n",
            "42235\n",
            "--- spacy: 0.895 seconds ---\n",
            "--- entities: 0.858 seconds ---\n",
            "--- quotes: 0.001 seconds ---\n",
            "--- attribution: 0.000 seconds ---\n",
            "--- name coref: 0.001 seconds ---\n",
            "--- coref: 2.832 seconds ---\n",
            "--- TOTAL (excl. startup): 4.608 seconds ---, 749 words\n",
            "42236\n",
            "--- spacy: 0.787 seconds ---\n",
            "--- entities: 0.110 seconds ---\n",
            "--- quotes: 0.000 seconds ---\n",
            "--- attribution: 0.000 seconds ---\n",
            "--- name coref: 0.000 seconds ---\n",
            "--- coref: 2.616 seconds ---\n",
            "--- TOTAL (excl. startup): 3.549 seconds ---, 68 words\n",
            "42237\n",
            "--- spacy: 0.781 seconds ---\n",
            "--- entities: 0.125 seconds ---\n",
            "--- quotes: 0.000 seconds ---\n",
            "--- attribution: 0.000 seconds ---\n",
            "--- name coref: 0.000 seconds ---\n",
            "--- coref: 2.621 seconds ---\n",
            "--- TOTAL (excl. startup): 3.545 seconds ---, 81 words\n",
            "42238\n",
            "--- spacy: 0.767 seconds ---\n",
            "--- entities: 0.093 seconds ---\n",
            "--- quotes: 0.000 seconds ---\n",
            "--- attribution: 0.000 seconds ---\n",
            "--- name coref: 0.000 seconds ---\n"
          ]
        },
        {
          "output_type": "stream",
          "name": "stderr",
          "text": [
            " 85%|████████▍ | 35824/42306 [04:21<6:26:27,  3.58s/it]"
          ]
        },
        {
          "output_type": "stream",
          "name": "stdout",
          "text": [
            "--- coref: 2.803 seconds ---\n",
            "--- TOTAL (excl. startup): 3.683 seconds ---, 53 words\n",
            "42239\n",
            "--- spacy: 0.863 seconds ---\n",
            "--- entities: 0.504 seconds ---\n",
            "--- quotes: 0.001 seconds ---\n",
            "--- attribution: 0.000 seconds ---\n",
            "--- name coref: 0.001 seconds ---\n"
          ]
        },
        {
          "output_type": "stream",
          "name": "stderr",
          "text": [
            "\r 85%|████████▍ | 35825/42306 [04:25<6:32:55,  3.64s/it]"
          ]
        },
        {
          "output_type": "stream",
          "name": "stdout",
          "text": [
            "--- coref: 2.672 seconds ---\n",
            "--- TOTAL (excl. startup): 4.057 seconds ---, 316 words\n",
            "42240\n",
            "--- spacy: 0.847 seconds ---\n",
            "--- entities: 0.124 seconds ---\n",
            "--- quotes: 0.000 seconds ---\n",
            "--- attribution: 0.000 seconds ---\n",
            "--- name coref: 0.000 seconds ---\n",
            "--- coref: 2.662 seconds ---\n",
            "--- TOTAL (excl. startup): 3.651 seconds ---, 67 words\n",
            "42241\n",
            "--- spacy: 0.837 seconds ---\n",
            "--- entities: 0.867 seconds ---\n",
            "--- quotes: 0.001 seconds ---\n",
            "--- attribution: 0.039 seconds ---\n",
            "--- name coref: 0.002 seconds ---\n",
            "--- coref: 2.826 seconds ---\n",
            "--- TOTAL (excl. startup): 4.593 seconds ---, 722 words\n",
            "42242\n",
            "--- spacy: 0.830 seconds ---\n",
            "--- entities: 0.860 seconds ---\n",
            "--- quotes: 0.001 seconds ---\n",
            "--- attribution: 0.014 seconds ---\n",
            "--- name coref: 0.001 seconds ---\n",
            "--- coref: 2.715 seconds ---\n",
            "--- TOTAL (excl. startup): 4.438 seconds ---, 514 words\n",
            "42243\n"
          ]
        },
        {
          "output_type": "stream",
          "name": "stderr",
          "text": [
            "\r 85%|████████▍ | 35825/42306 [04:39<6:32:55,  3.64s/it]"
          ]
        },
        {
          "output_type": "stream",
          "name": "stdout",
          "text": [
            "--- spacy: 0.831 seconds ---\n",
            "--- entities: 0.168 seconds ---\n",
            "--- quotes: 0.000 seconds ---\n",
            "--- attribution: 0.000 seconds ---\n",
            "--- name coref: 0.000 seconds ---\n"
          ]
        },
        {
          "output_type": "stream",
          "name": "stderr",
          "text": [
            "\r 85%|████████▍ | 35830/42306 [04:42<6:14:43,  3.47s/it]"
          ]
        },
        {
          "output_type": "stream",
          "name": "stdout",
          "text": [
            "--- coref: 2.652 seconds ---\n",
            "--- TOTAL (excl. startup): 3.687 seconds ---, 109 words\n",
            "42244\n",
            "--- spacy: 0.825 seconds ---\n",
            "--- entities: 0.428 seconds ---\n",
            "--- quotes: 0.000 seconds ---\n",
            "--- attribution: 0.022 seconds ---\n",
            "--- name coref: 0.000 seconds ---\n"
          ]
        },
        {
          "output_type": "stream",
          "name": "stderr",
          "text": [
            "\r 85%|████████▍ | 35831/42306 [04:46<6:21:32,  3.54s/it]"
          ]
        },
        {
          "output_type": "stream",
          "name": "stdout",
          "text": [
            "--- coref: 2.701 seconds ---\n",
            "--- TOTAL (excl. startup): 4.001 seconds ---, 268 words\n",
            "42245\n",
            "--- spacy: 0.897 seconds ---\n",
            "--- entities: 0.304 seconds ---\n",
            "--- quotes: 0.000 seconds ---\n",
            "--- attribution: 0.000 seconds ---\n",
            "--- name coref: 0.000 seconds ---\n",
            "--- coref: 3.012 seconds ---\n",
            "--- TOTAL (excl. startup): 4.249 seconds ---, 194 words\n",
            "42246\n",
            "--- spacy: 0.806 seconds ---\n",
            "--- entities: 0.287 seconds ---\n",
            "--- quotes: 0.001 seconds ---\n",
            "--- attribution: 0.000 seconds ---\n",
            "--- name coref: 0.000 seconds ---\n",
            "--- coref: 2.690 seconds ---\n",
            "--- TOTAL (excl. startup): 3.801 seconds ---, 182 words\n",
            "42247\n",
            "--- spacy: 0.777 seconds ---\n",
            "--- entities: 0.270 seconds ---\n",
            "--- quotes: 0.001 seconds ---\n",
            "--- attribution: 0.012 seconds ---\n",
            "--- name coref: 0.002 seconds ---\n",
            "--- coref: 2.702 seconds ---\n",
            "--- TOTAL (excl. startup): 3.800 seconds ---, 176 words\n",
            "42248\n",
            "--- spacy: 0.816 seconds ---\n",
            "--- entities: 0.104 seconds ---\n",
            "--- quotes: 0.000 seconds ---\n",
            "--- attribution: 0.000 seconds ---\n",
            "--- name coref: 0.000 seconds ---\n"
          ]
        },
        {
          "output_type": "stream",
          "name": "stderr",
          "text": [
            " 85%|████████▍ | 35835/42306 [05:01<6:36:08,  3.67s/it]"
          ]
        },
        {
          "output_type": "stream",
          "name": "stdout",
          "text": [
            "--- coref: 2.684 seconds ---\n",
            "--- TOTAL (excl. startup): 3.622 seconds ---, 64 words\n",
            "42249\n",
            "--- spacy: 0.796 seconds ---\n",
            "--- entities: 0.136 seconds ---\n",
            "--- quotes: 0.000 seconds ---\n",
            "--- attribution: 0.000 seconds ---\n",
            "--- name coref: 0.000 seconds ---\n"
          ]
        },
        {
          "output_type": "stream",
          "name": "stderr",
          "text": [
            "\r 85%|████████▍ | 35836/42306 [05:05<6:35:17,  3.67s/it]"
          ]
        },
        {
          "output_type": "stream",
          "name": "stdout",
          "text": [
            "--- coref: 2.638 seconds ---\n",
            "--- TOTAL (excl. startup): 3.606 seconds ---, 85 words\n",
            "42250\n",
            "--- spacy: 0.803 seconds ---\n",
            "--- entities: 0.382 seconds ---\n",
            "--- quotes: 0.000 seconds ---\n",
            "--- attribution: 0.017 seconds ---\n",
            "--- name coref: 0.001 seconds ---\n",
            "--- coref: 2.681 seconds ---\n",
            "--- TOTAL (excl. startup): 3.902 seconds ---, 239 words\n",
            "42251\n",
            "--- spacy: 0.992 seconds ---\n",
            "--- entities: 1.378 seconds ---\n",
            "--- quotes: 0.003 seconds ---\n",
            "--- attribution: 0.111 seconds ---\n",
            "--- name coref: 0.004 seconds ---\n",
            "--- coref: 3.042 seconds ---\n",
            "--- TOTAL (excl. startup): 5.555 seconds ---, 1782 words\n",
            "42252\n",
            "--- spacy: 0.872 seconds ---\n",
            "--- entities: 0.798 seconds ---\n",
            "--- quotes: 0.001 seconds ---\n",
            "--- attribution: 0.021 seconds ---\n",
            "--- name coref: 0.002 seconds ---\n"
          ]
        },
        {
          "output_type": "stream",
          "name": "stderr",
          "text": [
            "\r 85%|████████▍ | 35840/42306 [05:19<6:27:08,  3.59s/it]"
          ]
        },
        {
          "output_type": "stream",
          "name": "stdout",
          "text": [
            "--- coref: 2.761 seconds ---\n",
            "--- TOTAL (excl. startup): 4.475 seconds ---, 751 words\n",
            "42253\n",
            "--- spacy: 0.826 seconds ---\n",
            "--- entities: 0.578 seconds ---\n",
            "--- quotes: 0.001 seconds ---\n",
            "--- attribution: 0.015 seconds ---\n",
            "--- name coref: 0.001 seconds ---\n"
          ]
        },
        {
          "output_type": "stream",
          "name": "stderr",
          "text": [
            "\r 85%|████████▍ | 35841/42306 [05:23<6:35:19,  3.67s/it]"
          ]
        },
        {
          "output_type": "stream",
          "name": "stdout",
          "text": [
            "--- coref: 2.716 seconds ---\n",
            "--- TOTAL (excl. startup): 4.171 seconds ---, 357 words\n",
            "42254\n",
            "--- spacy: 0.853 seconds ---\n",
            "--- entities: 0.258 seconds ---\n",
            "--- quotes: 0.000 seconds ---\n",
            "--- attribution: 0.012 seconds ---\n",
            "--- name coref: 0.001 seconds ---\n",
            "--- coref: 2.741 seconds ---\n",
            "--- TOTAL (excl. startup): 3.881 seconds ---, 160 words\n",
            "42255\n",
            "--- spacy: 0.837 seconds ---\n",
            "--- entities: 0.588 seconds ---\n",
            "--- quotes: 0.001 seconds ---\n",
            "--- attribution: 0.025 seconds ---\n",
            "--- name coref: 0.001 seconds ---\n",
            "--- coref: 2.691 seconds ---\n",
            "--- TOTAL (excl. startup): 4.181 seconds ---, 355 words\n",
            "42256\n",
            "--- spacy: 0.837 seconds ---\n",
            "--- entities: 0.118 seconds ---\n",
            "--- quotes: 0.000 seconds ---\n",
            "--- attribution: 0.000 seconds ---\n",
            "--- name coref: 0.000 seconds ---\n"
          ]
        },
        {
          "output_type": "stream",
          "name": "stderr",
          "text": [
            "\r 85%|████████▍ | 35844/42306 [05:35<6:44:17,  3.75s/it]"
          ]
        },
        {
          "output_type": "stream",
          "name": "stdout",
          "text": [
            "--- coref: 2.658 seconds ---\n",
            "--- TOTAL (excl. startup): 3.630 seconds ---, 74 words\n",
            "42257\n",
            "--- spacy: 0.771 seconds ---\n",
            "--- entities: 0.140 seconds ---\n",
            "--- quotes: 0.000 seconds ---\n",
            "--- attribution: 0.000 seconds ---\n",
            "--- name coref: 0.000 seconds ---\n"
          ]
        },
        {
          "output_type": "stream",
          "name": "stderr",
          "text": [
            "\r 85%|████████▍ | 35845/42306 [05:39<6:44:37,  3.76s/it]"
          ]
        },
        {
          "output_type": "stream",
          "name": "stdout",
          "text": [
            "--- coref: 2.840 seconds ---\n",
            "--- TOTAL (excl. startup): 3.769 seconds ---, 73 words\n",
            "42258\n",
            "--- spacy: 0.828 seconds ---\n",
            "--- entities: 0.199 seconds ---\n",
            "--- quotes: 0.000 seconds ---\n",
            "--- attribution: 0.000 seconds ---\n",
            "--- name coref: 0.000 seconds ---\n",
            "--- coref: 2.647 seconds ---\n",
            "--- TOTAL (excl. startup): 3.690 seconds ---, 129 words\n",
            "42259\n",
            "--- spacy: 0.861 seconds ---\n",
            "--- entities: 0.795 seconds ---\n",
            "--- quotes: 0.001 seconds ---\n",
            "--- attribution: 0.026 seconds ---\n",
            "--- name coref: 0.002 seconds ---\n"
          ]
        },
        {
          "output_type": "stream",
          "name": "stderr",
          "text": [
            "\r 85%|████████▍ | 35847/42306 [05:47<6:54:53,  3.85s/it]"
          ]
        },
        {
          "output_type": "stream",
          "name": "stdout",
          "text": [
            "--- coref: 2.760 seconds ---\n",
            "--- TOTAL (excl. startup): 4.464 seconds ---, 535 words\n",
            "42260\n",
            "--- spacy: 0.899 seconds ---\n",
            "--- entities: 0.995 seconds ---\n",
            "--- quotes: 0.002 seconds ---\n",
            "--- attribution: 0.030 seconds ---\n",
            "--- name coref: 0.002 seconds ---\n"
          ]
        },
        {
          "output_type": "stream",
          "name": "stderr",
          "text": [
            "\r 85%|████████▍ | 35849/42306 [05:52<6:10:19,  3.44s/it]"
          ]
        },
        {
          "output_type": "stream",
          "name": "stdout",
          "text": [
            "--- coref: 2.952 seconds ---\n",
            "--- TOTAL (excl. startup): 4.902 seconds ---, 1058 words\n",
            "42261\n",
            "--- spacy: 0.863 seconds ---\n",
            "--- entities: 0.352 seconds ---\n",
            "--- quotes: 0.000 seconds ---\n",
            "--- attribution: 0.000 seconds ---\n",
            "--- name coref: 0.000 seconds ---\n"
          ]
        },
        {
          "output_type": "stream",
          "name": "stderr",
          "text": [
            "\r 85%|████████▍ | 35850/42306 [05:56<6:18:32,  3.52s/it]"
          ]
        },
        {
          "output_type": "stream",
          "name": "stdout",
          "text": [
            "--- coref: 2.640 seconds ---\n",
            "--- TOTAL (excl. startup): 3.872 seconds ---, 213 words\n",
            "42262\n",
            "--- spacy: 0.877 seconds ---\n",
            "--- entities: 0.886 seconds ---\n",
            "--- quotes: 0.002 seconds ---\n",
            "--- attribution: 0.019 seconds ---\n",
            "--- name coref: 0.002 seconds ---\n"
          ]
        },
        {
          "output_type": "stream",
          "name": "stderr",
          "text": [
            "\r 85%|████████▍ | 35851/42306 [06:00<6:47:40,  3.79s/it]"
          ]
        },
        {
          "output_type": "stream",
          "name": "stdout",
          "text": [
            "--- coref: 3.064 seconds ---\n",
            "--- TOTAL (excl. startup): 4.869 seconds ---, 871 words\n",
            "42263\n",
            "--- spacy: 0.808 seconds ---\n",
            "--- entities: 0.305 seconds ---\n",
            "--- quotes: 0.000 seconds ---\n",
            "--- attribution: 0.000 seconds ---\n",
            "--- name coref: 0.001 seconds ---\n"
          ]
        },
        {
          "output_type": "stream",
          "name": "stderr",
          "text": [
            "\r 85%|████████▍ | 35852/42306 [06:04<6:52:21,  3.83s/it]"
          ]
        },
        {
          "output_type": "stream",
          "name": "stdout",
          "text": [
            "--- coref: 2.846 seconds ---\n",
            "--- TOTAL (excl. startup): 3.978 seconds ---, 184 words\n",
            "42264\n",
            "--- spacy: 0.816 seconds ---\n",
            "--- entities: 0.102 seconds ---\n",
            "--- quotes: 0.000 seconds ---\n",
            "--- attribution: 0.000 seconds ---\n",
            "--- name coref: 0.000 seconds ---\n"
          ]
        },
        {
          "output_type": "stream",
          "name": "stderr",
          "text": [
            "\r 85%|████████▍ | 35853/42306 [06:08<6:46:17,  3.78s/it]"
          ]
        },
        {
          "output_type": "stream",
          "name": "stdout",
          "text": [
            "--- coref: 2.656 seconds ---\n",
            "--- TOTAL (excl. startup): 3.591 seconds ---, 63 words\n",
            "42265\n",
            "--- spacy: 1.105 seconds ---\n",
            "--- entities: 0.381 seconds ---\n",
            "--- quotes: 0.000 seconds ---\n",
            "--- attribution: 0.000 seconds ---\n",
            "--- name coref: 0.000 seconds ---\n"
          ]
        },
        {
          "output_type": "stream",
          "name": "stderr",
          "text": [
            "\r 85%|████████▍ | 35854/42306 [06:12<6:57:10,  3.88s/it]"
          ]
        },
        {
          "output_type": "stream",
          "name": "stdout",
          "text": [
            "--- coref: 2.660 seconds ---\n",
            "--- TOTAL (excl. startup): 4.166 seconds ---, 238 words\n",
            "42266\n",
            "--- spacy: 0.846 seconds ---\n",
            "--- entities: 0.608 seconds ---\n",
            "--- quotes: 0.001 seconds ---\n",
            "--- attribution: 0.022 seconds ---\n",
            "--- name coref: 0.001 seconds ---\n"
          ]
        },
        {
          "output_type": "stream",
          "name": "stderr",
          "text": [
            "\r 85%|████████▍ | 35855/42306 [06:17<7:10:19,  4.00s/it]"
          ]
        },
        {
          "output_type": "stream",
          "name": "stdout",
          "text": [
            "--- coref: 2.811 seconds ---\n",
            "--- TOTAL (excl. startup): 4.328 seconds ---, 363 words\n",
            "42267\n",
            "--- spacy: 0.817 seconds ---\n",
            "--- entities: 0.406 seconds ---\n",
            "--- quotes: 0.001 seconds ---\n",
            "--- attribution: 0.021 seconds ---\n",
            "--- name coref: 0.000 seconds ---\n"
          ]
        },
        {
          "output_type": "stream",
          "name": "stderr",
          "text": [
            "\r 85%|████████▍ | 35856/42306 [06:20<7:07:58,  3.98s/it]"
          ]
        },
        {
          "output_type": "stream",
          "name": "stdout",
          "text": [
            "--- coref: 2.651 seconds ---\n",
            "--- TOTAL (excl. startup): 3.915 seconds ---, 258 words\n",
            "42268\n",
            "--- spacy: 0.817 seconds ---\n",
            "--- entities: 0.273 seconds ---\n",
            "--- quotes: 0.000 seconds ---\n",
            "--- attribution: 0.014 seconds ---\n",
            "--- name coref: 0.001 seconds ---\n"
          ]
        },
        {
          "output_type": "stream",
          "name": "stderr",
          "text": [
            "\r 85%|████████▍ | 35857/42306 [06:24<7:02:25,  3.93s/it]"
          ]
        },
        {
          "output_type": "stream",
          "name": "stdout",
          "text": [
            "--- coref: 2.650 seconds ---\n",
            "--- TOTAL (excl. startup): 3.791 seconds ---, 177 words\n",
            "42269\n",
            "--- spacy: 0.825 seconds ---\n",
            "--- entities: 0.858 seconds ---\n",
            "--- quotes: 0.001 seconds ---\n",
            "--- attribution: 0.000 seconds ---\n",
            "--- name coref: 0.002 seconds ---\n"
          ]
        },
        {
          "output_type": "stream",
          "name": "stderr",
          "text": [
            "\r 85%|████████▍ | 35858/42306 [06:29<7:20:56,  4.10s/it]"
          ]
        },
        {
          "output_type": "stream",
          "name": "stdout",
          "text": [
            "--- coref: 2.812 seconds ---\n",
            "--- TOTAL (excl. startup): 4.519 seconds ---, 508 words\n",
            "42270\n",
            "--- spacy: 0.874 seconds ---\n",
            "--- entities: 0.258 seconds ---\n",
            "--- quotes: 0.000 seconds ---\n",
            "--- attribution: 0.000 seconds ---\n",
            "--- name coref: 0.000 seconds ---\n"
          ]
        },
        {
          "output_type": "stream",
          "name": "stderr",
          "text": [
            "\r 85%|████████▍ | 35860/42306 [06:33<5:35:40,  3.12s/it]"
          ]
        },
        {
          "output_type": "stream",
          "name": "stdout",
          "text": [
            "--- coref: 2.697 seconds ---\n",
            "--- TOTAL (excl. startup): 3.861 seconds ---, 165 words\n",
            "42271\n",
            "--- spacy: 0.782 seconds ---\n",
            "--- entities: 0.116 seconds ---\n",
            "--- quotes: 0.000 seconds ---\n",
            "--- attribution: 0.000 seconds ---\n",
            "--- name coref: 0.000 seconds ---\n"
          ]
        },
        {
          "output_type": "stream",
          "name": "stderr",
          "text": [
            "\r 85%|████████▍ | 35861/42306 [06:36<5:46:45,  3.23s/it]"
          ]
        },
        {
          "output_type": "stream",
          "name": "stdout",
          "text": [
            "--- coref: 2.624 seconds ---\n",
            "--- TOTAL (excl. startup): 3.540 seconds ---, 69 words\n",
            "42272\n",
            "--- spacy: 0.936 seconds ---\n",
            "--- entities: 0.845 seconds ---\n",
            "--- quotes: 0.001 seconds ---\n",
            "--- attribution: 0.014 seconds ---\n",
            "--- name coref: 0.002 seconds ---\n"
          ]
        },
        {
          "output_type": "stream",
          "name": "stderr",
          "text": [
            "\r 85%|████████▍ | 35862/42306 [06:41<6:26:52,  3.60s/it]"
          ]
        },
        {
          "output_type": "stream",
          "name": "stdout",
          "text": [
            "--- coref: 2.828 seconds ---\n",
            "--- TOTAL (excl. startup): 4.665 seconds ---, 775 words\n",
            "42273\n",
            "--- spacy: 0.905 seconds ---\n",
            "--- entities: 0.989 seconds ---\n",
            "--- quotes: 0.002 seconds ---\n",
            "--- attribution: 0.000 seconds ---\n",
            "--- name coref: 0.001 seconds ---\n"
          ]
        },
        {
          "output_type": "stream",
          "name": "stderr",
          "text": [
            "\r 85%|████████▍ | 35863/42306 [06:46<6:59:44,  3.91s/it]"
          ]
        },
        {
          "output_type": "stream",
          "name": "stdout",
          "text": [
            "--- coref: 2.807 seconds ---\n",
            "--- TOTAL (excl. startup): 4.729 seconds ---, 818 words\n",
            "42274\n",
            "--- spacy: 0.831 seconds ---\n",
            "--- entities: 0.165 seconds ---\n",
            "--- quotes: 0.000 seconds ---\n",
            "--- attribution: 0.000 seconds ---\n",
            "--- name coref: 0.001 seconds ---\n"
          ]
        },
        {
          "output_type": "stream",
          "name": "stderr",
          "text": [
            "\r 85%|████████▍ | 35864/42306 [06:49<6:54:49,  3.86s/it]"
          ]
        },
        {
          "output_type": "stream",
          "name": "stdout",
          "text": [
            "--- coref: 2.699 seconds ---\n",
            "--- TOTAL (excl. startup): 3.736 seconds ---, 105 words\n",
            "42275\n",
            "--- spacy: 0.821 seconds ---\n",
            "--- entities: 0.101 seconds ---\n",
            "--- quotes: 0.000 seconds ---\n",
            "--- attribution: 0.000 seconds ---\n",
            "--- name coref: 0.000 seconds ---\n"
          ]
        },
        {
          "output_type": "stream",
          "name": "stderr",
          "text": [
            "\r 85%|████████▍ | 35865/42306 [06:53<6:48:04,  3.80s/it]"
          ]
        },
        {
          "output_type": "stream",
          "name": "stdout",
          "text": [
            "--- coref: 2.695 seconds ---\n",
            "--- TOTAL (excl. startup): 3.635 seconds ---, 62 words\n",
            "42276\n",
            "--- spacy: 0.829 seconds ---\n",
            "--- entities: 0.845 seconds ---\n",
            "--- quotes: 0.001 seconds ---\n",
            "--- attribution: 0.027 seconds ---\n",
            "--- name coref: 0.001 seconds ---\n"
          ]
        },
        {
          "output_type": "stream",
          "name": "stderr",
          "text": [
            "\r 85%|████████▍ | 35866/42306 [06:58<7:10:08,  4.01s/it]"
          ]
        },
        {
          "output_type": "stream",
          "name": "stdout",
          "text": [
            "--- coref: 2.762 seconds ---\n",
            "--- TOTAL (excl. startup): 4.504 seconds ---, 493 words\n",
            "42277\n",
            "--- spacy: 0.816 seconds ---\n",
            "--- entities: 0.070 seconds ---\n",
            "--- quotes: 0.000 seconds ---\n",
            "--- attribution: 0.000 seconds ---\n",
            "--- name coref: 0.000 seconds ---\n"
          ]
        },
        {
          "output_type": "stream",
          "name": "stderr",
          "text": [
            "\r 85%|████████▍ | 35867/42306 [07:01<6:55:57,  3.88s/it]"
          ]
        },
        {
          "output_type": "stream",
          "name": "stdout",
          "text": [
            "--- coref: 2.646 seconds ---\n",
            "--- TOTAL (excl. startup): 3.547 seconds ---, 37 words\n",
            "42278\n",
            "--- spacy: 0.821 seconds ---\n",
            "--- entities: 0.386 seconds ---\n",
            "--- quotes: 0.000 seconds ---\n",
            "--- attribution: 0.000 seconds ---\n",
            "--- name coref: 0.001 seconds ---\n"
          ]
        },
        {
          "output_type": "stream",
          "name": "stderr",
          "text": [
            "\r 85%|████████▍ | 35868/42306 [07:05<6:58:09,  3.90s/it]"
          ]
        },
        {
          "output_type": "stream",
          "name": "stdout",
          "text": [
            "--- coref: 2.711 seconds ---\n",
            "--- TOTAL (excl. startup): 3.937 seconds ---, 248 words\n",
            "42279\n",
            "--- spacy: 0.991 seconds ---\n",
            "--- entities: 1.362 seconds ---\n",
            "--- quotes: 0.002 seconds ---\n",
            "--- attribution: 0.000 seconds ---\n",
            "--- name coref: 0.002 seconds ---\n"
          ]
        },
        {
          "output_type": "stream",
          "name": "stderr",
          "text": [
            "\r 85%|████████▍ | 35869/42306 [07:10<7:41:12,  4.30s/it]"
          ]
        },
        {
          "output_type": "stream",
          "name": "stdout",
          "text": [
            "--- coref: 2.863 seconds ---\n",
            "--- TOTAL (excl. startup): 5.243 seconds ---, 1071 words\n",
            "42280\n",
            "--- spacy: 0.797 seconds ---\n",
            "--- entities: 0.066 seconds ---\n",
            "--- quotes: 0.000 seconds ---\n",
            "--- attribution: 0.000 seconds ---\n",
            "--- name coref: 0.000 seconds ---\n"
          ]
        },
        {
          "output_type": "stream",
          "name": "stderr",
          "text": [
            "\r 85%|████████▍ | 35871/42306 [07:14<5:37:12,  3.14s/it]"
          ]
        },
        {
          "output_type": "stream",
          "name": "stdout",
          "text": [
            "--- coref: 2.669 seconds ---\n",
            "--- TOTAL (excl. startup): 3.548 seconds ---, 20 words\n",
            "42281\n",
            "--- spacy: 0.805 seconds ---\n",
            "--- entities: 0.255 seconds ---\n",
            "--- quotes: 0.000 seconds ---\n",
            "--- attribution: 0.014 seconds ---\n",
            "--- name coref: 0.001 seconds ---\n"
          ]
        },
        {
          "output_type": "stream",
          "name": "stderr",
          "text": [
            "\r 85%|████████▍ | 35872/42306 [07:18<5:53:46,  3.30s/it]"
          ]
        },
        {
          "output_type": "stream",
          "name": "stdout",
          "text": [
            "--- coref: 2.672 seconds ---\n",
            "--- TOTAL (excl. startup): 3.763 seconds ---, 165 words\n",
            "42282\n",
            "--- spacy: 0.940 seconds ---\n",
            "--- entities: 0.283 seconds ---\n",
            "--- quotes: 0.000 seconds ---\n",
            "--- attribution: 0.000 seconds ---\n",
            "--- name coref: 0.000 seconds ---\n"
          ]
        },
        {
          "output_type": "stream",
          "name": "stderr",
          "text": [
            "\r 85%|████████▍ | 35873/42306 [07:22<6:16:14,  3.51s/it]"
          ]
        },
        {
          "output_type": "stream",
          "name": "stdout",
          "text": [
            "--- coref: 2.854 seconds ---\n",
            "--- TOTAL (excl. startup): 4.095 seconds ---, 161 words\n",
            "42283\n",
            "--- spacy: 0.813 seconds ---\n",
            "--- entities: 0.390 seconds ---\n",
            "--- quotes: 0.001 seconds ---\n",
            "--- attribution: 0.000 seconds ---\n",
            "--- name coref: 0.001 seconds ---\n"
          ]
        },
        {
          "output_type": "stream",
          "name": "stderr",
          "text": [
            "\r 85%|████████▍ | 35874/42306 [07:26<6:28:55,  3.63s/it]"
          ]
        },
        {
          "output_type": "stream",
          "name": "stdout",
          "text": [
            "--- coref: 2.712 seconds ---\n",
            "--- TOTAL (excl. startup): 3.936 seconds ---, 249 words\n",
            "42284\n",
            "--- spacy: 0.790 seconds ---\n",
            "--- entities: 0.069 seconds ---\n",
            "--- quotes: 0.000 seconds ---\n",
            "--- attribution: 0.000 seconds ---\n",
            "--- name coref: 0.000 seconds ---\n"
          ]
        },
        {
          "output_type": "stream",
          "name": "stderr",
          "text": [
            "\r 85%|████████▍ | 35875/42306 [07:29<6:26:05,  3.60s/it]"
          ]
        },
        {
          "output_type": "stream",
          "name": "stdout",
          "text": [
            "--- coref: 2.650 seconds ---\n",
            "--- TOTAL (excl. startup): 3.525 seconds ---, 23 words\n",
            "42285\n",
            "--- spacy: 0.803 seconds ---\n",
            "--- entities: 0.186 seconds ---\n",
            "--- quotes: 0.000 seconds ---\n",
            "--- attribution: 0.000 seconds ---\n",
            "--- name coref: 0.000 seconds ---\n"
          ]
        },
        {
          "output_type": "stream",
          "name": "stderr",
          "text": [
            "\r 85%|████████▍ | 35876/42306 [07:33<6:32:12,  3.66s/it]"
          ]
        },
        {
          "output_type": "stream",
          "name": "stdout",
          "text": [
            "--- coref: 2.785 seconds ---\n",
            "--- TOTAL (excl. startup): 3.794 seconds ---, 121 words\n",
            "42286\n",
            "--- spacy: 0.906 seconds ---\n",
            "--- entities: 1.146 seconds ---\n",
            "--- quotes: 0.002 seconds ---\n",
            "--- attribution: 0.026 seconds ---\n",
            "--- name coref: 0.001 seconds ---\n"
          ]
        },
        {
          "output_type": "stream",
          "name": "stderr",
          "text": [
            "\r 85%|████████▍ | 35877/42306 [07:38<7:15:28,  4.06s/it]"
          ]
        },
        {
          "output_type": "stream",
          "name": "stdout",
          "text": [
            "--- coref: 2.943 seconds ---\n",
            "--- TOTAL (excl. startup): 5.046 seconds ---, 1089 words\n",
            "42287\n",
            "--- spacy: 0.831 seconds ---\n",
            "--- entities: 0.230 seconds ---\n",
            "--- quotes: 0.000 seconds ---\n",
            "--- attribution: 0.000 seconds ---\n",
            "--- name coref: 0.001 seconds ---\n"
          ]
        },
        {
          "output_type": "stream",
          "name": "stderr",
          "text": [
            "\r 85%|████████▍ | 35878/42306 [07:42<7:06:58,  3.99s/it]"
          ]
        },
        {
          "output_type": "stream",
          "name": "stdout",
          "text": [
            "--- coref: 2.687 seconds ---\n",
            "--- TOTAL (excl. startup): 3.785 seconds ---, 150 words\n",
            "42288\n",
            "--- spacy: 0.831 seconds ---\n",
            "--- entities: 0.724 seconds ---\n",
            "--- quotes: 0.001 seconds ---\n",
            "--- attribution: 0.032 seconds ---\n",
            "--- name coref: 0.001 seconds ---\n"
          ]
        },
        {
          "output_type": "stream",
          "name": "stderr",
          "text": [
            "\r 85%|████████▍ | 35879/42306 [07:46<7:23:36,  4.14s/it]"
          ]
        },
        {
          "output_type": "stream",
          "name": "stdout",
          "text": [
            "--- coref: 2.896 seconds ---\n",
            "--- TOTAL (excl. startup): 4.504 seconds ---, 588 words\n",
            "42289\n",
            "--- spacy: 0.842 seconds ---\n",
            "--- entities: 0.579 seconds ---\n",
            "--- quotes: 0.001 seconds ---\n",
            "--- attribution: 0.015 seconds ---\n",
            "--- name coref: 0.001 seconds ---\n"
          ]
        },
        {
          "output_type": "stream",
          "name": "stderr",
          "text": [
            "\r 85%|████████▍ | 35880/42306 [07:51<7:24:42,  4.15s/it]"
          ]
        },
        {
          "output_type": "stream",
          "name": "stdout",
          "text": [
            "--- coref: 2.696 seconds ---\n",
            "--- TOTAL (excl. startup): 4.167 seconds ---, 339 words\n",
            "42290\n",
            "--- spacy: 0.821 seconds ---\n",
            "--- entities: 0.125 seconds ---\n",
            "--- quotes: 0.000 seconds ---\n",
            "--- attribution: 0.000 seconds ---\n",
            "--- name coref: 0.000 seconds ---\n"
          ]
        },
        {
          "output_type": "stream",
          "name": "stderr",
          "text": [
            "\r 85%|████████▍ | 35882/42306 [07:54<5:31:05,  3.09s/it]"
          ]
        },
        {
          "output_type": "stream",
          "name": "stdout",
          "text": [
            "--- coref: 2.705 seconds ---\n",
            "--- TOTAL (excl. startup): 3.670 seconds ---, 74 words\n",
            "42291\n",
            "--- spacy: 0.843 seconds ---\n",
            "--- entities: 0.476 seconds ---\n",
            "--- quotes: 0.001 seconds ---\n",
            "--- attribution: 0.014 seconds ---\n",
            "--- name coref: 0.001 seconds ---\n"
          ]
        },
        {
          "output_type": "stream",
          "name": "stderr",
          "text": [
            "\r 85%|████████▍ | 35883/42306 [07:58<6:00:17,  3.37s/it]"
          ]
        },
        {
          "output_type": "stream",
          "name": "stdout",
          "text": [
            "--- coref: 2.816 seconds ---\n",
            "--- TOTAL (excl. startup): 4.189 seconds ---, 297 words\n",
            "42292\n",
            "--- spacy: 0.891 seconds ---\n",
            "--- entities: 0.810 seconds ---\n",
            "--- quotes: 0.001 seconds ---\n",
            "--- attribution: 0.000 seconds ---\n",
            "--- name coref: 0.002 seconds ---\n"
          ]
        },
        {
          "output_type": "stream",
          "name": "stderr",
          "text": [
            "\r 85%|████████▍ | 35884/42306 [08:03<6:32:38,  3.67s/it]"
          ]
        },
        {
          "output_type": "stream",
          "name": "stdout",
          "text": [
            "--- coref: 2.793 seconds ---\n",
            "--- TOTAL (excl. startup): 4.516 seconds ---, 740 words\n",
            "42293\n",
            "--- spacy: 0.820 seconds ---\n",
            "--- entities: 0.214 seconds ---\n",
            "--- quotes: 0.000 seconds ---\n",
            "--- attribution: 0.000 seconds ---\n",
            "--- name coref: 0.000 seconds ---\n"
          ]
        },
        {
          "output_type": "stream",
          "name": "stderr",
          "text": [
            "\r 85%|████████▍ | 35885/42306 [08:07<6:35:17,  3.69s/it]"
          ]
        },
        {
          "output_type": "stream",
          "name": "stdout",
          "text": [
            "--- coref: 2.684 seconds ---\n",
            "--- TOTAL (excl. startup): 3.751 seconds ---, 140 words\n",
            "42294\n",
            "--- spacy: 0.861 seconds ---\n",
            "--- entities: 0.484 seconds ---\n",
            "--- quotes: 0.001 seconds ---\n",
            "--- attribution: 0.000 seconds ---\n",
            "--- name coref: 0.000 seconds ---\n"
          ]
        },
        {
          "output_type": "stream",
          "name": "stderr",
          "text": [
            "\r 85%|████████▍ | 35886/42306 [08:11<6:50:06,  3.83s/it]"
          ]
        },
        {
          "output_type": "stream",
          "name": "stdout",
          "text": [
            "--- coref: 2.816 seconds ---\n",
            "--- TOTAL (excl. startup): 4.181 seconds ---, 301 words\n",
            "42295\n",
            "--- spacy: 0.871 seconds ---\n",
            "--- entities: 0.686 seconds ---\n",
            "--- quotes: 0.001 seconds ---\n",
            "--- attribution: 0.014 seconds ---\n",
            "--- name coref: 0.001 seconds ---\n"
          ]
        },
        {
          "output_type": "stream",
          "name": "stderr",
          "text": [
            "\r 85%|████████▍ | 35887/42306 [08:16<7:17:48,  4.09s/it]"
          ]
        },
        {
          "output_type": "stream",
          "name": "stdout",
          "text": [
            "--- coref: 3.120 seconds ---\n",
            "--- TOTAL (excl. startup): 4.732 seconds ---, 632 words\n",
            "42296\n",
            "--- spacy: 0.984 seconds ---\n",
            "--- entities: 1.701 seconds ---\n",
            "--- quotes: 0.004 seconds ---\n",
            "--- attribution: 0.074 seconds ---\n",
            "--- name coref: 0.003 seconds ---\n"
          ]
        },
        {
          "output_type": "stream",
          "name": "stderr",
          "text": [
            "\r 85%|████████▍ | 35888/42306 [08:22<8:12:51,  4.61s/it]"
          ]
        },
        {
          "output_type": "stream",
          "name": "stdout",
          "text": [
            "--- coref: 3.070 seconds ---\n",
            "--- TOTAL (excl. startup): 5.861 seconds ---, 2173 words\n",
            "42297\n",
            "--- spacy: 0.895 seconds ---\n",
            "--- entities: 1.191 seconds ---\n",
            "--- quotes: 0.002 seconds ---\n",
            "--- attribution: 0.014 seconds ---\n",
            "--- name coref: 0.002 seconds ---\n"
          ]
        },
        {
          "output_type": "stream",
          "name": "stderr",
          "text": [
            "\r 85%|████████▍ | 35889/42306 [08:27<8:27:14,  4.74s/it]"
          ]
        },
        {
          "output_type": "stream",
          "name": "stdout",
          "text": [
            "--- coref: 2.906 seconds ---\n",
            "--- TOTAL (excl. startup): 5.059 seconds ---, 1103 words\n",
            "42298\n",
            "--- spacy: 0.890 seconds ---\n",
            "--- entities: 1.144 seconds ---\n",
            "--- quotes: 0.002 seconds ---\n",
            "--- attribution: 0.035 seconds ---\n",
            "--- name coref: 0.001 seconds ---\n"
          ]
        },
        {
          "output_type": "stream",
          "name": "stderr",
          "text": [
            "\r 85%|████████▍ | 35890/42306 [08:32<8:32:58,  4.80s/it]"
          ]
        },
        {
          "output_type": "stream",
          "name": "stdout",
          "text": [
            "--- coref: 2.824 seconds ---\n",
            "--- TOTAL (excl. startup): 4.917 seconds ---, 995 words\n",
            "42299\n",
            "--- spacy: 0.904 seconds ---\n",
            "--- entities: 0.435 seconds ---\n",
            "--- quotes: 0.001 seconds ---\n",
            "--- attribution: 0.000 seconds ---\n",
            "--- name coref: 0.000 seconds ---\n"
          ]
        },
        {
          "output_type": "stream",
          "name": "stderr",
          "text": [
            "\r 85%|████████▍ | 35891/42306 [08:36<8:12:22,  4.61s/it]"
          ]
        },
        {
          "output_type": "stream",
          "name": "stdout",
          "text": [
            "--- coref: 2.758 seconds ---\n",
            "--- TOTAL (excl. startup): 4.139 seconds ---, 277 words\n",
            "42300\n",
            "--- spacy: 0.834 seconds ---\n",
            "--- entities: 0.253 seconds ---\n",
            "--- quotes: 0.000 seconds ---\n",
            "--- attribution: 0.039 seconds ---\n",
            "--- name coref: 0.000 seconds ---\n"
          ]
        },
        {
          "output_type": "stream",
          "name": "stderr",
          "text": [
            "\r 85%|████████▍ | 35894/42306 [08:40<4:53:25,  2.75s/it]"
          ]
        },
        {
          "output_type": "stream",
          "name": "stdout",
          "text": [
            "--- coref: 2.690 seconds ---\n",
            "--- TOTAL (excl. startup): 3.833 seconds ---, 159 words\n",
            "42301\n",
            "--- spacy: 0.792 seconds ---\n",
            "--- entities: 0.079 seconds ---\n",
            "--- quotes: 0.000 seconds ---\n",
            "--- attribution: 0.000 seconds ---\n",
            "--- name coref: 0.000 seconds ---\n"
          ]
        },
        {
          "output_type": "stream",
          "name": "stderr",
          "text": [
            "\r 85%|████████▍ | 35895/42306 [08:43<5:13:16,  2.93s/it]"
          ]
        },
        {
          "output_type": "stream",
          "name": "stdout",
          "text": [
            "--- coref: 2.717 seconds ---\n",
            "--- TOTAL (excl. startup): 3.620 seconds ---, 44 words\n",
            "42302\n",
            "--- spacy: 0.854 seconds ---\n",
            "--- entities: 0.812 seconds ---\n",
            "--- quotes: 0.001 seconds ---\n",
            "--- attribution: 0.026 seconds ---\n",
            "--- name coref: 0.001 seconds ---\n"
          ]
        },
        {
          "output_type": "stream",
          "name": "stderr",
          "text": [
            "\r 85%|████████▍ | 35896/42306 [08:48<5:53:08,  3.31s/it]"
          ]
        },
        {
          "output_type": "stream",
          "name": "stdout",
          "text": [
            "--- coref: 2.826 seconds ---\n",
            "--- TOTAL (excl. startup): 4.538 seconds ---, 606 words\n",
            "42303\n",
            "--- spacy: 0.837 seconds ---\n",
            "--- entities: 0.275 seconds ---\n",
            "--- quotes: 0.000 seconds ---\n",
            "--- attribution: 0.013 seconds ---\n",
            "--- name coref: 0.000 seconds ---\n"
          ]
        },
        {
          "output_type": "stream",
          "name": "stderr",
          "text": [
            "\r 85%|████████▍ | 35897/42306 [08:52<6:08:59,  3.45s/it]"
          ]
        },
        {
          "output_type": "stream",
          "name": "stdout",
          "text": [
            "--- coref: 2.734 seconds ---\n",
            "--- TOTAL (excl. startup): 3.895 seconds ---, 179 words\n",
            "42304\n",
            "--- spacy: 0.825 seconds ---\n",
            "--- entities: 0.412 seconds ---\n",
            "--- quotes: 0.000 seconds ---\n",
            "--- attribution: 0.000 seconds ---\n",
            "--- name coref: 0.000 seconds ---\n"
          ]
        },
        {
          "output_type": "stream",
          "name": "stderr",
          "text": [
            "\r 85%|████████▍ | 35898/42306 [08:56<6:22:44,  3.58s/it]"
          ]
        },
        {
          "output_type": "stream",
          "name": "stdout",
          "text": [
            "--- coref: 2.683 seconds ---\n",
            "--- TOTAL (excl. startup): 3.937 seconds ---, 256 words\n",
            "42305\n",
            "--- spacy: 2.550 seconds ---\n",
            "--- entities: 0.799 seconds ---\n",
            "--- quotes: 0.001 seconds ---\n",
            "--- attribution: 0.020 seconds ---\n",
            "--- name coref: 0.002 seconds ---\n"
          ]
        },
        {
          "output_type": "stream",
          "name": "stderr",
          "text": [
            " 86%|████████▋ | 36505/42306 [09:02<01:46, 54.38it/s]  "
          ]
        },
        {
          "output_type": "stream",
          "name": "stdout",
          "text": [
            "--- coref: 2.857 seconds ---\n",
            "--- TOTAL (excl. startup): 6.250 seconds ---, 650 words\n"
          ]
        },
        {
          "output_type": "stream",
          "name": "stderr",
          "text": [
            "100%|██████████| 42306/42306 [09:03<00:00, 77.86it/s]  \n"
          ]
        }
      ],
      "source": [
        "for input_file in tqdm(input_files):\n",
        "  output_directory = processed_dir / input_file.stem\n",
        "  #print(output_directory)\n",
        "  if output_directory.exists():\n",
        "    pass#print(input_file.stem)\n",
        "\n",
        "  else:\n",
        "    print(input_file.stem)\n",
        "    output_directory.mkdir(parents=True, exist_ok=True)\n",
        "    booknlp.process(input_file, output_directory, input_file.stem)"
      ]
    }
  ],
  "metadata": {
    "accelerator": "GPU",
    "colab": {
      "gpuType": "A100",
      "machine_shape": "hm",
      "provenance": []
    },
    "kernelspec": {
      "display_name": "Python 3",
      "name": "python3"
    },
    "language_info": {
      "name": "python"
    },
    "widgets": {
      "application/vnd.jupyter.widget-state+json": {
        "b827116bfd244158bb21cf2353af5aaf": {
          "model_module": "@jupyter-widgets/controls",
          "model_name": "HBoxModel",
          "model_module_version": "1.5.0",
          "state": {
            "_dom_classes": [],
            "_model_module": "@jupyter-widgets/controls",
            "_model_module_version": "1.5.0",
            "_model_name": "HBoxModel",
            "_view_count": null,
            "_view_module": "@jupyter-widgets/controls",
            "_view_module_version": "1.5.0",
            "_view_name": "HBoxView",
            "box_style": "",
            "children": [
              "IPY_MODEL_c356226e39274ee99168e831aa09469d",
              "IPY_MODEL_8885d1aca67b47e9b4ba38747fcf6623",
              "IPY_MODEL_83f210da93dc4615b33df00a6c61cf69"
            ],
            "layout": "IPY_MODEL_1a754f9a56ae4ad8afded3d55c82ad21"
          }
        },
        "c356226e39274ee99168e831aa09469d": {
          "model_module": "@jupyter-widgets/controls",
          "model_name": "HTMLModel",
          "model_module_version": "1.5.0",
          "state": {
            "_dom_classes": [],
            "_model_module": "@jupyter-widgets/controls",
            "_model_module_version": "1.5.0",
            "_model_name": "HTMLModel",
            "_view_count": null,
            "_view_module": "@jupyter-widgets/controls",
            "_view_module_version": "1.5.0",
            "_view_name": "HTMLView",
            "description": "",
            "description_tooltip": null,
            "layout": "IPY_MODEL_b271728bc2fe48239a231fc50a47dad5",
            "placeholder": "​",
            "style": "IPY_MODEL_bc10d88d864c45eab24339edc80e8ee3",
            "value": "vocab.txt: 100%"
          }
        },
        "8885d1aca67b47e9b4ba38747fcf6623": {
          "model_module": "@jupyter-widgets/controls",
          "model_name": "FloatProgressModel",
          "model_module_version": "1.5.0",
          "state": {
            "_dom_classes": [],
            "_model_module": "@jupyter-widgets/controls",
            "_model_module_version": "1.5.0",
            "_model_name": "FloatProgressModel",
            "_view_count": null,
            "_view_module": "@jupyter-widgets/controls",
            "_view_module_version": "1.5.0",
            "_view_name": "ProgressView",
            "bar_style": "success",
            "description": "",
            "description_tooltip": null,
            "layout": "IPY_MODEL_d6087d5aa45242649da16895c4de0175",
            "max": 231508,
            "min": 0,
            "orientation": "horizontal",
            "style": "IPY_MODEL_6b0b9e60b3d14a7caf4effd497fd7133",
            "value": 231508
          }
        },
        "83f210da93dc4615b33df00a6c61cf69": {
          "model_module": "@jupyter-widgets/controls",
          "model_name": "HTMLModel",
          "model_module_version": "1.5.0",
          "state": {
            "_dom_classes": [],
            "_model_module": "@jupyter-widgets/controls",
            "_model_module_version": "1.5.0",
            "_model_name": "HTMLModel",
            "_view_count": null,
            "_view_module": "@jupyter-widgets/controls",
            "_view_module_version": "1.5.0",
            "_view_name": "HTMLView",
            "description": "",
            "description_tooltip": null,
            "layout": "IPY_MODEL_5bf92616ab1e4e979738e66a9a598eec",
            "placeholder": "​",
            "style": "IPY_MODEL_781124ea248548a2a042b6e999d5b402",
            "value": " 232k/232k [00:00&lt;00:00, 5.25MB/s]"
          }
        },
        "1a754f9a56ae4ad8afded3d55c82ad21": {
          "model_module": "@jupyter-widgets/base",
          "model_name": "LayoutModel",
          "model_module_version": "1.2.0",
          "state": {
            "_model_module": "@jupyter-widgets/base",
            "_model_module_version": "1.2.0",
            "_model_name": "LayoutModel",
            "_view_count": null,
            "_view_module": "@jupyter-widgets/base",
            "_view_module_version": "1.2.0",
            "_view_name": "LayoutView",
            "align_content": null,
            "align_items": null,
            "align_self": null,
            "border": null,
            "bottom": null,
            "display": null,
            "flex": null,
            "flex_flow": null,
            "grid_area": null,
            "grid_auto_columns": null,
            "grid_auto_flow": null,
            "grid_auto_rows": null,
            "grid_column": null,
            "grid_gap": null,
            "grid_row": null,
            "grid_template_areas": null,
            "grid_template_columns": null,
            "grid_template_rows": null,
            "height": null,
            "justify_content": null,
            "justify_items": null,
            "left": null,
            "margin": null,
            "max_height": null,
            "max_width": null,
            "min_height": null,
            "min_width": null,
            "object_fit": null,
            "object_position": null,
            "order": null,
            "overflow": null,
            "overflow_x": null,
            "overflow_y": null,
            "padding": null,
            "right": null,
            "top": null,
            "visibility": null,
            "width": null
          }
        },
        "b271728bc2fe48239a231fc50a47dad5": {
          "model_module": "@jupyter-widgets/base",
          "model_name": "LayoutModel",
          "model_module_version": "1.2.0",
          "state": {
            "_model_module": "@jupyter-widgets/base",
            "_model_module_version": "1.2.0",
            "_model_name": "LayoutModel",
            "_view_count": null,
            "_view_module": "@jupyter-widgets/base",
            "_view_module_version": "1.2.0",
            "_view_name": "LayoutView",
            "align_content": null,
            "align_items": null,
            "align_self": null,
            "border": null,
            "bottom": null,
            "display": null,
            "flex": null,
            "flex_flow": null,
            "grid_area": null,
            "grid_auto_columns": null,
            "grid_auto_flow": null,
            "grid_auto_rows": null,
            "grid_column": null,
            "grid_gap": null,
            "grid_row": null,
            "grid_template_areas": null,
            "grid_template_columns": null,
            "grid_template_rows": null,
            "height": null,
            "justify_content": null,
            "justify_items": null,
            "left": null,
            "margin": null,
            "max_height": null,
            "max_width": null,
            "min_height": null,
            "min_width": null,
            "object_fit": null,
            "object_position": null,
            "order": null,
            "overflow": null,
            "overflow_x": null,
            "overflow_y": null,
            "padding": null,
            "right": null,
            "top": null,
            "visibility": null,
            "width": null
          }
        },
        "bc10d88d864c45eab24339edc80e8ee3": {
          "model_module": "@jupyter-widgets/controls",
          "model_name": "DescriptionStyleModel",
          "model_module_version": "1.5.0",
          "state": {
            "_model_module": "@jupyter-widgets/controls",
            "_model_module_version": "1.5.0",
            "_model_name": "DescriptionStyleModel",
            "_view_count": null,
            "_view_module": "@jupyter-widgets/base",
            "_view_module_version": "1.2.0",
            "_view_name": "StyleView",
            "description_width": ""
          }
        },
        "d6087d5aa45242649da16895c4de0175": {
          "model_module": "@jupyter-widgets/base",
          "model_name": "LayoutModel",
          "model_module_version": "1.2.0",
          "state": {
            "_model_module": "@jupyter-widgets/base",
            "_model_module_version": "1.2.0",
            "_model_name": "LayoutModel",
            "_view_count": null,
            "_view_module": "@jupyter-widgets/base",
            "_view_module_version": "1.2.0",
            "_view_name": "LayoutView",
            "align_content": null,
            "align_items": null,
            "align_self": null,
            "border": null,
            "bottom": null,
            "display": null,
            "flex": null,
            "flex_flow": null,
            "grid_area": null,
            "grid_auto_columns": null,
            "grid_auto_flow": null,
            "grid_auto_rows": null,
            "grid_column": null,
            "grid_gap": null,
            "grid_row": null,
            "grid_template_areas": null,
            "grid_template_columns": null,
            "grid_template_rows": null,
            "height": null,
            "justify_content": null,
            "justify_items": null,
            "left": null,
            "margin": null,
            "max_height": null,
            "max_width": null,
            "min_height": null,
            "min_width": null,
            "object_fit": null,
            "object_position": null,
            "order": null,
            "overflow": null,
            "overflow_x": null,
            "overflow_y": null,
            "padding": null,
            "right": null,
            "top": null,
            "visibility": null,
            "width": null
          }
        },
        "6b0b9e60b3d14a7caf4effd497fd7133": {
          "model_module": "@jupyter-widgets/controls",
          "model_name": "ProgressStyleModel",
          "model_module_version": "1.5.0",
          "state": {
            "_model_module": "@jupyter-widgets/controls",
            "_model_module_version": "1.5.0",
            "_model_name": "ProgressStyleModel",
            "_view_count": null,
            "_view_module": "@jupyter-widgets/base",
            "_view_module_version": "1.2.0",
            "_view_name": "StyleView",
            "bar_color": null,
            "description_width": ""
          }
        },
        "5bf92616ab1e4e979738e66a9a598eec": {
          "model_module": "@jupyter-widgets/base",
          "model_name": "LayoutModel",
          "model_module_version": "1.2.0",
          "state": {
            "_model_module": "@jupyter-widgets/base",
            "_model_module_version": "1.2.0",
            "_model_name": "LayoutModel",
            "_view_count": null,
            "_view_module": "@jupyter-widgets/base",
            "_view_module_version": "1.2.0",
            "_view_name": "LayoutView",
            "align_content": null,
            "align_items": null,
            "align_self": null,
            "border": null,
            "bottom": null,
            "display": null,
            "flex": null,
            "flex_flow": null,
            "grid_area": null,
            "grid_auto_columns": null,
            "grid_auto_flow": null,
            "grid_auto_rows": null,
            "grid_column": null,
            "grid_gap": null,
            "grid_row": null,
            "grid_template_areas": null,
            "grid_template_columns": null,
            "grid_template_rows": null,
            "height": null,
            "justify_content": null,
            "justify_items": null,
            "left": null,
            "margin": null,
            "max_height": null,
            "max_width": null,
            "min_height": null,
            "min_width": null,
            "object_fit": null,
            "object_position": null,
            "order": null,
            "overflow": null,
            "overflow_x": null,
            "overflow_y": null,
            "padding": null,
            "right": null,
            "top": null,
            "visibility": null,
            "width": null
          }
        },
        "781124ea248548a2a042b6e999d5b402": {
          "model_module": "@jupyter-widgets/controls",
          "model_name": "DescriptionStyleModel",
          "model_module_version": "1.5.0",
          "state": {
            "_model_module": "@jupyter-widgets/controls",
            "_model_module_version": "1.5.0",
            "_model_name": "DescriptionStyleModel",
            "_view_count": null,
            "_view_module": "@jupyter-widgets/base",
            "_view_module_version": "1.2.0",
            "_view_name": "StyleView",
            "description_width": ""
          }
        },
        "e5f6744d9e214f9c8793ab2183642ea0": {
          "model_module": "@jupyter-widgets/controls",
          "model_name": "HBoxModel",
          "model_module_version": "1.5.0",
          "state": {
            "_dom_classes": [],
            "_model_module": "@jupyter-widgets/controls",
            "_model_module_version": "1.5.0",
            "_model_name": "HBoxModel",
            "_view_count": null,
            "_view_module": "@jupyter-widgets/controls",
            "_view_module_version": "1.5.0",
            "_view_name": "HBoxView",
            "box_style": "",
            "children": [
              "IPY_MODEL_c274b45910374b48bd438a132d577bb8",
              "IPY_MODEL_9719c1878f2a4e67b9082863c3041fd9",
              "IPY_MODEL_0f7b3cd98b504c5285643d49f799fa1d"
            ],
            "layout": "IPY_MODEL_5b9dc7d7e16b4990a0ba67a62599f835"
          }
        },
        "c274b45910374b48bd438a132d577bb8": {
          "model_module": "@jupyter-widgets/controls",
          "model_name": "HTMLModel",
          "model_module_version": "1.5.0",
          "state": {
            "_dom_classes": [],
            "_model_module": "@jupyter-widgets/controls",
            "_model_module_version": "1.5.0",
            "_model_name": "HTMLModel",
            "_view_count": null,
            "_view_module": "@jupyter-widgets/controls",
            "_view_module_version": "1.5.0",
            "_view_name": "HTMLView",
            "description": "",
            "description_tooltip": null,
            "layout": "IPY_MODEL_e003917249674cdb86b0d7798c1ae9a7",
            "placeholder": "​",
            "style": "IPY_MODEL_6be4aa19ebb442069284afd3f4b8e9d8",
            "value": "config.json: 100%"
          }
        },
        "9719c1878f2a4e67b9082863c3041fd9": {
          "model_module": "@jupyter-widgets/controls",
          "model_name": "FloatProgressModel",
          "model_module_version": "1.5.0",
          "state": {
            "_dom_classes": [],
            "_model_module": "@jupyter-widgets/controls",
            "_model_module_version": "1.5.0",
            "_model_name": "FloatProgressModel",
            "_view_count": null,
            "_view_module": "@jupyter-widgets/controls",
            "_view_module_version": "1.5.0",
            "_view_name": "ProgressView",
            "bar_style": "success",
            "description": "",
            "description_tooltip": null,
            "layout": "IPY_MODEL_d6b4e4ce4b704312b2925a42bba7d4f9",
            "max": 384,
            "min": 0,
            "orientation": "horizontal",
            "style": "IPY_MODEL_e11e03a1e2e74b03bb31a37e306d832c",
            "value": 384
          }
        },
        "0f7b3cd98b504c5285643d49f799fa1d": {
          "model_module": "@jupyter-widgets/controls",
          "model_name": "HTMLModel",
          "model_module_version": "1.5.0",
          "state": {
            "_dom_classes": [],
            "_model_module": "@jupyter-widgets/controls",
            "_model_module_version": "1.5.0",
            "_model_name": "HTMLModel",
            "_view_count": null,
            "_view_module": "@jupyter-widgets/controls",
            "_view_module_version": "1.5.0",
            "_view_name": "HTMLView",
            "description": "",
            "description_tooltip": null,
            "layout": "IPY_MODEL_2948dcd110984d93920cb730507a0605",
            "placeholder": "​",
            "style": "IPY_MODEL_1454c5ed469d4347a50e2c58dd370b73",
            "value": " 384/384 [00:00&lt;00:00, 32.1kB/s]"
          }
        },
        "5b9dc7d7e16b4990a0ba67a62599f835": {
          "model_module": "@jupyter-widgets/base",
          "model_name": "LayoutModel",
          "model_module_version": "1.2.0",
          "state": {
            "_model_module": "@jupyter-widgets/base",
            "_model_module_version": "1.2.0",
            "_model_name": "LayoutModel",
            "_view_count": null,
            "_view_module": "@jupyter-widgets/base",
            "_view_module_version": "1.2.0",
            "_view_name": "LayoutView",
            "align_content": null,
            "align_items": null,
            "align_self": null,
            "border": null,
            "bottom": null,
            "display": null,
            "flex": null,
            "flex_flow": null,
            "grid_area": null,
            "grid_auto_columns": null,
            "grid_auto_flow": null,
            "grid_auto_rows": null,
            "grid_column": null,
            "grid_gap": null,
            "grid_row": null,
            "grid_template_areas": null,
            "grid_template_columns": null,
            "grid_template_rows": null,
            "height": null,
            "justify_content": null,
            "justify_items": null,
            "left": null,
            "margin": null,
            "max_height": null,
            "max_width": null,
            "min_height": null,
            "min_width": null,
            "object_fit": null,
            "object_position": null,
            "order": null,
            "overflow": null,
            "overflow_x": null,
            "overflow_y": null,
            "padding": null,
            "right": null,
            "top": null,
            "visibility": null,
            "width": null
          }
        },
        "e003917249674cdb86b0d7798c1ae9a7": {
          "model_module": "@jupyter-widgets/base",
          "model_name": "LayoutModel",
          "model_module_version": "1.2.0",
          "state": {
            "_model_module": "@jupyter-widgets/base",
            "_model_module_version": "1.2.0",
            "_model_name": "LayoutModel",
            "_view_count": null,
            "_view_module": "@jupyter-widgets/base",
            "_view_module_version": "1.2.0",
            "_view_name": "LayoutView",
            "align_content": null,
            "align_items": null,
            "align_self": null,
            "border": null,
            "bottom": null,
            "display": null,
            "flex": null,
            "flex_flow": null,
            "grid_area": null,
            "grid_auto_columns": null,
            "grid_auto_flow": null,
            "grid_auto_rows": null,
            "grid_column": null,
            "grid_gap": null,
            "grid_row": null,
            "grid_template_areas": null,
            "grid_template_columns": null,
            "grid_template_rows": null,
            "height": null,
            "justify_content": null,
            "justify_items": null,
            "left": null,
            "margin": null,
            "max_height": null,
            "max_width": null,
            "min_height": null,
            "min_width": null,
            "object_fit": null,
            "object_position": null,
            "order": null,
            "overflow": null,
            "overflow_x": null,
            "overflow_y": null,
            "padding": null,
            "right": null,
            "top": null,
            "visibility": null,
            "width": null
          }
        },
        "6be4aa19ebb442069284afd3f4b8e9d8": {
          "model_module": "@jupyter-widgets/controls",
          "model_name": "DescriptionStyleModel",
          "model_module_version": "1.5.0",
          "state": {
            "_model_module": "@jupyter-widgets/controls",
            "_model_module_version": "1.5.0",
            "_model_name": "DescriptionStyleModel",
            "_view_count": null,
            "_view_module": "@jupyter-widgets/base",
            "_view_module_version": "1.2.0",
            "_view_name": "StyleView",
            "description_width": ""
          }
        },
        "d6b4e4ce4b704312b2925a42bba7d4f9": {
          "model_module": "@jupyter-widgets/base",
          "model_name": "LayoutModel",
          "model_module_version": "1.2.0",
          "state": {
            "_model_module": "@jupyter-widgets/base",
            "_model_module_version": "1.2.0",
            "_model_name": "LayoutModel",
            "_view_count": null,
            "_view_module": "@jupyter-widgets/base",
            "_view_module_version": "1.2.0",
            "_view_name": "LayoutView",
            "align_content": null,
            "align_items": null,
            "align_self": null,
            "border": null,
            "bottom": null,
            "display": null,
            "flex": null,
            "flex_flow": null,
            "grid_area": null,
            "grid_auto_columns": null,
            "grid_auto_flow": null,
            "grid_auto_rows": null,
            "grid_column": null,
            "grid_gap": null,
            "grid_row": null,
            "grid_template_areas": null,
            "grid_template_columns": null,
            "grid_template_rows": null,
            "height": null,
            "justify_content": null,
            "justify_items": null,
            "left": null,
            "margin": null,
            "max_height": null,
            "max_width": null,
            "min_height": null,
            "min_width": null,
            "object_fit": null,
            "object_position": null,
            "order": null,
            "overflow": null,
            "overflow_x": null,
            "overflow_y": null,
            "padding": null,
            "right": null,
            "top": null,
            "visibility": null,
            "width": null
          }
        },
        "e11e03a1e2e74b03bb31a37e306d832c": {
          "model_module": "@jupyter-widgets/controls",
          "model_name": "ProgressStyleModel",
          "model_module_version": "1.5.0",
          "state": {
            "_model_module": "@jupyter-widgets/controls",
            "_model_module_version": "1.5.0",
            "_model_name": "ProgressStyleModel",
            "_view_count": null,
            "_view_module": "@jupyter-widgets/base",
            "_view_module_version": "1.2.0",
            "_view_name": "StyleView",
            "bar_color": null,
            "description_width": ""
          }
        },
        "2948dcd110984d93920cb730507a0605": {
          "model_module": "@jupyter-widgets/base",
          "model_name": "LayoutModel",
          "model_module_version": "1.2.0",
          "state": {
            "_model_module": "@jupyter-widgets/base",
            "_model_module_version": "1.2.0",
            "_model_name": "LayoutModel",
            "_view_count": null,
            "_view_module": "@jupyter-widgets/base",
            "_view_module_version": "1.2.0",
            "_view_name": "LayoutView",
            "align_content": null,
            "align_items": null,
            "align_self": null,
            "border": null,
            "bottom": null,
            "display": null,
            "flex": null,
            "flex_flow": null,
            "grid_area": null,
            "grid_auto_columns": null,
            "grid_auto_flow": null,
            "grid_auto_rows": null,
            "grid_column": null,
            "grid_gap": null,
            "grid_row": null,
            "grid_template_areas": null,
            "grid_template_columns": null,
            "grid_template_rows": null,
            "height": null,
            "justify_content": null,
            "justify_items": null,
            "left": null,
            "margin": null,
            "max_height": null,
            "max_width": null,
            "min_height": null,
            "min_width": null,
            "object_fit": null,
            "object_position": null,
            "order": null,
            "overflow": null,
            "overflow_x": null,
            "overflow_y": null,
            "padding": null,
            "right": null,
            "top": null,
            "visibility": null,
            "width": null
          }
        },
        "1454c5ed469d4347a50e2c58dd370b73": {
          "model_module": "@jupyter-widgets/controls",
          "model_name": "DescriptionStyleModel",
          "model_module_version": "1.5.0",
          "state": {
            "_model_module": "@jupyter-widgets/controls",
            "_model_module_version": "1.5.0",
            "_model_name": "DescriptionStyleModel",
            "_view_count": null,
            "_view_module": "@jupyter-widgets/base",
            "_view_module_version": "1.2.0",
            "_view_name": "StyleView",
            "description_width": ""
          }
        },
        "dd5447cbf19a4a57b36f7f4aa7f72d2e": {
          "model_module": "@jupyter-widgets/controls",
          "model_name": "HBoxModel",
          "model_module_version": "1.5.0",
          "state": {
            "_dom_classes": [],
            "_model_module": "@jupyter-widgets/controls",
            "_model_module_version": "1.5.0",
            "_model_name": "HBoxModel",
            "_view_count": null,
            "_view_module": "@jupyter-widgets/controls",
            "_view_module_version": "1.5.0",
            "_view_name": "HBoxView",
            "box_style": "",
            "children": [
              "IPY_MODEL_ae5514741acb48a09f26f5ac282e9cae",
              "IPY_MODEL_e30ff8b4eb9d4003ba527ac09d53d108",
              "IPY_MODEL_00ec55cbfc524f59a265392c498dad45"
            ],
            "layout": "IPY_MODEL_adddb11bada54ec7b36be2cabae06bae"
          }
        },
        "ae5514741acb48a09f26f5ac282e9cae": {
          "model_module": "@jupyter-widgets/controls",
          "model_name": "HTMLModel",
          "model_module_version": "1.5.0",
          "state": {
            "_dom_classes": [],
            "_model_module": "@jupyter-widgets/controls",
            "_model_module_version": "1.5.0",
            "_model_name": "HTMLModel",
            "_view_count": null,
            "_view_module": "@jupyter-widgets/controls",
            "_view_module_version": "1.5.0",
            "_view_name": "HTMLView",
            "description": "",
            "description_tooltip": null,
            "layout": "IPY_MODEL_828e32300b28481080a4e576db971d80",
            "placeholder": "​",
            "style": "IPY_MODEL_73e3aacf3a4d4348a78dad68ba800558",
            "value": "pytorch_model.bin: 100%"
          }
        },
        "e30ff8b4eb9d4003ba527ac09d53d108": {
          "model_module": "@jupyter-widgets/controls",
          "model_name": "FloatProgressModel",
          "model_module_version": "1.5.0",
          "state": {
            "_dom_classes": [],
            "_model_module": "@jupyter-widgets/controls",
            "_model_module_version": "1.5.0",
            "_model_name": "FloatProgressModel",
            "_view_count": null,
            "_view_module": "@jupyter-widgets/controls",
            "_view_module_version": "1.5.0",
            "_view_name": "ProgressView",
            "bar_style": "success",
            "description": "",
            "description_tooltip": null,
            "layout": "IPY_MODEL_1e923ee89a154d39b0a7b4d81c03d8d2",
            "max": 270341459,
            "min": 0,
            "orientation": "horizontal",
            "style": "IPY_MODEL_6de70eebe41b4ecfb8d36297f8d73ba3",
            "value": 270341459
          }
        },
        "00ec55cbfc524f59a265392c498dad45": {
          "model_module": "@jupyter-widgets/controls",
          "model_name": "HTMLModel",
          "model_module_version": "1.5.0",
          "state": {
            "_dom_classes": [],
            "_model_module": "@jupyter-widgets/controls",
            "_model_module_version": "1.5.0",
            "_model_name": "HTMLModel",
            "_view_count": null,
            "_view_module": "@jupyter-widgets/controls",
            "_view_module_version": "1.5.0",
            "_view_name": "HTMLView",
            "description": "",
            "description_tooltip": null,
            "layout": "IPY_MODEL_011c157b76a8491c80b6b41f147eecdf",
            "placeholder": "​",
            "style": "IPY_MODEL_2386d52d7f594da2a6a018d4a98e83e9",
            "value": " 270M/270M [00:01&lt;00:00, 247MB/s]"
          }
        },
        "adddb11bada54ec7b36be2cabae06bae": {
          "model_module": "@jupyter-widgets/base",
          "model_name": "LayoutModel",
          "model_module_version": "1.2.0",
          "state": {
            "_model_module": "@jupyter-widgets/base",
            "_model_module_version": "1.2.0",
            "_model_name": "LayoutModel",
            "_view_count": null,
            "_view_module": "@jupyter-widgets/base",
            "_view_module_version": "1.2.0",
            "_view_name": "LayoutView",
            "align_content": null,
            "align_items": null,
            "align_self": null,
            "border": null,
            "bottom": null,
            "display": null,
            "flex": null,
            "flex_flow": null,
            "grid_area": null,
            "grid_auto_columns": null,
            "grid_auto_flow": null,
            "grid_auto_rows": null,
            "grid_column": null,
            "grid_gap": null,
            "grid_row": null,
            "grid_template_areas": null,
            "grid_template_columns": null,
            "grid_template_rows": null,
            "height": null,
            "justify_content": null,
            "justify_items": null,
            "left": null,
            "margin": null,
            "max_height": null,
            "max_width": null,
            "min_height": null,
            "min_width": null,
            "object_fit": null,
            "object_position": null,
            "order": null,
            "overflow": null,
            "overflow_x": null,
            "overflow_y": null,
            "padding": null,
            "right": null,
            "top": null,
            "visibility": null,
            "width": null
          }
        },
        "828e32300b28481080a4e576db971d80": {
          "model_module": "@jupyter-widgets/base",
          "model_name": "LayoutModel",
          "model_module_version": "1.2.0",
          "state": {
            "_model_module": "@jupyter-widgets/base",
            "_model_module_version": "1.2.0",
            "_model_name": "LayoutModel",
            "_view_count": null,
            "_view_module": "@jupyter-widgets/base",
            "_view_module_version": "1.2.0",
            "_view_name": "LayoutView",
            "align_content": null,
            "align_items": null,
            "align_self": null,
            "border": null,
            "bottom": null,
            "display": null,
            "flex": null,
            "flex_flow": null,
            "grid_area": null,
            "grid_auto_columns": null,
            "grid_auto_flow": null,
            "grid_auto_rows": null,
            "grid_column": null,
            "grid_gap": null,
            "grid_row": null,
            "grid_template_areas": null,
            "grid_template_columns": null,
            "grid_template_rows": null,
            "height": null,
            "justify_content": null,
            "justify_items": null,
            "left": null,
            "margin": null,
            "max_height": null,
            "max_width": null,
            "min_height": null,
            "min_width": null,
            "object_fit": null,
            "object_position": null,
            "order": null,
            "overflow": null,
            "overflow_x": null,
            "overflow_y": null,
            "padding": null,
            "right": null,
            "top": null,
            "visibility": null,
            "width": null
          }
        },
        "73e3aacf3a4d4348a78dad68ba800558": {
          "model_module": "@jupyter-widgets/controls",
          "model_name": "DescriptionStyleModel",
          "model_module_version": "1.5.0",
          "state": {
            "_model_module": "@jupyter-widgets/controls",
            "_model_module_version": "1.5.0",
            "_model_name": "DescriptionStyleModel",
            "_view_count": null,
            "_view_module": "@jupyter-widgets/base",
            "_view_module_version": "1.2.0",
            "_view_name": "StyleView",
            "description_width": ""
          }
        },
        "1e923ee89a154d39b0a7b4d81c03d8d2": {
          "model_module": "@jupyter-widgets/base",
          "model_name": "LayoutModel",
          "model_module_version": "1.2.0",
          "state": {
            "_model_module": "@jupyter-widgets/base",
            "_model_module_version": "1.2.0",
            "_model_name": "LayoutModel",
            "_view_count": null,
            "_view_module": "@jupyter-widgets/base",
            "_view_module_version": "1.2.0",
            "_view_name": "LayoutView",
            "align_content": null,
            "align_items": null,
            "align_self": null,
            "border": null,
            "bottom": null,
            "display": null,
            "flex": null,
            "flex_flow": null,
            "grid_area": null,
            "grid_auto_columns": null,
            "grid_auto_flow": null,
            "grid_auto_rows": null,
            "grid_column": null,
            "grid_gap": null,
            "grid_row": null,
            "grid_template_areas": null,
            "grid_template_columns": null,
            "grid_template_rows": null,
            "height": null,
            "justify_content": null,
            "justify_items": null,
            "left": null,
            "margin": null,
            "max_height": null,
            "max_width": null,
            "min_height": null,
            "min_width": null,
            "object_fit": null,
            "object_position": null,
            "order": null,
            "overflow": null,
            "overflow_x": null,
            "overflow_y": null,
            "padding": null,
            "right": null,
            "top": null,
            "visibility": null,
            "width": null
          }
        },
        "6de70eebe41b4ecfb8d36297f8d73ba3": {
          "model_module": "@jupyter-widgets/controls",
          "model_name": "ProgressStyleModel",
          "model_module_version": "1.5.0",
          "state": {
            "_model_module": "@jupyter-widgets/controls",
            "_model_module_version": "1.5.0",
            "_model_name": "ProgressStyleModel",
            "_view_count": null,
            "_view_module": "@jupyter-widgets/base",
            "_view_module_version": "1.2.0",
            "_view_name": "StyleView",
            "bar_color": null,
            "description_width": ""
          }
        },
        "011c157b76a8491c80b6b41f147eecdf": {
          "model_module": "@jupyter-widgets/base",
          "model_name": "LayoutModel",
          "model_module_version": "1.2.0",
          "state": {
            "_model_module": "@jupyter-widgets/base",
            "_model_module_version": "1.2.0",
            "_model_name": "LayoutModel",
            "_view_count": null,
            "_view_module": "@jupyter-widgets/base",
            "_view_module_version": "1.2.0",
            "_view_name": "LayoutView",
            "align_content": null,
            "align_items": null,
            "align_self": null,
            "border": null,
            "bottom": null,
            "display": null,
            "flex": null,
            "flex_flow": null,
            "grid_area": null,
            "grid_auto_columns": null,
            "grid_auto_flow": null,
            "grid_auto_rows": null,
            "grid_column": null,
            "grid_gap": null,
            "grid_row": null,
            "grid_template_areas": null,
            "grid_template_columns": null,
            "grid_template_rows": null,
            "height": null,
            "justify_content": null,
            "justify_items": null,
            "left": null,
            "margin": null,
            "max_height": null,
            "max_width": null,
            "min_height": null,
            "min_width": null,
            "object_fit": null,
            "object_position": null,
            "order": null,
            "overflow": null,
            "overflow_x": null,
            "overflow_y": null,
            "padding": null,
            "right": null,
            "top": null,
            "visibility": null,
            "width": null
          }
        },
        "2386d52d7f594da2a6a018d4a98e83e9": {
          "model_module": "@jupyter-widgets/controls",
          "model_name": "DescriptionStyleModel",
          "model_module_version": "1.5.0",
          "state": {
            "_model_module": "@jupyter-widgets/controls",
            "_model_module_version": "1.5.0",
            "_model_name": "DescriptionStyleModel",
            "_view_count": null,
            "_view_module": "@jupyter-widgets/base",
            "_view_module_version": "1.2.0",
            "_view_name": "StyleView",
            "description_width": ""
          }
        },
        "0417ae21c6714da3a6ea5149837c8703": {
          "model_module": "@jupyter-widgets/controls",
          "model_name": "HBoxModel",
          "model_module_version": "1.5.0",
          "state": {
            "_dom_classes": [],
            "_model_module": "@jupyter-widgets/controls",
            "_model_module_version": "1.5.0",
            "_model_name": "HBoxModel",
            "_view_count": null,
            "_view_module": "@jupyter-widgets/controls",
            "_view_module_version": "1.5.0",
            "_view_name": "HBoxView",
            "box_style": "",
            "children": [
              "IPY_MODEL_1fe022918bd942e7850dd18bd76400f8",
              "IPY_MODEL_c375c99537e5462fa982a20fbe392af2",
              "IPY_MODEL_396255c22c574b14a96b89b7ed6fe2af"
            ],
            "layout": "IPY_MODEL_fe9872c9b6c84ee185320c7ff6238b87"
          }
        },
        "1fe022918bd942e7850dd18bd76400f8": {
          "model_module": "@jupyter-widgets/controls",
          "model_name": "HTMLModel",
          "model_module_version": "1.5.0",
          "state": {
            "_dom_classes": [],
            "_model_module": "@jupyter-widgets/controls",
            "_model_module_version": "1.5.0",
            "_model_name": "HTMLModel",
            "_view_count": null,
            "_view_module": "@jupyter-widgets/controls",
            "_view_module_version": "1.5.0",
            "_view_name": "HTMLView",
            "description": "",
            "description_tooltip": null,
            "layout": "IPY_MODEL_205b305e8b7d434f99316495840dc509",
            "placeholder": "​",
            "style": "IPY_MODEL_fca5053d78b64325a749a63a6d3ac6c4",
            "value": "vocab.txt: 100%"
          }
        },
        "c375c99537e5462fa982a20fbe392af2": {
          "model_module": "@jupyter-widgets/controls",
          "model_name": "FloatProgressModel",
          "model_module_version": "1.5.0",
          "state": {
            "_dom_classes": [],
            "_model_module": "@jupyter-widgets/controls",
            "_model_module_version": "1.5.0",
            "_model_name": "FloatProgressModel",
            "_view_count": null,
            "_view_module": "@jupyter-widgets/controls",
            "_view_module_version": "1.5.0",
            "_view_name": "ProgressView",
            "bar_style": "success",
            "description": "",
            "description_tooltip": null,
            "layout": "IPY_MODEL_ac6de97182e9413db846769ce14d87f9",
            "max": 231508,
            "min": 0,
            "orientation": "horizontal",
            "style": "IPY_MODEL_044b3226abb045f8a60e26ecc4dd5700",
            "value": 231508
          }
        },
        "396255c22c574b14a96b89b7ed6fe2af": {
          "model_module": "@jupyter-widgets/controls",
          "model_name": "HTMLModel",
          "model_module_version": "1.5.0",
          "state": {
            "_dom_classes": [],
            "_model_module": "@jupyter-widgets/controls",
            "_model_module_version": "1.5.0",
            "_model_name": "HTMLModel",
            "_view_count": null,
            "_view_module": "@jupyter-widgets/controls",
            "_view_module_version": "1.5.0",
            "_view_name": "HTMLView",
            "description": "",
            "description_tooltip": null,
            "layout": "IPY_MODEL_578f4f488cfa42bd93a1bcd97b80bcec",
            "placeholder": "​",
            "style": "IPY_MODEL_6d093c4f433a443e836028f57692c569",
            "value": " 232k/232k [00:00&lt;00:00, 9.39MB/s]"
          }
        },
        "fe9872c9b6c84ee185320c7ff6238b87": {
          "model_module": "@jupyter-widgets/base",
          "model_name": "LayoutModel",
          "model_module_version": "1.2.0",
          "state": {
            "_model_module": "@jupyter-widgets/base",
            "_model_module_version": "1.2.0",
            "_model_name": "LayoutModel",
            "_view_count": null,
            "_view_module": "@jupyter-widgets/base",
            "_view_module_version": "1.2.0",
            "_view_name": "LayoutView",
            "align_content": null,
            "align_items": null,
            "align_self": null,
            "border": null,
            "bottom": null,
            "display": null,
            "flex": null,
            "flex_flow": null,
            "grid_area": null,
            "grid_auto_columns": null,
            "grid_auto_flow": null,
            "grid_auto_rows": null,
            "grid_column": null,
            "grid_gap": null,
            "grid_row": null,
            "grid_template_areas": null,
            "grid_template_columns": null,
            "grid_template_rows": null,
            "height": null,
            "justify_content": null,
            "justify_items": null,
            "left": null,
            "margin": null,
            "max_height": null,
            "max_width": null,
            "min_height": null,
            "min_width": null,
            "object_fit": null,
            "object_position": null,
            "order": null,
            "overflow": null,
            "overflow_x": null,
            "overflow_y": null,
            "padding": null,
            "right": null,
            "top": null,
            "visibility": null,
            "width": null
          }
        },
        "205b305e8b7d434f99316495840dc509": {
          "model_module": "@jupyter-widgets/base",
          "model_name": "LayoutModel",
          "model_module_version": "1.2.0",
          "state": {
            "_model_module": "@jupyter-widgets/base",
            "_model_module_version": "1.2.0",
            "_model_name": "LayoutModel",
            "_view_count": null,
            "_view_module": "@jupyter-widgets/base",
            "_view_module_version": "1.2.0",
            "_view_name": "LayoutView",
            "align_content": null,
            "align_items": null,
            "align_self": null,
            "border": null,
            "bottom": null,
            "display": null,
            "flex": null,
            "flex_flow": null,
            "grid_area": null,
            "grid_auto_columns": null,
            "grid_auto_flow": null,
            "grid_auto_rows": null,
            "grid_column": null,
            "grid_gap": null,
            "grid_row": null,
            "grid_template_areas": null,
            "grid_template_columns": null,
            "grid_template_rows": null,
            "height": null,
            "justify_content": null,
            "justify_items": null,
            "left": null,
            "margin": null,
            "max_height": null,
            "max_width": null,
            "min_height": null,
            "min_width": null,
            "object_fit": null,
            "object_position": null,
            "order": null,
            "overflow": null,
            "overflow_x": null,
            "overflow_y": null,
            "padding": null,
            "right": null,
            "top": null,
            "visibility": null,
            "width": null
          }
        },
        "fca5053d78b64325a749a63a6d3ac6c4": {
          "model_module": "@jupyter-widgets/controls",
          "model_name": "DescriptionStyleModel",
          "model_module_version": "1.5.0",
          "state": {
            "_model_module": "@jupyter-widgets/controls",
            "_model_module_version": "1.5.0",
            "_model_name": "DescriptionStyleModel",
            "_view_count": null,
            "_view_module": "@jupyter-widgets/base",
            "_view_module_version": "1.2.0",
            "_view_name": "StyleView",
            "description_width": ""
          }
        },
        "ac6de97182e9413db846769ce14d87f9": {
          "model_module": "@jupyter-widgets/base",
          "model_name": "LayoutModel",
          "model_module_version": "1.2.0",
          "state": {
            "_model_module": "@jupyter-widgets/base",
            "_model_module_version": "1.2.0",
            "_model_name": "LayoutModel",
            "_view_count": null,
            "_view_module": "@jupyter-widgets/base",
            "_view_module_version": "1.2.0",
            "_view_name": "LayoutView",
            "align_content": null,
            "align_items": null,
            "align_self": null,
            "border": null,
            "bottom": null,
            "display": null,
            "flex": null,
            "flex_flow": null,
            "grid_area": null,
            "grid_auto_columns": null,
            "grid_auto_flow": null,
            "grid_auto_rows": null,
            "grid_column": null,
            "grid_gap": null,
            "grid_row": null,
            "grid_template_areas": null,
            "grid_template_columns": null,
            "grid_template_rows": null,
            "height": null,
            "justify_content": null,
            "justify_items": null,
            "left": null,
            "margin": null,
            "max_height": null,
            "max_width": null,
            "min_height": null,
            "min_width": null,
            "object_fit": null,
            "object_position": null,
            "order": null,
            "overflow": null,
            "overflow_x": null,
            "overflow_y": null,
            "padding": null,
            "right": null,
            "top": null,
            "visibility": null,
            "width": null
          }
        },
        "044b3226abb045f8a60e26ecc4dd5700": {
          "model_module": "@jupyter-widgets/controls",
          "model_name": "ProgressStyleModel",
          "model_module_version": "1.5.0",
          "state": {
            "_model_module": "@jupyter-widgets/controls",
            "_model_module_version": "1.5.0",
            "_model_name": "ProgressStyleModel",
            "_view_count": null,
            "_view_module": "@jupyter-widgets/base",
            "_view_module_version": "1.2.0",
            "_view_name": "StyleView",
            "bar_color": null,
            "description_width": ""
          }
        },
        "578f4f488cfa42bd93a1bcd97b80bcec": {
          "model_module": "@jupyter-widgets/base",
          "model_name": "LayoutModel",
          "model_module_version": "1.2.0",
          "state": {
            "_model_module": "@jupyter-widgets/base",
            "_model_module_version": "1.2.0",
            "_model_name": "LayoutModel",
            "_view_count": null,
            "_view_module": "@jupyter-widgets/base",
            "_view_module_version": "1.2.0",
            "_view_name": "LayoutView",
            "align_content": null,
            "align_items": null,
            "align_self": null,
            "border": null,
            "bottom": null,
            "display": null,
            "flex": null,
            "flex_flow": null,
            "grid_area": null,
            "grid_auto_columns": null,
            "grid_auto_flow": null,
            "grid_auto_rows": null,
            "grid_column": null,
            "grid_gap": null,
            "grid_row": null,
            "grid_template_areas": null,
            "grid_template_columns": null,
            "grid_template_rows": null,
            "height": null,
            "justify_content": null,
            "justify_items": null,
            "left": null,
            "margin": null,
            "max_height": null,
            "max_width": null,
            "min_height": null,
            "min_width": null,
            "object_fit": null,
            "object_position": null,
            "order": null,
            "overflow": null,
            "overflow_x": null,
            "overflow_y": null,
            "padding": null,
            "right": null,
            "top": null,
            "visibility": null,
            "width": null
          }
        },
        "6d093c4f433a443e836028f57692c569": {
          "model_module": "@jupyter-widgets/controls",
          "model_name": "DescriptionStyleModel",
          "model_module_version": "1.5.0",
          "state": {
            "_model_module": "@jupyter-widgets/controls",
            "_model_module_version": "1.5.0",
            "_model_name": "DescriptionStyleModel",
            "_view_count": null,
            "_view_module": "@jupyter-widgets/base",
            "_view_module_version": "1.2.0",
            "_view_name": "StyleView",
            "description_width": ""
          }
        },
        "6b3a19e2841040339bfb802bd7b5f2ca": {
          "model_module": "@jupyter-widgets/controls",
          "model_name": "HBoxModel",
          "model_module_version": "1.5.0",
          "state": {
            "_dom_classes": [],
            "_model_module": "@jupyter-widgets/controls",
            "_model_module_version": "1.5.0",
            "_model_name": "HBoxModel",
            "_view_count": null,
            "_view_module": "@jupyter-widgets/controls",
            "_view_module_version": "1.5.0",
            "_view_name": "HBoxView",
            "box_style": "",
            "children": [
              "IPY_MODEL_7c22147f9a394797beccf1e0563c25aa",
              "IPY_MODEL_53e2376bab24437c8930498b2dec9327",
              "IPY_MODEL_5366411956be4ba4a040a0a5ff7109cf"
            ],
            "layout": "IPY_MODEL_4eea2e7b3cfe47df87e1c9a9c4a2a537"
          }
        },
        "7c22147f9a394797beccf1e0563c25aa": {
          "model_module": "@jupyter-widgets/controls",
          "model_name": "HTMLModel",
          "model_module_version": "1.5.0",
          "state": {
            "_dom_classes": [],
            "_model_module": "@jupyter-widgets/controls",
            "_model_module_version": "1.5.0",
            "_model_name": "HTMLModel",
            "_view_count": null,
            "_view_module": "@jupyter-widgets/controls",
            "_view_module_version": "1.5.0",
            "_view_name": "HTMLView",
            "description": "",
            "description_tooltip": null,
            "layout": "IPY_MODEL_f17da8e59876427ba6d22f8d17037249",
            "placeholder": "​",
            "style": "IPY_MODEL_15f3d62c26304209a2caa71063931703",
            "value": "config.json: 100%"
          }
        },
        "53e2376bab24437c8930498b2dec9327": {
          "model_module": "@jupyter-widgets/controls",
          "model_name": "FloatProgressModel",
          "model_module_version": "1.5.0",
          "state": {
            "_dom_classes": [],
            "_model_module": "@jupyter-widgets/controls",
            "_model_module_version": "1.5.0",
            "_model_name": "FloatProgressModel",
            "_view_count": null,
            "_view_module": "@jupyter-widgets/controls",
            "_view_module_version": "1.5.0",
            "_view_name": "ProgressView",
            "bar_style": "success",
            "description": "",
            "description_tooltip": null,
            "layout": "IPY_MODEL_7a60312b997f46de8f2ef732869636e8",
            "max": 385,
            "min": 0,
            "orientation": "horizontal",
            "style": "IPY_MODEL_1f3fc7d61bd34740b907b098c56ed720",
            "value": 385
          }
        },
        "5366411956be4ba4a040a0a5ff7109cf": {
          "model_module": "@jupyter-widgets/controls",
          "model_name": "HTMLModel",
          "model_module_version": "1.5.0",
          "state": {
            "_dom_classes": [],
            "_model_module": "@jupyter-widgets/controls",
            "_model_module_version": "1.5.0",
            "_model_name": "HTMLModel",
            "_view_count": null,
            "_view_module": "@jupyter-widgets/controls",
            "_view_module_version": "1.5.0",
            "_view_name": "HTMLView",
            "description": "",
            "description_tooltip": null,
            "layout": "IPY_MODEL_ab6db814f348462cb223e7338dc4fdda",
            "placeholder": "​",
            "style": "IPY_MODEL_acfe1ef6d05341ca9ba79226de5bc14b",
            "value": " 385/385 [00:00&lt;00:00, 35.1kB/s]"
          }
        },
        "4eea2e7b3cfe47df87e1c9a9c4a2a537": {
          "model_module": "@jupyter-widgets/base",
          "model_name": "LayoutModel",
          "model_module_version": "1.2.0",
          "state": {
            "_model_module": "@jupyter-widgets/base",
            "_model_module_version": "1.2.0",
            "_model_name": "LayoutModel",
            "_view_count": null,
            "_view_module": "@jupyter-widgets/base",
            "_view_module_version": "1.2.0",
            "_view_name": "LayoutView",
            "align_content": null,
            "align_items": null,
            "align_self": null,
            "border": null,
            "bottom": null,
            "display": null,
            "flex": null,
            "flex_flow": null,
            "grid_area": null,
            "grid_auto_columns": null,
            "grid_auto_flow": null,
            "grid_auto_rows": null,
            "grid_column": null,
            "grid_gap": null,
            "grid_row": null,
            "grid_template_areas": null,
            "grid_template_columns": null,
            "grid_template_rows": null,
            "height": null,
            "justify_content": null,
            "justify_items": null,
            "left": null,
            "margin": null,
            "max_height": null,
            "max_width": null,
            "min_height": null,
            "min_width": null,
            "object_fit": null,
            "object_position": null,
            "order": null,
            "overflow": null,
            "overflow_x": null,
            "overflow_y": null,
            "padding": null,
            "right": null,
            "top": null,
            "visibility": null,
            "width": null
          }
        },
        "f17da8e59876427ba6d22f8d17037249": {
          "model_module": "@jupyter-widgets/base",
          "model_name": "LayoutModel",
          "model_module_version": "1.2.0",
          "state": {
            "_model_module": "@jupyter-widgets/base",
            "_model_module_version": "1.2.0",
            "_model_name": "LayoutModel",
            "_view_count": null,
            "_view_module": "@jupyter-widgets/base",
            "_view_module_version": "1.2.0",
            "_view_name": "LayoutView",
            "align_content": null,
            "align_items": null,
            "align_self": null,
            "border": null,
            "bottom": null,
            "display": null,
            "flex": null,
            "flex_flow": null,
            "grid_area": null,
            "grid_auto_columns": null,
            "grid_auto_flow": null,
            "grid_auto_rows": null,
            "grid_column": null,
            "grid_gap": null,
            "grid_row": null,
            "grid_template_areas": null,
            "grid_template_columns": null,
            "grid_template_rows": null,
            "height": null,
            "justify_content": null,
            "justify_items": null,
            "left": null,
            "margin": null,
            "max_height": null,
            "max_width": null,
            "min_height": null,
            "min_width": null,
            "object_fit": null,
            "object_position": null,
            "order": null,
            "overflow": null,
            "overflow_x": null,
            "overflow_y": null,
            "padding": null,
            "right": null,
            "top": null,
            "visibility": null,
            "width": null
          }
        },
        "15f3d62c26304209a2caa71063931703": {
          "model_module": "@jupyter-widgets/controls",
          "model_name": "DescriptionStyleModel",
          "model_module_version": "1.5.0",
          "state": {
            "_model_module": "@jupyter-widgets/controls",
            "_model_module_version": "1.5.0",
            "_model_name": "DescriptionStyleModel",
            "_view_count": null,
            "_view_module": "@jupyter-widgets/base",
            "_view_module_version": "1.2.0",
            "_view_name": "StyleView",
            "description_width": ""
          }
        },
        "7a60312b997f46de8f2ef732869636e8": {
          "model_module": "@jupyter-widgets/base",
          "model_name": "LayoutModel",
          "model_module_version": "1.2.0",
          "state": {
            "_model_module": "@jupyter-widgets/base",
            "_model_module_version": "1.2.0",
            "_model_name": "LayoutModel",
            "_view_count": null,
            "_view_module": "@jupyter-widgets/base",
            "_view_module_version": "1.2.0",
            "_view_name": "LayoutView",
            "align_content": null,
            "align_items": null,
            "align_self": null,
            "border": null,
            "bottom": null,
            "display": null,
            "flex": null,
            "flex_flow": null,
            "grid_area": null,
            "grid_auto_columns": null,
            "grid_auto_flow": null,
            "grid_auto_rows": null,
            "grid_column": null,
            "grid_gap": null,
            "grid_row": null,
            "grid_template_areas": null,
            "grid_template_columns": null,
            "grid_template_rows": null,
            "height": null,
            "justify_content": null,
            "justify_items": null,
            "left": null,
            "margin": null,
            "max_height": null,
            "max_width": null,
            "min_height": null,
            "min_width": null,
            "object_fit": null,
            "object_position": null,
            "order": null,
            "overflow": null,
            "overflow_x": null,
            "overflow_y": null,
            "padding": null,
            "right": null,
            "top": null,
            "visibility": null,
            "width": null
          }
        },
        "1f3fc7d61bd34740b907b098c56ed720": {
          "model_module": "@jupyter-widgets/controls",
          "model_name": "ProgressStyleModel",
          "model_module_version": "1.5.0",
          "state": {
            "_model_module": "@jupyter-widgets/controls",
            "_model_module_version": "1.5.0",
            "_model_name": "ProgressStyleModel",
            "_view_count": null,
            "_view_module": "@jupyter-widgets/base",
            "_view_module_version": "1.2.0",
            "_view_name": "StyleView",
            "bar_color": null,
            "description_width": ""
          }
        },
        "ab6db814f348462cb223e7338dc4fdda": {
          "model_module": "@jupyter-widgets/base",
          "model_name": "LayoutModel",
          "model_module_version": "1.2.0",
          "state": {
            "_model_module": "@jupyter-widgets/base",
            "_model_module_version": "1.2.0",
            "_model_name": "LayoutModel",
            "_view_count": null,
            "_view_module": "@jupyter-widgets/base",
            "_view_module_version": "1.2.0",
            "_view_name": "LayoutView",
            "align_content": null,
            "align_items": null,
            "align_self": null,
            "border": null,
            "bottom": null,
            "display": null,
            "flex": null,
            "flex_flow": null,
            "grid_area": null,
            "grid_auto_columns": null,
            "grid_auto_flow": null,
            "grid_auto_rows": null,
            "grid_column": null,
            "grid_gap": null,
            "grid_row": null,
            "grid_template_areas": null,
            "grid_template_columns": null,
            "grid_template_rows": null,
            "height": null,
            "justify_content": null,
            "justify_items": null,
            "left": null,
            "margin": null,
            "max_height": null,
            "max_width": null,
            "min_height": null,
            "min_width": null,
            "object_fit": null,
            "object_position": null,
            "order": null,
            "overflow": null,
            "overflow_x": null,
            "overflow_y": null,
            "padding": null,
            "right": null,
            "top": null,
            "visibility": null,
            "width": null
          }
        },
        "acfe1ef6d05341ca9ba79226de5bc14b": {
          "model_module": "@jupyter-widgets/controls",
          "model_name": "DescriptionStyleModel",
          "model_module_version": "1.5.0",
          "state": {
            "_model_module": "@jupyter-widgets/controls",
            "_model_module_version": "1.5.0",
            "_model_name": "DescriptionStyleModel",
            "_view_count": null,
            "_view_module": "@jupyter-widgets/base",
            "_view_module_version": "1.2.0",
            "_view_name": "StyleView",
            "description_width": ""
          }
        },
        "1abac789bf564448bc1da4dc0ed27912": {
          "model_module": "@jupyter-widgets/controls",
          "model_name": "HBoxModel",
          "model_module_version": "1.5.0",
          "state": {
            "_dom_classes": [],
            "_model_module": "@jupyter-widgets/controls",
            "_model_module_version": "1.5.0",
            "_model_name": "HBoxModel",
            "_view_count": null,
            "_view_module": "@jupyter-widgets/controls",
            "_view_module_version": "1.5.0",
            "_view_name": "HBoxView",
            "box_style": "",
            "children": [
              "IPY_MODEL_a81da02748654f11b5d46e1fe5eb685b",
              "IPY_MODEL_efa90e0d6ff94c06adb586c676053f7d",
              "IPY_MODEL_6c4ee28c34b746ceb2508552da55491d"
            ],
            "layout": "IPY_MODEL_05a545cdbfe340739f026034fc44c816"
          }
        },
        "a81da02748654f11b5d46e1fe5eb685b": {
          "model_module": "@jupyter-widgets/controls",
          "model_name": "HTMLModel",
          "model_module_version": "1.5.0",
          "state": {
            "_dom_classes": [],
            "_model_module": "@jupyter-widgets/controls",
            "_model_module_version": "1.5.0",
            "_model_name": "HTMLModel",
            "_view_count": null,
            "_view_module": "@jupyter-widgets/controls",
            "_view_module_version": "1.5.0",
            "_view_name": "HTMLView",
            "description": "",
            "description_tooltip": null,
            "layout": "IPY_MODEL_3e693c67d752482b93f15da19a4b8f27",
            "placeholder": "​",
            "style": "IPY_MODEL_43f974a7564245c7b7cdfa3346249703",
            "value": "model.safetensors:   0%"
          }
        },
        "efa90e0d6ff94c06adb586c676053f7d": {
          "model_module": "@jupyter-widgets/controls",
          "model_name": "FloatProgressModel",
          "model_module_version": "1.5.0",
          "state": {
            "_dom_classes": [],
            "_model_module": "@jupyter-widgets/controls",
            "_model_module_version": "1.5.0",
            "_model_name": "FloatProgressModel",
            "_view_count": null,
            "_view_module": "@jupyter-widgets/controls",
            "_view_module_version": "1.5.0",
            "_view_name": "ProgressView",
            "bar_style": "",
            "description": "",
            "description_tooltip": null,
            "layout": "IPY_MODEL_d57d3ffda44541458186f6d9f0e2ff40",
            "max": 270329664,
            "min": 0,
            "orientation": "horizontal",
            "style": "IPY_MODEL_ecd33c9093b14d048b1fc9b0e0ffe938",
            "value": 0
          }
        },
        "6c4ee28c34b746ceb2508552da55491d": {
          "model_module": "@jupyter-widgets/controls",
          "model_name": "HTMLModel",
          "model_module_version": "1.5.0",
          "state": {
            "_dom_classes": [],
            "_model_module": "@jupyter-widgets/controls",
            "_model_module_version": "1.5.0",
            "_model_name": "HTMLModel",
            "_view_count": null,
            "_view_module": "@jupyter-widgets/controls",
            "_view_module_version": "1.5.0",
            "_view_name": "HTMLView",
            "description": "",
            "description_tooltip": null,
            "layout": "IPY_MODEL_d7c129007121474cb339bf570a012db8",
            "placeholder": "​",
            "style": "IPY_MODEL_4b62ae647a254ce49b1e15f303630788",
            "value": " 0.00/270M [00:00&lt;?, ?B/s]"
          }
        },
        "05a545cdbfe340739f026034fc44c816": {
          "model_module": "@jupyter-widgets/base",
          "model_name": "LayoutModel",
          "model_module_version": "1.2.0",
          "state": {
            "_model_module": "@jupyter-widgets/base",
            "_model_module_version": "1.2.0",
            "_model_name": "LayoutModel",
            "_view_count": null,
            "_view_module": "@jupyter-widgets/base",
            "_view_module_version": "1.2.0",
            "_view_name": "LayoutView",
            "align_content": null,
            "align_items": null,
            "align_self": null,
            "border": null,
            "bottom": null,
            "display": null,
            "flex": null,
            "flex_flow": null,
            "grid_area": null,
            "grid_auto_columns": null,
            "grid_auto_flow": null,
            "grid_auto_rows": null,
            "grid_column": null,
            "grid_gap": null,
            "grid_row": null,
            "grid_template_areas": null,
            "grid_template_columns": null,
            "grid_template_rows": null,
            "height": null,
            "justify_content": null,
            "justify_items": null,
            "left": null,
            "margin": null,
            "max_height": null,
            "max_width": null,
            "min_height": null,
            "min_width": null,
            "object_fit": null,
            "object_position": null,
            "order": null,
            "overflow": null,
            "overflow_x": null,
            "overflow_y": null,
            "padding": null,
            "right": null,
            "top": null,
            "visibility": null,
            "width": null
          }
        },
        "3e693c67d752482b93f15da19a4b8f27": {
          "model_module": "@jupyter-widgets/base",
          "model_name": "LayoutModel",
          "model_module_version": "1.2.0",
          "state": {
            "_model_module": "@jupyter-widgets/base",
            "_model_module_version": "1.2.0",
            "_model_name": "LayoutModel",
            "_view_count": null,
            "_view_module": "@jupyter-widgets/base",
            "_view_module_version": "1.2.0",
            "_view_name": "LayoutView",
            "align_content": null,
            "align_items": null,
            "align_self": null,
            "border": null,
            "bottom": null,
            "display": null,
            "flex": null,
            "flex_flow": null,
            "grid_area": null,
            "grid_auto_columns": null,
            "grid_auto_flow": null,
            "grid_auto_rows": null,
            "grid_column": null,
            "grid_gap": null,
            "grid_row": null,
            "grid_template_areas": null,
            "grid_template_columns": null,
            "grid_template_rows": null,
            "height": null,
            "justify_content": null,
            "justify_items": null,
            "left": null,
            "margin": null,
            "max_height": null,
            "max_width": null,
            "min_height": null,
            "min_width": null,
            "object_fit": null,
            "object_position": null,
            "order": null,
            "overflow": null,
            "overflow_x": null,
            "overflow_y": null,
            "padding": null,
            "right": null,
            "top": null,
            "visibility": null,
            "width": null
          }
        },
        "43f974a7564245c7b7cdfa3346249703": {
          "model_module": "@jupyter-widgets/controls",
          "model_name": "DescriptionStyleModel",
          "model_module_version": "1.5.0",
          "state": {
            "_model_module": "@jupyter-widgets/controls",
            "_model_module_version": "1.5.0",
            "_model_name": "DescriptionStyleModel",
            "_view_count": null,
            "_view_module": "@jupyter-widgets/base",
            "_view_module_version": "1.2.0",
            "_view_name": "StyleView",
            "description_width": ""
          }
        },
        "d57d3ffda44541458186f6d9f0e2ff40": {
          "model_module": "@jupyter-widgets/base",
          "model_name": "LayoutModel",
          "model_module_version": "1.2.0",
          "state": {
            "_model_module": "@jupyter-widgets/base",
            "_model_module_version": "1.2.0",
            "_model_name": "LayoutModel",
            "_view_count": null,
            "_view_module": "@jupyter-widgets/base",
            "_view_module_version": "1.2.0",
            "_view_name": "LayoutView",
            "align_content": null,
            "align_items": null,
            "align_self": null,
            "border": null,
            "bottom": null,
            "display": null,
            "flex": null,
            "flex_flow": null,
            "grid_area": null,
            "grid_auto_columns": null,
            "grid_auto_flow": null,
            "grid_auto_rows": null,
            "grid_column": null,
            "grid_gap": null,
            "grid_row": null,
            "grid_template_areas": null,
            "grid_template_columns": null,
            "grid_template_rows": null,
            "height": null,
            "justify_content": null,
            "justify_items": null,
            "left": null,
            "margin": null,
            "max_height": null,
            "max_width": null,
            "min_height": null,
            "min_width": null,
            "object_fit": null,
            "object_position": null,
            "order": null,
            "overflow": null,
            "overflow_x": null,
            "overflow_y": null,
            "padding": null,
            "right": null,
            "top": null,
            "visibility": null,
            "width": null
          }
        },
        "ecd33c9093b14d048b1fc9b0e0ffe938": {
          "model_module": "@jupyter-widgets/controls",
          "model_name": "ProgressStyleModel",
          "model_module_version": "1.5.0",
          "state": {
            "_model_module": "@jupyter-widgets/controls",
            "_model_module_version": "1.5.0",
            "_model_name": "ProgressStyleModel",
            "_view_count": null,
            "_view_module": "@jupyter-widgets/base",
            "_view_module_version": "1.2.0",
            "_view_name": "StyleView",
            "bar_color": null,
            "description_width": ""
          }
        },
        "d7c129007121474cb339bf570a012db8": {
          "model_module": "@jupyter-widgets/base",
          "model_name": "LayoutModel",
          "model_module_version": "1.2.0",
          "state": {
            "_model_module": "@jupyter-widgets/base",
            "_model_module_version": "1.2.0",
            "_model_name": "LayoutModel",
            "_view_count": null,
            "_view_module": "@jupyter-widgets/base",
            "_view_module_version": "1.2.0",
            "_view_name": "LayoutView",
            "align_content": null,
            "align_items": null,
            "align_self": null,
            "border": null,
            "bottom": null,
            "display": null,
            "flex": null,
            "flex_flow": null,
            "grid_area": null,
            "grid_auto_columns": null,
            "grid_auto_flow": null,
            "grid_auto_rows": null,
            "grid_column": null,
            "grid_gap": null,
            "grid_row": null,
            "grid_template_areas": null,
            "grid_template_columns": null,
            "grid_template_rows": null,
            "height": null,
            "justify_content": null,
            "justify_items": null,
            "left": null,
            "margin": null,
            "max_height": null,
            "max_width": null,
            "min_height": null,
            "min_width": null,
            "object_fit": null,
            "object_position": null,
            "order": null,
            "overflow": null,
            "overflow_x": null,
            "overflow_y": null,
            "padding": null,
            "right": null,
            "top": null,
            "visibility": null,
            "width": null
          }
        },
        "4b62ae647a254ce49b1e15f303630788": {
          "model_module": "@jupyter-widgets/controls",
          "model_name": "DescriptionStyleModel",
          "model_module_version": "1.5.0",
          "state": {
            "_model_module": "@jupyter-widgets/controls",
            "_model_module_version": "1.5.0",
            "_model_name": "DescriptionStyleModel",
            "_view_count": null,
            "_view_module": "@jupyter-widgets/base",
            "_view_module_version": "1.2.0",
            "_view_name": "StyleView",
            "description_width": ""
          }
        }
      }
    }
  },
  "nbformat": 4,
  "nbformat_minor": 0
}